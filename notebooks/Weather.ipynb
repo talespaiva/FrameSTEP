{
 "cells": [
  {
   "cell_type": "code",
   "execution_count": 1,
   "metadata": {
    "collapsed": false
   },
   "outputs": [
    {
     "ename": "ImportError",
     "evalue": "No module named 'gpxpy'",
     "output_type": "error",
     "traceback": [
      "\u001b[0;31m---------------------------------------------------------------------------\u001b[0m",
      "\u001b[0;31mImportError\u001b[0m                               Traceback (most recent call last)",
      "\u001b[0;32m<ipython-input-1-009a66b3e189>\u001b[0m in \u001b[0;36m<module>\u001b[0;34m()\u001b[0m\n\u001b[1;32m      1\u001b[0m \u001b[1;32mimport\u001b[0m \u001b[0mjson\u001b[0m\u001b[1;33m\u001b[0m\u001b[0m\n\u001b[0;32m----> 2\u001b[0;31m \u001b[1;32mimport\u001b[0m \u001b[0mgpxpy\u001b[0m\u001b[1;33m\u001b[0m\u001b[0m\n\u001b[0m\u001b[1;32m      3\u001b[0m \u001b[1;32mimport\u001b[0m \u001b[0mpandas\u001b[0m \u001b[1;32mas\u001b[0m \u001b[0mpnd\u001b[0m\u001b[1;33m\u001b[0m\u001b[0m\n\u001b[1;32m      4\u001b[0m \u001b[1;32mimport\u001b[0m \u001b[0mnumpy\u001b[0m \u001b[1;32mas\u001b[0m \u001b[0mnp\u001b[0m\u001b[1;33m\u001b[0m\u001b[0m\n\u001b[1;32m      5\u001b[0m \u001b[1;32mimport\u001b[0m \u001b[0mrdflib\u001b[0m\u001b[1;33m\u001b[0m\u001b[0m\n",
      "\u001b[0;31mImportError\u001b[0m: No module named 'gpxpy'"
     ]
    }
   ],
   "source": [
    "import json\n",
    "import gpxpy\n",
    "import pandas as pnd\n",
    "import numpy as np\n",
    "import rdflib\n",
    "\n",
    "import folium\n",
    "import geojson\n",
    "\n",
    "import matplotlib\n",
    "import matplotlib.pyplot as plt\n",
    "import seaborn as sns\n",
    "\n",
    "from preprocess import myplot\n",
    "\n",
    "import requests"
   ]
  },
  {
   "cell_type": "code",
   "execution_count": 2,
   "metadata": {
    "collapsed": false
   },
   "outputs": [],
   "source": [
    "%load_ext autoreload\n",
    "%autoreload 2\n",
    "\n",
    "%matplotlib notebook\n",
    "matplotlib.rcParams['axes.labelsize'] = 'large'\n",
    "matplotlib.rcParams['ytick.labelsize'] = 'medium'\n",
    "matplotlib.rcParams['xtick.labelsize'] = 'medium'\n",
    "matplotlib.rcParams['legend.fancybox'] = True\n",
    "matplotlib.rcParams['figure.figsize'] = (7, 5)\n",
    "sns.set_style('whitegrid')\n",
    "\n",
    "requests.packages.urllib3.disable_warnings()"
   ]
  },
  {
   "cell_type": "code",
   "execution_count": 3,
   "metadata": {
    "collapsed": false
   },
   "outputs": [
    {
     "name": "stdout",
     "output_type": "stream",
     "text": [
      "7 C:\\DATA\\MapMyRun\\Grenoble\\27031614\\16_16_Run _ Jog\\728010151.gpx\n",
      "4 C:\\DATA\\MapMyRun\\Grenoble\\27031614\\16_283_Easy _ General\\1223879101.gpx\n",
      "2 C:\\DATA\\MapMyRun\\Grenoble\\37695677\\16_16_Run _ Jog\\1007756961.gpx\n",
      "6 C:\\DATA\\MapMyRun\\Grenoble\\41837719\\16_16_Run _ Jog\\1234176355.gpx\n",
      "1 C:\\DATA\\MapMyRun\\Grenoble\\40890583\\16_16_Run _ Jog\\950590555.gpx\n",
      "3 C:\\DATA\\MapMyRun\\Grenoble\\49996348\\16_16_Run _ Jog\\1079694145.gpx\n",
      "5 C:\\DATA\\MapMyRun\\Grenoble\\41837719\\16_16_Run _ Jog\\1320895325.gpx\n"
     ]
    }
   ],
   "source": [
    "tracks = {'1': r'C:\\DATA\\MapMyRun\\Grenoble\\40890583\\16_16_Run _ Jog\\950590555.gpx',\n",
    "            '2': r'C:\\DATA\\MapMyRun\\Grenoble\\37695677\\16_16_Run _ Jog\\1007756961.gpx',\n",
    "            '3': r'C:\\DATA\\MapMyRun\\Grenoble\\49996348\\16_16_Run _ Jog\\1079694145.gpx',\n",
    "            '4': r'C:\\DATA\\MapMyRun\\Grenoble\\27031614\\16_283_Easy _ General\\1223879101.gpx',\n",
    "            '5': r'C:\\DATA\\MapMyRun\\Grenoble\\41837719\\16_16_Run _ Jog\\1320895325.gpx',\n",
    "            '6': r'C:\\DATA\\MapMyRun\\Grenoble\\41837719\\16_16_Run _ Jog\\1234176355.gpx',\n",
    "            '7': r'C:\\DATA\\MapMyRun\\Grenoble\\27031614\\16_16_Run _ Jog\\728010151.gpx'}\n",
    "            \n",
    "gpx = {}\n",
    "dataframes = {}\n",
    "\n",
    "for key, path in tracks.items():\n",
    "    print(key, path)\n",
    "    g = gpxpy.parse(open(path, 'r'))\n",
    "    gpx.update({key: g})"
   ]
  },
  {
   "cell_type": "code",
   "execution_count": 4,
   "metadata": {
    "collapsed": true
   },
   "outputs": [],
   "source": [
    "dict_id = '3'"
   ]
  },
  {
   "cell_type": "code",
   "execution_count": 5,
   "metadata": {
    "collapsed": false
   },
   "outputs": [],
   "source": [
    "#myplot.plot_map(gpx[dict_id])"
   ]
  },
  {
   "cell_type": "code",
   "execution_count": 6,
   "metadata": {
    "collapsed": false
   },
   "outputs": [],
   "source": [
    "points_data = gpx[dict_id].get_points_data()\n",
    "first_point = points_data[0].point\n",
    "coords = str(first_point.latitude) + ', ' + str(first_point.longitude)\n",
    "trajectory_date = first_point.time\n",
    "starting_day = \"{}-{}-{}\".format(trajectory_date.year, trajectory_date.month, trajectory_date.day)\n",
    "starting_hour = trajectory_date.hour"
   ]
  },
  {
   "cell_type": "markdown",
   "metadata": {},
   "source": [
    "# Weather Annotation"
   ]
  },
  {
   "cell_type": "markdown",
   "metadata": {},
   "source": [
    "_PremiumApiKey = '5261d6e39eae4d8f8eb152732160804'\n",
    "_PremiumApiBaseURL = 'http://api.worldweatheronline.com/premium/v1/'\n",
    "#url = _PremiumApiBaseURL + 'weather.ashx' \n",
    "url = _PremiumApiBaseURL + 'past-weather.ashx'"
   ]
  },
  {
   "cell_type": "markdown",
   "metadata": {},
   "source": [
    "q = coords\n",
    "date = starting_day\n",
    "\n",
    "#Switch between weather forecast time interval from 1 hourly, 3 hourly, 6 hourly, \n",
    "#12 hourly (day/night) or 24 hourly (day average). E.g:- tp=24 or tp=12 or tp=6 or tp=3 or tp=1\n",
    "tp = '1'\n",
    "\n",
    "parameters = {'q': q, 'format': 'JSON', 'date': date, 'tp': tp, 'key': _PremiumApiKey}\n",
    "r = requests.get(url, params=parameters)\n",
    "print r.url"
   ]
  },
  {
   "cell_type": "code",
   "execution_count": 7,
   "metadata": {
    "collapsed": false
   },
   "outputs": [],
   "source": [
    "#response = json.loads(r.content)\n",
    "response = json.load(open(r\"C:\\DATA\\weather 49996348 16_16_Run _ Jog 1079694145.json\", 'r'))\n",
    "#response"
   ]
  },
  {
   "cell_type": "code",
   "execution_count": 8,
   "metadata": {
    "collapsed": false
   },
   "outputs": [
    {
     "name": "stdout",
     "output_type": "stream",
     "text": [
      "time: 1700\n",
      "tempC: 30\n",
      "FeelsLikeC: 31\n",
      "weatherDesc: Patchy rain nearby\n",
      "winddir16Point: S\n",
      "windspeedKmph: 6\n"
     ]
    }
   ],
   "source": [
    "starting_weather = response['data']['weather'][0]['hourly'][starting_hour]\n",
    "print('time:', starting_weather['time'])\n",
    "print('tempC:', starting_weather['tempC'])\n",
    "print('FeelsLikeC:', starting_weather['FeelsLikeC'])\n",
    "print('weatherDesc:', starting_weather['weatherDesc'][0]['value'])\n",
    "print('winddir16Point:', starting_weather['winddir16Point'])\n",
    "print('windspeedKmph:', starting_weather['windspeedKmph'])"
   ]
  },
  {
   "cell_type": "code",
   "execution_count": 9,
   "metadata": {
    "collapsed": false
   },
   "outputs": [],
   "source": [
    "from annotate import step, annotate\n",
    "from datetime import datetime\n",
    "\n",
    "weather = step.ContextualElement(\"Weather\")\n",
    "\n",
    "foi_feelslike = step.FeatureOfInterest(\"Feels Like\")\n",
    "foi_temperature = step.FeatureOfInterest(\"Temperature\")\n",
    "foi_wind_dir = step.FeatureOfInterest(\"Wind Direction\")\n",
    "foi_wind_speed = step.FeatureOfInterest(\"Wind Speed\")\n",
    "\n",
    "date = datetime(trajectory_date.year, trajectory_date.month, trajectory_date.day, trajectory_date.hour)\n",
    "instant = step.TimeInstant(date)\n",
    "\n",
    "#FeelsLikeC\n",
    "feelslike_description = step.QuantitativeValue(starting_weather['FeelsLikeC'], \"C\")\n",
    "foi_feelslike.add_episode(step.Episode(instant, feelslike_description))\n",
    "\n",
    "#tempC\n",
    "tempC_description = step.QuantitativeValue(starting_weather['tempC'], \"C\")\n",
    "foi_temperature.add_episode(step.Episode(instant, tempC_description))\n",
    "\n",
    "#winddir16Point\n",
    "wind_dir_description = step.QualitativeDescription(starting_weather['winddir16Point'])\n",
    "foi_wind_dir.add_episode(step.Episode(instant, wind_dir_description))\n",
    "\n",
    "#windspeedKmph\n",
    "wind_speed_description = step.QuantitativeValue(starting_weather['windspeedKmph'], \"km/h\")\n",
    "foi_wind_speed.add_episode(step.Episode(instant, wind_speed_description))\n",
    "\n",
    "\n",
    "weather.features_of_interest.append(foi_feelslike)\n",
    "weather.features_of_interest.append(foi_temperature)\n",
    "weather.features_of_interest.append(foi_wind_dir)\n",
    "weather.features_of_interest.append(foi_wind_speed)"
   ]
  },
  {
   "cell_type": "code",
   "execution_count": 10,
   "metadata": {
    "collapsed": false
   },
   "outputs": [
    {
     "name": "stdout",
     "output_type": "stream",
     "text": [
      "ContextualElement { label: \"Weather\", FeaturesOfInterest: [{ FeatureOfInterest { label: \"Feels Like\", Episodes: [{ Episode { semantic_description:{ QuantitativeValue { value: \"31\", unit: \"C\"} }, extent: { TimeInstant { in_datetime: \"2015-07-19 17:00:00\"} }, relates_to: None } }] } }, { FeatureOfInterest { label: \"Temperature\", Episodes: [{ Episode { semantic_description:{ QuantitativeValue { value: \"30\", unit: \"C\"} }, extent: { TimeInstant { in_datetime: \"2015-07-19 17:00:00\"} }, relates_to: None } }] } }, { FeatureOfInterest { label: \"Wind Direction\", Episodes: [{ Episode { semantic_description:{ QualitativeDescription { description: \"S\"} }, extent: { TimeInstant { in_datetime: \"2015-07-19 17:00:00\"} }, relates_to: None } }] } }, { FeatureOfInterest { label: \"Wind Speed\", Episodes: [{ Episode { semantic_description:{ QuantitativeValue { value: \"6\", unit: \"km/h\"} }, extent: { TimeInstant { in_datetime: \"2015-07-19 17:00:00\"} }, relates_to: None } }] } }] }\n"
     ]
    }
   ],
   "source": [
    "print(weather)"
   ]
  },
  {
   "cell_type": "code",
   "execution_count": 11,
   "metadata": {
    "collapsed": false
   },
   "outputs": [
    {
     "data": {
      "text/plain": [
       "[(rdflib.term.URIRef('http://example.com/resource/nnhVkGU6gVwku9FEFfia2H'),\n",
       "  rdflib.term.URIRef('http://www.w3.org/2000/01/rdf-schema#label'),\n",
       "  rdflib.term.Literal('Weather', datatype=rdflib.term.URIRef('http://www.w3.org/2001/XMLSchema#string'))),\n",
       " (rdflib.term.URIRef('http://example.com/resource/nnhVkGU6gVwku9FEFfia2H'),\n",
       "  rdflib.term.URIRef('http://www.w3.org/1999/02/22-rdf-syntax-ns#type'),\n",
       "  rdflib.term.URIRef('http://purl.org/net/step#ContextualElement')),\n",
       " [(rdflib.term.URIRef('http://example.com/resource/rszcWqvFJw7q6UN8fGeH6Z'),\n",
       "   rdflib.term.URIRef('http://www.w3.org/2000/01/rdf-schema#label'),\n",
       "   rdflib.term.Literal('Feels Like', datatype=rdflib.term.URIRef('http://www.w3.org/2001/XMLSchema#string'))),\n",
       "  (rdflib.term.URIRef('http://example.com/resource/rszcWqvFJw7q6UN8fGeH6Z'),\n",
       "   rdflib.term.URIRef('http://www.w3.org/1999/02/22-rdf-syntax-ns#type'),\n",
       "   rdflib.term.URIRef('http://purl.org/net/step#FeatureOfInterest')),\n",
       "  (rdflib.term.URIRef('http://example.com/resource/rszcWqvFJw7q6UN8fGeH6Z'),\n",
       "   rdflib.term.URIRef('http://purl.org/net/step#hasEpisode'),\n",
       "   rdflib.term.URIRef('http://example.com/resource/hZ9bWFjnAfXPT5vRmw5sN7')),\n",
       "  (rdflib.term.URIRef('http://example.com/resource/hZ9bWFjnAfXPT5vRmw5sN7'),\n",
       "   rdflib.term.URIRef('http://www.w3.org/1999/02/22-rdf-syntax-ns#type'),\n",
       "   rdflib.term.URIRef('http://purl.org/net/step#Episode')),\n",
       "  (rdflib.term.URIRef('http://example.com/resource/hZ9bWFjnAfXPT5vRmw5sN7'),\n",
       "   rdflib.term.URIRef('http://purl.org/net/step#hasExtent'),\n",
       "   rdflib.term.URIRef('http://example.com/resource/ubPK5aZkSBYF4jo2VG6oQY')),\n",
       "  (rdflib.term.URIRef('http://example.com/resource/ubPK5aZkSBYF4jo2VG6oQY'),\n",
       "   rdflib.term.URIRef('http://www.w3.org/1999/02/22-rdf-syntax-ns#type'),\n",
       "   rdflib.term.URIRef('http://www.w3.org/2006/time#Instant')),\n",
       "  (rdflib.term.URIRef('http://example.com/resource/ubPK5aZkSBYF4jo2VG6oQY'),\n",
       "   rdflib.term.URIRef('http://www.w3.org/2006/time#inXSDDateTime'),\n",
       "   rdflib.term.Literal('2015-07-19T17:00:00', datatype=rdflib.term.URIRef('http://www.w3.org/2001/XMLSchema#dateTime'))),\n",
       "  (rdflib.term.URIRef('http://example.com/resource/hZ9bWFjnAfXPT5vRmw5sN7'),\n",
       "   rdflib.term.URIRef('http://purl.org/net/step#hasSemanticDescription'),\n",
       "   rdflib.term.URIRef('http://example.com/resource/K5oNcVCj4dtqbr9cDDzuxY')),\n",
       "  (rdflib.term.URIRef('http://example.com/resource/K5oNcVCj4dtqbr9cDDzuxY'),\n",
       "   rdflib.term.URIRef('http://www.w3.org/1999/02/22-rdf-syntax-ns#type'),\n",
       "   rdflib.term.URIRef('http://purl.org/net/step#QuantitativeValue')),\n",
       "  (rdflib.term.URIRef('http://example.com/resource/K5oNcVCj4dtqbr9cDDzuxY'),\n",
       "   rdflib.term.URIRef('http://www.w3.org/1999/02/22-rdf-syntax-ns#value'),\n",
       "   rdflib.term.Literal('31', datatype=rdflib.term.URIRef('http://www.w3.org/2001/XMLSchema#string'))),\n",
       "  (rdflib.term.URIRef('http://example.com/resource/K5oNcVCj4dtqbr9cDDzuxY'),\n",
       "   rdflib.term.URIRef('http://purl.org/net/step#hasUnit'),\n",
       "   rdflib.term.Literal('C', datatype=rdflib.term.URIRef('http://www.w3.org/2001/XMLSchema#string')))],\n",
       " [(rdflib.term.URIRef('http://example.com/resource/chPAWVwZg6Fjo9VpxhL7Zf'),\n",
       "   rdflib.term.URIRef('http://www.w3.org/2000/01/rdf-schema#label'),\n",
       "   rdflib.term.Literal('Temperature', datatype=rdflib.term.URIRef('http://www.w3.org/2001/XMLSchema#string'))),\n",
       "  (rdflib.term.URIRef('http://example.com/resource/chPAWVwZg6Fjo9VpxhL7Zf'),\n",
       "   rdflib.term.URIRef('http://www.w3.org/1999/02/22-rdf-syntax-ns#type'),\n",
       "   rdflib.term.URIRef('http://purl.org/net/step#FeatureOfInterest')),\n",
       "  (rdflib.term.URIRef('http://example.com/resource/chPAWVwZg6Fjo9VpxhL7Zf'),\n",
       "   rdflib.term.URIRef('http://purl.org/net/step#hasEpisode'),\n",
       "   rdflib.term.URIRef('http://example.com/resource/K7KQw4ibZvyfewvzR3ieJT')),\n",
       "  (rdflib.term.URIRef('http://example.com/resource/K7KQw4ibZvyfewvzR3ieJT'),\n",
       "   rdflib.term.URIRef('http://www.w3.org/1999/02/22-rdf-syntax-ns#type'),\n",
       "   rdflib.term.URIRef('http://purl.org/net/step#Episode')),\n",
       "  (rdflib.term.URIRef('http://example.com/resource/K7KQw4ibZvyfewvzR3ieJT'),\n",
       "   rdflib.term.URIRef('http://purl.org/net/step#hasExtent'),\n",
       "   rdflib.term.URIRef('http://example.com/resource/ubPK5aZkSBYF4jo2VG6oQY')),\n",
       "  (rdflib.term.URIRef('http://example.com/resource/ubPK5aZkSBYF4jo2VG6oQY'),\n",
       "   rdflib.term.URIRef('http://www.w3.org/1999/02/22-rdf-syntax-ns#type'),\n",
       "   rdflib.term.URIRef('http://www.w3.org/2006/time#Instant')),\n",
       "  (rdflib.term.URIRef('http://example.com/resource/ubPK5aZkSBYF4jo2VG6oQY'),\n",
       "   rdflib.term.URIRef('http://www.w3.org/2006/time#inXSDDateTime'),\n",
       "   rdflib.term.Literal('2015-07-19T17:00:00', datatype=rdflib.term.URIRef('http://www.w3.org/2001/XMLSchema#dateTime'))),\n",
       "  (rdflib.term.URIRef('http://example.com/resource/K7KQw4ibZvyfewvzR3ieJT'),\n",
       "   rdflib.term.URIRef('http://purl.org/net/step#hasSemanticDescription'),\n",
       "   rdflib.term.URIRef('http://example.com/resource/Bqk7mJCSARHKmRWrAqG7uP')),\n",
       "  (rdflib.term.URIRef('http://example.com/resource/Bqk7mJCSARHKmRWrAqG7uP'),\n",
       "   rdflib.term.URIRef('http://www.w3.org/1999/02/22-rdf-syntax-ns#type'),\n",
       "   rdflib.term.URIRef('http://purl.org/net/step#QuantitativeValue')),\n",
       "  (rdflib.term.URIRef('http://example.com/resource/Bqk7mJCSARHKmRWrAqG7uP'),\n",
       "   rdflib.term.URIRef('http://www.w3.org/1999/02/22-rdf-syntax-ns#value'),\n",
       "   rdflib.term.Literal('30', datatype=rdflib.term.URIRef('http://www.w3.org/2001/XMLSchema#string'))),\n",
       "  (rdflib.term.URIRef('http://example.com/resource/Bqk7mJCSARHKmRWrAqG7uP'),\n",
       "   rdflib.term.URIRef('http://purl.org/net/step#hasUnit'),\n",
       "   rdflib.term.Literal('C', datatype=rdflib.term.URIRef('http://www.w3.org/2001/XMLSchema#string')))],\n",
       " [(rdflib.term.URIRef('http://example.com/resource/HZ6xTv5XchaMrSgjtKr72a'),\n",
       "   rdflib.term.URIRef('http://www.w3.org/2000/01/rdf-schema#label'),\n",
       "   rdflib.term.Literal('Wind Direction', datatype=rdflib.term.URIRef('http://www.w3.org/2001/XMLSchema#string'))),\n",
       "  (rdflib.term.URIRef('http://example.com/resource/HZ6xTv5XchaMrSgjtKr72a'),\n",
       "   rdflib.term.URIRef('http://www.w3.org/1999/02/22-rdf-syntax-ns#type'),\n",
       "   rdflib.term.URIRef('http://purl.org/net/step#FeatureOfInterest')),\n",
       "  (rdflib.term.URIRef('http://example.com/resource/HZ6xTv5XchaMrSgjtKr72a'),\n",
       "   rdflib.term.URIRef('http://purl.org/net/step#hasEpisode'),\n",
       "   rdflib.term.URIRef('http://example.com/resource/NvA4LG3uZpospbfumMGrVW')),\n",
       "  (rdflib.term.URIRef('http://example.com/resource/NvA4LG3uZpospbfumMGrVW'),\n",
       "   rdflib.term.URIRef('http://www.w3.org/1999/02/22-rdf-syntax-ns#type'),\n",
       "   rdflib.term.URIRef('http://purl.org/net/step#Episode')),\n",
       "  (rdflib.term.URIRef('http://example.com/resource/NvA4LG3uZpospbfumMGrVW'),\n",
       "   rdflib.term.URIRef('http://purl.org/net/step#hasExtent'),\n",
       "   rdflib.term.URIRef('http://example.com/resource/ubPK5aZkSBYF4jo2VG6oQY')),\n",
       "  (rdflib.term.URIRef('http://example.com/resource/ubPK5aZkSBYF4jo2VG6oQY'),\n",
       "   rdflib.term.URIRef('http://www.w3.org/1999/02/22-rdf-syntax-ns#type'),\n",
       "   rdflib.term.URIRef('http://www.w3.org/2006/time#Instant')),\n",
       "  (rdflib.term.URIRef('http://example.com/resource/ubPK5aZkSBYF4jo2VG6oQY'),\n",
       "   rdflib.term.URIRef('http://www.w3.org/2006/time#inXSDDateTime'),\n",
       "   rdflib.term.Literal('2015-07-19T17:00:00', datatype=rdflib.term.URIRef('http://www.w3.org/2001/XMLSchema#dateTime'))),\n",
       "  (rdflib.term.URIRef('http://example.com/resource/NvA4LG3uZpospbfumMGrVW'),\n",
       "   rdflib.term.URIRef('http://purl.org/net/step#hasSemanticDescription'),\n",
       "   rdflib.term.URIRef('http://example.com/resource/boeLGDukGbwccTLi6w5QHN')),\n",
       "  (rdflib.term.URIRef('http://example.com/resource/boeLGDukGbwccTLi6w5QHN'),\n",
       "   rdflib.term.URIRef('http://www.w3.org/1999/02/22-rdf-syntax-ns#type'),\n",
       "   rdflib.term.URIRef('http://purl.org/net/step#QualitativeDescription')),\n",
       "  (rdflib.term.URIRef('http://example.com/resource/boeLGDukGbwccTLi6w5QHN'),\n",
       "   rdflib.term.URIRef('http://www.w3.org/1999/02/22-rdf-syntax-ns#value'),\n",
       "   rdflib.term.Literal('S', datatype=rdflib.term.URIRef('http://www.w3.org/2001/XMLSchema#string')))],\n",
       " [(rdflib.term.URIRef('http://example.com/resource/pcRfkPFtJz4cfjEMecWpcD'),\n",
       "   rdflib.term.URIRef('http://www.w3.org/2000/01/rdf-schema#label'),\n",
       "   rdflib.term.Literal('Wind Speed', datatype=rdflib.term.URIRef('http://www.w3.org/2001/XMLSchema#string'))),\n",
       "  (rdflib.term.URIRef('http://example.com/resource/pcRfkPFtJz4cfjEMecWpcD'),\n",
       "   rdflib.term.URIRef('http://www.w3.org/1999/02/22-rdf-syntax-ns#type'),\n",
       "   rdflib.term.URIRef('http://purl.org/net/step#FeatureOfInterest')),\n",
       "  (rdflib.term.URIRef('http://example.com/resource/pcRfkPFtJz4cfjEMecWpcD'),\n",
       "   rdflib.term.URIRef('http://purl.org/net/step#hasEpisode'),\n",
       "   rdflib.term.URIRef('http://example.com/resource/Ap8Sw5uQheKirXHsa8WjNc')),\n",
       "  (rdflib.term.URIRef('http://example.com/resource/Ap8Sw5uQheKirXHsa8WjNc'),\n",
       "   rdflib.term.URIRef('http://www.w3.org/1999/02/22-rdf-syntax-ns#type'),\n",
       "   rdflib.term.URIRef('http://purl.org/net/step#Episode')),\n",
       "  (rdflib.term.URIRef('http://example.com/resource/Ap8Sw5uQheKirXHsa8WjNc'),\n",
       "   rdflib.term.URIRef('http://purl.org/net/step#hasExtent'),\n",
       "   rdflib.term.URIRef('http://example.com/resource/ubPK5aZkSBYF4jo2VG6oQY')),\n",
       "  (rdflib.term.URIRef('http://example.com/resource/ubPK5aZkSBYF4jo2VG6oQY'),\n",
       "   rdflib.term.URIRef('http://www.w3.org/1999/02/22-rdf-syntax-ns#type'),\n",
       "   rdflib.term.URIRef('http://www.w3.org/2006/time#Instant')),\n",
       "  (rdflib.term.URIRef('http://example.com/resource/ubPK5aZkSBYF4jo2VG6oQY'),\n",
       "   rdflib.term.URIRef('http://www.w3.org/2006/time#inXSDDateTime'),\n",
       "   rdflib.term.Literal('2015-07-19T17:00:00', datatype=rdflib.term.URIRef('http://www.w3.org/2001/XMLSchema#dateTime'))),\n",
       "  (rdflib.term.URIRef('http://example.com/resource/Ap8Sw5uQheKirXHsa8WjNc'),\n",
       "   rdflib.term.URIRef('http://purl.org/net/step#hasSemanticDescription'),\n",
       "   rdflib.term.URIRef('http://example.com/resource/bqWVyc3zFdKYNSLFuYfSkT')),\n",
       "  (rdflib.term.URIRef('http://example.com/resource/bqWVyc3zFdKYNSLFuYfSkT'),\n",
       "   rdflib.term.URIRef('http://www.w3.org/1999/02/22-rdf-syntax-ns#type'),\n",
       "   rdflib.term.URIRef('http://purl.org/net/step#QuantitativeValue')),\n",
       "  (rdflib.term.URIRef('http://example.com/resource/bqWVyc3zFdKYNSLFuYfSkT'),\n",
       "   rdflib.term.URIRef('http://www.w3.org/1999/02/22-rdf-syntax-ns#value'),\n",
       "   rdflib.term.Literal('6', datatype=rdflib.term.URIRef('http://www.w3.org/2001/XMLSchema#string'))),\n",
       "  (rdflib.term.URIRef('http://example.com/resource/bqWVyc3zFdKYNSLFuYfSkT'),\n",
       "   rdflib.term.URIRef('http://purl.org/net/step#hasUnit'),\n",
       "   rdflib.term.Literal('km/h', datatype=rdflib.term.URIRef('http://www.w3.org/2001/XMLSchema#string')))]]"
      ]
     },
     "execution_count": 11,
     "metadata": {},
     "output_type": "execute_result"
    }
   ],
   "source": [
    "weather.triplify()"
   ]
  },
  {
   "cell_type": "code",
   "execution_count": 12,
   "metadata": {
    "collapsed": false
   },
   "outputs": [
    {
     "data": {
      "text/plain": [
       "{ FeatureOfInterest { label: \"Feels Like\", Episodes: [{ Episode { semantic_description:{ QuantitativeValue { value: \"31\", unit: \"C\"} }, extent: { TimeInstant { in_datetime: \"2015-07-19 17:00:00\"} }, relates_to: None } }] } }"
      ]
     },
     "execution_count": 12,
     "metadata": {},
     "output_type": "execute_result"
    }
   ],
   "source": [
    "weather.features_of_interest[0]"
   ]
  },
  {
   "cell_type": "code",
   "execution_count": 13,
   "metadata": {
    "collapsed": false,
    "scrolled": true
   },
   "outputs": [
    {
     "data": {
      "text/plain": [
       "[(rdflib.term.URIRef('http://example.com/resource/rszcWqvFJw7q6UN8fGeH6Z'),\n",
       "  rdflib.term.URIRef('http://www.w3.org/2000/01/rdf-schema#label'),\n",
       "  rdflib.term.Literal('Feels Like', datatype=rdflib.term.URIRef('http://www.w3.org/2001/XMLSchema#string'))),\n",
       " (rdflib.term.URIRef('http://example.com/resource/rszcWqvFJw7q6UN8fGeH6Z'),\n",
       "  rdflib.term.URIRef('http://www.w3.org/1999/02/22-rdf-syntax-ns#type'),\n",
       "  rdflib.term.URIRef('http://purl.org/net/step#FeatureOfInterest')),\n",
       " (rdflib.term.URIRef('http://example.com/resource/rszcWqvFJw7q6UN8fGeH6Z'),\n",
       "  rdflib.term.URIRef('http://purl.org/net/step#hasEpisode'),\n",
       "  rdflib.term.URIRef('http://example.com/resource/hZ9bWFjnAfXPT5vRmw5sN7')),\n",
       " (rdflib.term.URIRef('http://example.com/resource/hZ9bWFjnAfXPT5vRmw5sN7'),\n",
       "  rdflib.term.URIRef('http://www.w3.org/1999/02/22-rdf-syntax-ns#type'),\n",
       "  rdflib.term.URIRef('http://purl.org/net/step#Episode')),\n",
       " (rdflib.term.URIRef('http://example.com/resource/hZ9bWFjnAfXPT5vRmw5sN7'),\n",
       "  rdflib.term.URIRef('http://purl.org/net/step#hasExtent'),\n",
       "  rdflib.term.URIRef('http://example.com/resource/ubPK5aZkSBYF4jo2VG6oQY')),\n",
       " (rdflib.term.URIRef('http://example.com/resource/ubPK5aZkSBYF4jo2VG6oQY'),\n",
       "  rdflib.term.URIRef('http://www.w3.org/1999/02/22-rdf-syntax-ns#type'),\n",
       "  rdflib.term.URIRef('http://www.w3.org/2006/time#Instant')),\n",
       " (rdflib.term.URIRef('http://example.com/resource/ubPK5aZkSBYF4jo2VG6oQY'),\n",
       "  rdflib.term.URIRef('http://www.w3.org/2006/time#inXSDDateTime'),\n",
       "  rdflib.term.Literal('2015-07-19T17:00:00', datatype=rdflib.term.URIRef('http://www.w3.org/2001/XMLSchema#dateTime'))),\n",
       " (rdflib.term.URIRef('http://example.com/resource/hZ9bWFjnAfXPT5vRmw5sN7'),\n",
       "  rdflib.term.URIRef('http://purl.org/net/step#hasSemanticDescription'),\n",
       "  rdflib.term.URIRef('http://example.com/resource/K5oNcVCj4dtqbr9cDDzuxY')),\n",
       " (rdflib.term.URIRef('http://example.com/resource/K5oNcVCj4dtqbr9cDDzuxY'),\n",
       "  rdflib.term.URIRef('http://www.w3.org/1999/02/22-rdf-syntax-ns#type'),\n",
       "  rdflib.term.URIRef('http://purl.org/net/step#QuantitativeValue')),\n",
       " (rdflib.term.URIRef('http://example.com/resource/K5oNcVCj4dtqbr9cDDzuxY'),\n",
       "  rdflib.term.URIRef('http://www.w3.org/1999/02/22-rdf-syntax-ns#value'),\n",
       "  rdflib.term.Literal('31', datatype=rdflib.term.URIRef('http://www.w3.org/2001/XMLSchema#string'))),\n",
       " (rdflib.term.URIRef('http://example.com/resource/K5oNcVCj4dtqbr9cDDzuxY'),\n",
       "  rdflib.term.URIRef('http://purl.org/net/step#hasUnit'),\n",
       "  rdflib.term.Literal('C', datatype=rdflib.term.URIRef('http://www.w3.org/2001/XMLSchema#string')))]"
      ]
     },
     "execution_count": 13,
     "metadata": {},
     "output_type": "execute_result"
    }
   ],
   "source": [
    "weather.features_of_interest[0].triplify()"
   ]
  },
  {
   "cell_type": "code",
   "execution_count": 14,
   "metadata": {
    "collapsed": false
   },
   "outputs": [
    {
     "ename": "ValueError",
     "evalue": "too many values to unpack (expected 3)",
     "output_type": "error",
     "traceback": [
      "\u001b[1;31m---------------------------------------------------------------------------\u001b[0m",
      "\u001b[1;31mValueError\u001b[0m                                Traceback (most recent call last)",
      "\u001b[1;32m<ipython-input-14-36fe7e518a4b>\u001b[0m in \u001b[0;36m<module>\u001b[1;34m()\u001b[0m\n\u001b[0;32m      1\u001b[0m \u001b[0mg\u001b[0m \u001b[1;33m=\u001b[0m \u001b[0mrdflib\u001b[0m\u001b[1;33m.\u001b[0m\u001b[0mGraph\u001b[0m\u001b[1;33m(\u001b[0m\u001b[1;33m)\u001b[0m\u001b[1;33m\u001b[0m\u001b[0m\n\u001b[0;32m      2\u001b[0m \u001b[1;32mfor\u001b[0m \u001b[0mtriple\u001b[0m \u001b[1;32min\u001b[0m \u001b[0mweather\u001b[0m\u001b[1;33m.\u001b[0m\u001b[0mtriplify\u001b[0m\u001b[1;33m(\u001b[0m\u001b[1;33m)\u001b[0m\u001b[1;33m:\u001b[0m\u001b[1;33m\u001b[0m\u001b[0m\n\u001b[1;32m----> 3\u001b[1;33m     \u001b[0mg\u001b[0m\u001b[1;33m.\u001b[0m\u001b[0madd\u001b[0m\u001b[1;33m(\u001b[0m\u001b[0mtriple\u001b[0m\u001b[1;33m)\u001b[0m\u001b[1;33m\u001b[0m\u001b[0m\n\u001b[0m\u001b[0;32m      4\u001b[0m \u001b[1;33m\u001b[0m\u001b[0m\n\u001b[0;32m      5\u001b[0m \u001b[0mg\u001b[0m\u001b[1;33m.\u001b[0m\u001b[0mserialize\u001b[0m\u001b[1;33m(\u001b[0m\u001b[1;34m\"weather.rdf\"\u001b[0m\u001b[1;33m)\u001b[0m\u001b[1;33m\u001b[0m\u001b[0m\n",
      "\u001b[1;32mc:\\users\\tales\\anaconda3\\lib\\site-packages\\rdflib\\graph.py\u001b[0m in \u001b[0;36madd\u001b[1;34m(self, xxx_todo_changeme)\u001b[0m\n\u001b[0;32m    387\u001b[0m     \u001b[1;32mdef\u001b[0m \u001b[0madd\u001b[0m\u001b[1;33m(\u001b[0m\u001b[0mself\u001b[0m\u001b[1;33m,\u001b[0m \u001b[0mxxx_todo_changeme\u001b[0m\u001b[1;33m)\u001b[0m\u001b[1;33m:\u001b[0m\u001b[1;33m\u001b[0m\u001b[0m\n\u001b[0;32m    388\u001b[0m         \u001b[1;34m\"\"\"Add a triple with self as context\"\"\"\u001b[0m\u001b[1;33m\u001b[0m\u001b[0m\n\u001b[1;32m--> 389\u001b[1;33m         \u001b[1;33m(\u001b[0m\u001b[0ms\u001b[0m\u001b[1;33m,\u001b[0m \u001b[0mp\u001b[0m\u001b[1;33m,\u001b[0m \u001b[0mo\u001b[0m\u001b[1;33m)\u001b[0m \u001b[1;33m=\u001b[0m \u001b[0mxxx_todo_changeme\u001b[0m\u001b[1;33m\u001b[0m\u001b[0m\n\u001b[0m\u001b[0;32m    390\u001b[0m         \u001b[1;32massert\u001b[0m \u001b[0misinstance\u001b[0m\u001b[1;33m(\u001b[0m\u001b[0ms\u001b[0m\u001b[1;33m,\u001b[0m \u001b[0mNode\u001b[0m\u001b[1;33m)\u001b[0m\u001b[1;33m,\u001b[0m\u001b[0;31m \u001b[0m\u001b[0;31m\\\u001b[0m\u001b[1;33m\u001b[0m\u001b[0m\n\u001b[0;32m    391\u001b[0m             \u001b[1;34m\"Subject %s must be an rdflib term\"\u001b[0m \u001b[1;33m%\u001b[0m \u001b[1;33m(\u001b[0m\u001b[0ms\u001b[0m\u001b[1;33m,\u001b[0m\u001b[1;33m)\u001b[0m\u001b[1;33m\u001b[0m\u001b[0m\n",
      "\u001b[1;31mValueError\u001b[0m: too many values to unpack (expected 3)"
     ]
    }
   ],
   "source": [
    "g = rdflib.Graph()\n",
    "for triple in weather.triplify():\n",
    "    g.add(triple)\n",
    "    \n",
    "g.serialize(\"weather.rdf\")"
   ]
  }
 ],
 "metadata": {
  "anaconda-cloud": {},
  "kernelspec": {
   "display_name": "Python [default]",
   "language": "python",
   "name": "python3"
  },
  "language_info": {
   "codemirror_mode": {
    "name": "ipython",
    "version": 3
   },
   "file_extension": ".py",
   "mimetype": "text/x-python",
   "name": "python",
   "nbconvert_exporter": "python",
   "pygments_lexer": "ipython3",
   "version": "3.5.2"
  }
 },
 "nbformat": 4,
 "nbformat_minor": 0
}
