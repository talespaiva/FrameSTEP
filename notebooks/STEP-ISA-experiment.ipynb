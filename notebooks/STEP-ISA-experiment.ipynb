{
 "cells": [
  {
   "cell_type": "code",
   "execution_count": 1,
   "metadata": {
    "collapsed": true
   },
   "outputs": [],
   "source": [
    "import os\n",
    "import sys\n",
    "\n",
    "module_path = os.path.abspath(os.path.join('..'))\n",
    "if module_path not in sys.path:\n",
    "    sys.path.append(module_path)\n",
    "    \n",
    "from step import preprocessing as pp\n",
    "from step import isa\n",
    "\n",
    "import gpxpy\n",
    "from rdflib import Graph\n",
    "import folium\n",
    "\n",
    "import matplotlib\n",
    "import matplotlib.pyplot as plt\n",
    "import seaborn as sns\n",
    "\n",
    "%load_ext autoreload\n",
    "%autoreload 2\n",
    "%matplotlib inline\n",
    "\n",
    "matplotlib.rcParams['axes.labelsize'] = 'large'\n",
    "matplotlib.rcParams['ytick.labelsize'] = 'medium'\n",
    "matplotlib.rcParams['xtick.labelsize'] = 'medium'\n",
    "matplotlib.rcParams['legend.edgecolor'] = 'k'\n",
    "matplotlib.rcParams['legend.shadow'] = True\n",
    "matplotlib.rcParams['figure.figsize'] = (5, 4)\n",
    "sns.set_style('ticks', {\"axes.xmargin\": 0.2, \"axes.ymargin\": 0.2});\n",
    "\n",
    "# For pretty printing\n",
    "import warnings\n",
    "warnings.simplefilter('ignore')"
   ]
  },
  {
   "cell_type": "code",
   "execution_count": 2,
   "metadata": {
    "collapsed": true
   },
   "outputs": [],
   "source": [
    "buffer_size = 0.0002 # ~20 meters\n",
    "minimum_length_ratio = 0.2 #delta_s\n",
    "minimum_duration_ratio = 0.2 #delta_t\n",
    "\n",
    "keys = [\"leisure, natural, landuse\"]\n",
    "expand_keys = False"
   ]
  },
  {
   "cell_type": "code",
   "execution_count": 3,
   "metadata": {},
   "outputs": [
    {
     "name": "stderr",
     "output_type": "stream",
     "text": [
      "http://spatial.ucd.ie/lod/osn/term/k:source/v:tiger_import_#{date}n does not look like a valid URI, trying to serialize this will break.\n",
      "http://spatial.ucd.ie/lod/osn/term/k:source/v:tiger_import_#{date}n does not look like a valid URI, trying to serialize this will break.\n",
      "http://spatial.ucd.ie/lod/osn/term/k:source/v:tiger_import_#{date}n does not look like a valid URI, trying to serialize this will break.\n",
      "http://spatial.ucd.ie/lod/osn/term/k:source/v:tiger_import_#{date}n does not look like a valid URI, trying to serialize this will break.\n",
      "http://spatial.ucd.ie/lod/osn/term/k:source/v:tiger_import_#{date}n does not look like a valid URI, trying to serialize this will break.\n",
      "http://spatial.ucd.ie/lod/osn/term/k:source/v:tiger_import_#{date}n does not look like a valid URI, trying to serialize this will break.\n",
      "http://spatial.ucd.ie/lod/osn/term/k:source/v:tiger_import_#{date}n does not look like a valid URI, trying to serialize this will break.\n",
      "http://spatial.ucd.ie/lod/osn/term/k:source/v:tiger_import_#{date}n does not look like a valid URI, trying to serialize this will break.\n",
      "http://spatial.ucd.ie/lod/osn/term/k:source/v:tiger_import_#{date}n does not look like a valid URI, trying to serialize this will break.\n",
      "http://spatial.ucd.ie/lod/osn/term/k:source/v:tiger_import_#{date}n does not look like a valid URI, trying to serialize this will break.\n",
      "http://spatial.ucd.ie/lod/osn/term/k:source/v:tiger_import_#{date}n does not look like a valid URI, trying to serialize this will break.\n",
      "http://spatial.ucd.ie/lod/osn/term/k:source/v:tiger_import_#{date}n does not look like a valid URI, trying to serialize this will break.\n",
      "http://spatial.ucd.ie/lod/osn/term/k:source/v:tiger_import_#{date}n does not look like a valid URI, trying to serialize this will break.\n",
      "http://spatial.ucd.ie/lod/osn/term/k:source/v:tiger_import_#{date}n does not look like a valid URI, trying to serialize this will break.\n",
      "http://spatial.ucd.ie/lod/osn/term/k:source/v:tiger_import_#{date}n does not look like a valid URI, trying to serialize this will break.\n",
      "http://spatial.ucd.ie/lod/osn/term/k:source/v:tiger_import_#{date}n does not look like a valid URI, trying to serialize this will break.\n",
      "http://spatial.ucd.ie/lod/osn/term/k:source/v:tiger_import_#{date}n does not look like a valid URI, trying to serialize this will break.\n",
      "http://spatial.ucd.ie/lod/osn/term/k:source/v:tiger_import_#{date}n does not look like a valid URI, trying to serialize this will break.\n",
      "http://spatial.ucd.ie/lod/osn/term/k:source/v:tiger_import_#{date}n does not look like a valid URI, trying to serialize this will break.\n",
      "http://spatial.ucd.ie/lod/osn/term/k:source/v:tiger_import_#{date}n does not look like a valid URI, trying to serialize this will break.\n",
      "http://spatial.ucd.ie/lod/osn/term/k:source/v:tiger_import_#{date}n does not look like a valid URI, trying to serialize this will break.\n",
      "http://spatial.ucd.ie/lod/osn/term/k:source/v:tiger_import_#{date}n does not look like a valid URI, trying to serialize this will break.\n",
      "http://spatial.ucd.ie/lod/osn/term/k:source/v:tiger_import_#{date}n does not look like a valid URI, trying to serialize this will break.\n",
      "http://spatial.ucd.ie/lod/osn/term/k:source/v:tiger_import_#{date}n does not look like a valid URI, trying to serialize this will break.\n",
      "http://spatial.ucd.ie/lod/osn/term/k:source/v:tiger_import_#{date}n does not look like a valid URI, trying to serialize this will break.\n",
      "http://spatial.ucd.ie/lod/osn/term/k:source/v:tiger_import_#{date}n does not look like a valid URI, trying to serialize this will break.\n",
      "http://spatial.ucd.ie/lod/osn/term/k:source/v:tiger_import_#{date}n does not look like a valid URI, trying to serialize this will break.\n",
      "http://spatial.ucd.ie/lod/osn/term/k:source/v:tiger_import_#{date}n does not look like a valid URI, trying to serialize this will break.\n",
      "http://spatial.ucd.ie/lod/osn/term/k:source/v:tiger_import_#{date}n does not look like a valid URI, trying to serialize this will break.\n",
      "http://spatial.ucd.ie/lod/osn/term/k:source/v:tiger_import_#{date}n does not look like a valid URI, trying to serialize this will break.\n",
      "http://spatial.ucd.ie/lod/osn/term/k:source/v:tiger_import_#{date}n does not look like a valid URI, trying to serialize this will break.\n",
      "http://spatial.ucd.ie/lod/osn/term/k:source/v:tiger_import_#{date}n does not look like a valid URI, trying to serialize this will break.\n",
      "http://spatial.ucd.ie/lod/osn/term/k:source/v:tiger_import_#{date}n does not look like a valid URI, trying to serialize this will break.\n",
      "http://spatial.ucd.ie/lod/osn/term/k:source/v:tiger_import_#{date}n does not look like a valid URI, trying to serialize this will break.\n",
      "http://spatial.ucd.ie/lod/osn/term/k:source/v:tiger_import_#{date}n does not look like a valid URI, trying to serialize this will break.\n",
      "http://spatial.ucd.ie/lod/osn/term/k:source/v:tiger_import_#{date}n does not look like a valid URI, trying to serialize this will break.\n",
      "http://spatial.ucd.ie/lod/osn/term/k:source/v:tiger_import_#{date}n does not look like a valid URI, trying to serialize this will break.\n",
      "http://spatial.ucd.ie/lod/osn/term/k:source/v:tiger_import_#{date}n does not look like a valid URI, trying to serialize this will break.\n",
      "http://spatial.ucd.ie/lod/osn/term/k:source/v:tiger_import_#{date}n does not look like a valid URI, trying to serialize this will break.\n",
      "http://spatial.ucd.ie/lod/osn/term/k:source/v:tiger_import_#{date}n does not look like a valid URI, trying to serialize this will break.\n",
      "http://spatial.ucd.ie/lod/osn/term/k:source/v:tiger_import_#{date}n does not look like a valid URI, trying to serialize this will break.\n",
      "http://spatial.ucd.ie/lod/osn/term/k:source/v:tiger_import_#{date}n does not look like a valid URI, trying to serialize this will break.\n",
      "http://spatial.ucd.ie/lod/osn/term/k:source/v:tiger_import_#{date}n does not look like a valid URI, trying to serialize this will break.\n",
      "http://spatial.ucd.ie/lod/osn/term/k:source/v:tiger_import_#{date}n does not look like a valid URI, trying to serialize this will break.\n",
      "http://spatial.ucd.ie/lod/osn/term/k:source/v:tiger_import_#{date}n does not look like a valid URI, trying to serialize this will break.\n",
      "http://spatial.ucd.ie/lod/osn/term/k:source/v:tiger_import_#{date}n does not look like a valid URI, trying to serialize this will break.\n",
      "http://spatial.ucd.ie/lod/osn/term/k:source/v:tiger_import_#{date}n does not look like a valid URI, trying to serialize this will break.\n",
      "http://spatial.ucd.ie/lod/osn/term/k:source/v:tiger_import_#{date}n does not look like a valid URI, trying to serialize this will break.\n",
      "http://spatial.ucd.ie/lod/osn/term/k:source/v:tiger_import_#{date}n does not look like a valid URI, trying to serialize this will break.\n",
      "http://spatial.ucd.ie/lod/osn/term/k:source/v:tiger_import_#{date}n does not look like a valid URI, trying to serialize this will break.\n",
      "http://spatial.ucd.ie/lod/osn/term/k:source/v:tiger_import_#{date}n does not look like a valid URI, trying to serialize this will break.\n",
      "http://spatial.ucd.ie/lod/osn/term/k:source/v:tiger_import_#{date}n does not look like a valid URI, trying to serialize this will break.\n",
      "http://spatial.ucd.ie/lod/osn/term/k:source/v:tiger_import_#{date}n does not look like a valid URI, trying to serialize this will break.\n",
      "http://spatial.ucd.ie/lod/osn/term/k:source/v:tiger_import_#{date}n does not look like a valid URI, trying to serialize this will break.\n",
      "http://spatial.ucd.ie/lod/osn/term/k:source/v:tiger_import_#{date}n does not look like a valid URI, trying to serialize this will break.\n",
      "http://spatial.ucd.ie/lod/osn/term/k:source/v:tiger_import_#{date}n does not look like a valid URI, trying to serialize this will break.\n",
      "http://spatial.ucd.ie/lod/osn/term/k:source/v:tiger_import_#{date}n does not look like a valid URI, trying to serialize this will break.\n",
      "http://spatial.ucd.ie/lod/osn/term/k:source/v:tiger_import_#{date}n does not look like a valid URI, trying to serialize this will break.\n",
      "http://spatial.ucd.ie/lod/osn/term/k:source/v:tiger_import_#{date}n does not look like a valid URI, trying to serialize this will break.\n",
      "http://spatial.ucd.ie/lod/osn/term/k:source/v:tiger_import_#{date}n does not look like a valid URI, trying to serialize this will break.\n",
      "http://spatial.ucd.ie/lod/osn/term/k:source/v:tiger_import_#{date}n does not look like a valid URI, trying to serialize this will break.\n",
      "http://en.wikipedia.org/wiki/Pasture (Other languages) does not look like a valid URI, trying to serialize this will break.\n",
      "http://spatial.ucd.ie/lod/osn/term/k:source/v:tiger_import_#{date}n does not look like a valid URI, trying to serialize this will break.\n",
      "http://spatial.ucd.ie/lod/osn/term/k:source/v:tiger_import_#{date}n does not look like a valid URI, trying to serialize this will break.\n",
      "http://spatial.ucd.ie/lod/osn/term/k:source/v:tiger_import_#{date}n does not look like a valid URI, trying to serialize this will break.\n",
      "http://spatial.ucd.ie/lod/osn/term/k:source/v:tiger_import_#{date}n does not look like a valid URI, trying to serialize this will break.\n",
      "http://spatial.ucd.ie/lod/osn/term/k:source/v:tiger_import_#{date}n does not look like a valid URI, trying to serialize this will break.\n",
      "http://spatial.ucd.ie/lod/osn/term/k:source/v:tiger_import_#{date}n does not look like a valid URI, trying to serialize this will break.\n"
     ]
    },
    {
     "data": {
      "text/plain": [
       "<Graph identifier=N8425ab9179454eddbebcee3aa4c6219e (<class 'rdflib.graph.Graph'>)>"
      ]
     },
     "execution_count": 3,
     "metadata": {},
     "output_type": "execute_result"
    }
   ],
   "source": [
    "osn_graph = Graph()\n",
    "osn_graph.parse('../notebooks/osm_semantic_network.skos.rdf')"
   ]
  },
  {
   "cell_type": "code",
   "execution_count": 4,
   "metadata": {},
   "outputs": [
    {
     "name": "stdout",
     "output_type": "stream",
     "text": [
      "\n",
      "./gpx/49996348-1533217229.gpx\n",
      "Overpass response length: 0\n",
      "\n",
      "./gpx/49996348-1063854797.gpx\n",
      "Overpass response length: 0\n",
      "\n",
      "./gpx/49996348-1247087437.gpx\n",
      "Overpass response length: 0\n",
      "\n",
      "./gpx/49996348-967570519.gpx\n",
      "Overpass response length: 0\n",
      "\n",
      "./gpx/49996348-1304438635.gpx\n",
      "Overpass response length: 0\n",
      "\n",
      "./gpx/49996348-1554232397.gpx\n",
      "Overpass response length: 0\n",
      "\n",
      "./gpx/49996348-1233430301.gpx\n",
      "Overpass response length: 0\n",
      "\n",
      "./gpx/49996348-1079694145.gpx\n",
      "Overpass response length: 0\n",
      "\n",
      "./gpx/49996348-1355231355.gpx\n",
      "Overpass response length: 0\n",
      "\n",
      "./gpx/49996348-841862395.gpx\n",
      "Overpass response length: 0\n",
      "\n",
      "./gpx/49996348-915196773.gpx\n",
      "Overpass response length: 0\n",
      "\n",
      "./gpx/49996348-1677484067.gpx\n",
      "Overpass response length: 0\n",
      "\n",
      "./gpx/49996348-1681960589.gpx\n",
      "Overpass response length: 0\n",
      "\n",
      "./gpx/49996348-1417957715.gpx\n",
      "Overpass response length: 0\n",
      "\n",
      "./gpx/49996348-855950227.gpx\n",
      "Overpass response length: 0\n",
      "\n",
      "./gpx/49996348-1666613897.gpx\n",
      "Overpass response length: 0\n",
      "\n",
      "./gpx/49996348-934824955.gpx\n",
      "Overpass response length: 0\n",
      "\n",
      "./gpx/49996348-879595923.gpx\n",
      "Overpass response length: 0\n",
      "\n",
      "./gpx/49996348-906670699.gpx\n",
      "Overpass response length: 0\n",
      "\n",
      "./gpx/49996348-1145256443.gpx\n",
      "Overpass response length: 0\n",
      "\n",
      "./gpx/49996348-1193388319.gpx\n",
      "Overpass response length: 0\n",
      "\n",
      "./gpx/49996348-955437075.gpx\n",
      "Overpass response length: 0\n",
      "\n",
      "./gpx/49996348-1250106491.gpx\n",
      "Overpass response length: 0\n"
     ]
    }
   ],
   "source": [
    "all_groups, all_osm_features = [], []\n",
    "\n",
    "for root, folder, files in os.walk('./gpx'):\n",
    "    for f in files:\n",
    "        if '49996348-' in f:\n",
    "            file_path = r'./gpx/{0}'.format(f)\n",
    "            print('\\n{0}'.format(file_path))\n",
    "            gpx = gpxpy.parse(open(file_path, 'r'))\n",
    "            \n",
    "            groups, osm_features = isa.create_episodes(gpx,\n",
    "                                                       osn_graph,\n",
    "                                                       buffer_size,\n",
    "                                                       minimum_duration_ratio,\n",
    "                                                       minimum_length_ratio,\n",
    "                                                       keys,\n",
    "                                                       expand_keys)\n",
    "            all_groups.append(groups)\n",
    "            all_osm_features.append(osm_features)"
   ]
  },
  {
   "cell_type": "code",
   "execution_count": null,
   "metadata": {
    "collapsed": true
   },
   "outputs": [],
   "source": []
  },
  {
   "cell_type": "code",
   "execution_count": null,
   "metadata": {
    "collapsed": true
   },
   "outputs": [],
   "source": []
  }
 ],
 "metadata": {
  "kernelspec": {
   "display_name": "Python 3",
   "language": "python",
   "name": "python3"
  },
  "language_info": {
   "codemirror_mode": {
    "name": "ipython",
    "version": 3
   },
   "file_extension": ".py",
   "mimetype": "text/x-python",
   "name": "python",
   "nbconvert_exporter": "python",
   "pygments_lexer": "ipython3",
   "version": "3.6.7"
  }
 },
 "nbformat": 4,
 "nbformat_minor": 2
}
