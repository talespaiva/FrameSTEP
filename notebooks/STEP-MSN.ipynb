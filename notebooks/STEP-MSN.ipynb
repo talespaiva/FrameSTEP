{
 "cells": [
  {
   "cell_type": "markdown",
   "metadata": {},
   "source": [
    "# Appendix A: Demonstration of the Stop-Move-Noise (MSN) classification method"
   ]
  },
  {
   "cell_type": "markdown",
   "metadata": {},
   "source": [
    "Import packages and general settings:"
   ]
  },
  {
   "cell_type": "code",
   "execution_count": 3,
   "metadata": {},
   "outputs": [
    {
     "name": "stdout",
     "output_type": "stream",
     "text": [
      "The autoreload extension is already loaded. To reload it, use:\n",
      "  %reload_ext autoreload\n"
     ]
    }
   ],
   "source": [
    "import os\n",
    "import sys\n",
    "\n",
    "module_path = os.path.abspath(os.path.join('..'))\n",
    "if module_path not in sys.path:\n",
    "    sys.path.append(module_path)\n",
    "    \n",
    "from step import preprocessing as pp\n",
    "from step import stats as st\n",
    "from step import util, msn\n",
    "\n",
    "import math\n",
    "import numpy as np\n",
    "from scipy import stats\n",
    "\n",
    "import gpxpy\n",
    "\n",
    "import ipympl\n",
    "import matplotlib\n",
    "import matplotlib.pyplot as plt\n",
    "import seaborn as sns\n",
    "\n",
    "%load_ext autoreload\n",
    "%autoreload 2\n",
    "#%matplotlib notebook\n",
    "%matplotlib ipympl\n",
    "%matplotlib ipympl\n",
    "\n",
    "matplotlib.rcParams['axes.labelsize'] = '10'\n",
    "matplotlib.rcParams['ytick.labelsize'] = '10'\n",
    "matplotlib.rcParams['xtick.labelsize'] = '10'\n",
    "matplotlib.rcParams['axes.titlesize'] = '10'\n",
    "matplotlib.rcParams['legend.edgecolor'] = 'k'\n",
    "matplotlib.rcParams['legend.shadow'] = False\n",
    "matplotlib.rcParams['legend.frameon'] = False\n",
    "matplotlib.rcParams['figure.figsize'] = (7, 5)\n",
    "sns.set_style('ticks', {\"axes.xmargin\": 0.2, \"axes.ymargin\": 0.2});\n",
    "\n",
    "# For pretty printing\n",
    "import warnings\n",
    "warnings.simplefilter('ignore')"
   ]
  },
  {
   "cell_type": "markdown",
   "metadata": {},
   "source": [
    "Load one trajectory file in GPX format:"
   ]
  },
  {
   "cell_type": "code",
   "execution_count": 2,
   "metadata": {
    "collapsed": true
   },
   "outputs": [],
   "source": [
    "file_path = r'gpx/27031614-1583713025.gpx'\n",
    "#file_path = r'gpx/49996348-1533217229.gpx'\n",
    "gpx = gpxpy.parse(open(file_path, 'r'))"
   ]
  },
  {
   "cell_type": "markdown",
   "metadata": {},
   "source": [
    "Compute movement attributes:"
   ]
  },
  {
   "cell_type": "code",
   "execution_count": 4,
   "metadata": {},
   "outputs": [
    {
     "data": {
      "text/plain": [
       "11.09"
      ]
     },
     "execution_count": 4,
     "metadata": {},
     "output_type": "execute_result"
    }
   ],
   "source": [
    "df = pp.compute_attributes(gpx)[1:]\n",
    "\n",
    "# first 5 rows:\n",
    "df.head()\n",
    "np.median(df.distance)"
   ]
  },
  {
   "cell_type": "markdown",
   "metadata": {},
   "source": [
    "Plot the trajectory:"
   ]
  },
  {
   "cell_type": "code",
   "execution_count": 5,
   "metadata": {},
   "outputs": [
    {
     "data": {
      "application/vnd.jupyter.widget-view+json": {
       "model_id": "5cefd9f1f1be4105bade1a2fef033576",
       "version_major": 2,
       "version_minor": 0
      },
      "text/plain": [
       "FigureCanvasNbAgg()"
      ]
     },
     "metadata": {},
     "output_type": "display_data"
    }
   ],
   "source": [
    "fig = plt.figure()\n",
    "ax = fig.add_subplot(111)\n",
    "\n",
    "xx = df.longitude\n",
    "yy = df.latitude\n",
    "\n",
    "plt.xlabel('longitude')\n",
    "plt.ylabel('latitude')\n",
    "plt.plot(df.longitude, df.latitude, 'o:', ms=7)\n",
    "\n",
    "central_latitude = sum(plt.axes().get_ylim())/2.\n",
    "mercator_aspect_ratio = 1/math.cos(math.radians(central_latitude))\n",
    "plt.axes().set_aspect(mercator_aspect_ratio, adjustable='datalim')\n",
    "plt.tight_layout()"
   ]
  },
  {
   "cell_type": "markdown",
   "metadata": {},
   "source": [
    "Relationship among distance, duration, and speed between each pair of sequential points:"
   ]
  },
  {
   "cell_type": "code",
   "execution_count": 6,
   "metadata": {},
   "outputs": [
    {
     "data": {
      "application/vnd.jupyter.widget-view+json": {
       "model_id": "7be2fb0344984c37b013b4db65b165e9",
       "version_major": 2,
       "version_minor": 0
      },
      "text/plain": [
       "FigureCanvasNbAgg()"
      ]
     },
     "metadata": {},
     "output_type": "display_data"
    }
   ],
   "source": [
    "sns.pairplot(df[['duration', 'distance', 'speed']]);\n",
    "plt.tight_layout()"
   ]
  },
  {
   "cell_type": "code",
   "execution_count": 7,
   "metadata": {},
   "outputs": [
    {
     "data": {
      "application/vnd.jupyter.widget-view+json": {
       "model_id": "1fa388b4ec924ad8b64370ef8a0a3298",
       "version_major": 2,
       "version_minor": 0
      },
      "text/plain": [
       "FigureCanvasNbAgg()"
      ]
     },
     "metadata": {},
     "output_type": "display_data"
    }
   ],
   "source": [
    "fig = plt.figure(figsize=(9.5,3))\n",
    "plt.title('Evolution of duration, distance, and speed between each pair of points')\n",
    "plt.plot(df['duration'], '-o', label='duration (s)', lw=2, ms=5, mew=.5, mec='k', alpha=.8)\n",
    "plt.plot(df['speed'], '--s', label='speed (m/s)', lw=2, ms=5, mew=.5, mec='k', alpha=.8)\n",
    "plt.plot(df['distance'], ':D', label='distance (m)', lw=2, ms=5, mew=.5, mec='k', alpha=.8)\n",
    "\n",
    "plt.gca().xaxis.zoom(-0.1)\n",
    "plt.xlabel(\"time\")\n",
    "\n",
    "plt.legend(loc='best', frameon=True);\n",
    "plt.gca().xaxis.set_major_formatter(matplotlib.dates.DateFormatter(\"%H:%M:%S\"));\n",
    "plt.tight_layout()"
   ]
  },
  {
   "cell_type": "code",
   "execution_count": 8,
   "metadata": {},
   "outputs": [
    {
     "data": {
      "application/vnd.jupyter.widget-view+json": {
       "model_id": "4df89e2963ae49a1bdc78c3603a2569c",
       "version_major": 2,
       "version_minor": 0
      },
      "text/plain": [
       "FigureCanvasNbAgg()"
      ]
     },
     "metadata": {},
     "output_type": "display_data"
    }
   ],
   "source": [
    "df['z_duration'] = stats.zscore(df['duration'])\n",
    "df['z_speed'] = stats.zscore(df['speed'])\n",
    "df['z_distance'] = stats.zscore(df['distance'])\n",
    "\n",
    "fig = plt.figure(figsize=(9.5,3))\n",
    "plt.title('Evolution of duration, distance, and speed between each pair of points')\n",
    "plt.plot(df['z_duration'], '-o', label='z duration', lw=2, ms=5, mew=.5, mec='k', alpha=.8)\n",
    "plt.plot(df['z_speed'], '--s', label='z speed', lw=2, ms=5, mew=.5, mec='k', alpha=.8)\n",
    "plt.plot(df['z_distance'], ':D', label='z distance', lw=2, ms=5, mew=.5, mec='k', alpha=.8)\n",
    "\n",
    "plt.gca().xaxis.zoom(-0.1)\n",
    "plt.xlabel(\"time\")\n",
    "\n",
    "plt.legend(loc='best', frameon=True);\n",
    "plt.gca().xaxis.set_major_formatter(matplotlib.dates.DateFormatter(\"%H:%M:%S\"));\n",
    "#plt.tight_layout()"
   ]
  },
  {
   "cell_type": "code",
   "execution_count": 9,
   "metadata": {},
   "outputs": [
    {
     "data": {
      "application/vnd.jupyter.widget-view+json": {
       "model_id": "6123ea42288e42c0a2aa51cfdc1399e7",
       "version_major": 2,
       "version_minor": 0
      },
      "text/plain": [
       "FigureCanvasNbAgg()"
      ]
     },
     "metadata": {},
     "output_type": "display_data"
    }
   ],
   "source": [
    "fig, (ax1, ax2, ax3) = plt.subplots(nrows=3, sharex=True)\n",
    "ax1.set_title('Evolution of duration, distance, and speed between each pair of points')\n",
    "ax1.plot(df['distance'], '-o', label='distance (m)', lw=2, ms=5, mew=.5, mec='k', alpha=.8)\n",
    "ax1.set_ylabel('distance (m)')\n",
    "\n",
    "ax2.plot(df['duration'], '-o', label='duration (s)', lw=2, ms=5, mew=.5, mec='k', alpha=.8)\n",
    "ax2.set_ylabel('duration (s)')\n",
    "\n",
    "ax3.plot(df['speed'], '-o', label='speed (m/s)', lw=2, ms=5, mew=.5, mec='k', alpha=.8)\n",
    "ax3.set_ylabel('speed (m/s)')\n",
    "\n",
    "plt.gca().xaxis.zoom(-0.1)\n",
    "plt.xlabel(\"time\")\n",
    "\n",
    "plt.gca().xaxis.set_major_formatter(matplotlib.dates.DateFormatter(\"%H:%M:%S\"));\n",
    "plt.tight_layout()"
   ]
  },
  {
   "cell_type": "markdown",
   "metadata": {},
   "source": [
    "## Parameters\n",
    "\n",
    "- `distance_threshold`, `duration_threshold`, `speed_threshold`: value of absolute modified z-score at which higher values are considered as outliers\n",
    "\n",
    "- `minimum_angle`: minimum angle in degrees\n",
    "\n",
    "- `max_sequential_sharp_angles`: maximum number of sequential angles that can be below `minimum_angle`\n",
    "\n",
    "- `jitter`: amount of random noise that can be added to each duration"
   ]
  },
  {
   "cell_type": "code",
   "execution_count": 10,
   "metadata": {
    "collapsed": true
   },
   "outputs": [],
   "source": [
    "distance_threshold = 3.5\n",
    "duration_threshold = 5.0\n",
    "speed_threshold = 3.5\n",
    "\n",
    "minimum_angle = 45\n",
    "max_sequential_sharp_angles = 1\n",
    "\n",
    "jitter = 0.01"
   ]
  },
  {
   "cell_type": "markdown",
   "metadata": {},
   "source": [
    "## Noise labeling"
   ]
  },
  {
   "cell_type": "markdown",
   "metadata": {},
   "source": [
    "### Analysis of distance between points"
   ]
  },
  {
   "cell_type": "markdown",
   "metadata": {},
   "source": [
    "Statistics about distance:"
   ]
  },
  {
   "cell_type": "code",
   "execution_count": 11,
   "metadata": {
    "collapsed": true
   },
   "outputs": [
    {
     "data": {
      "text/plain": [
       "count    76.000000\n",
       "mean     11.964737\n",
       "std       5.449888\n",
       "min       9.980000\n",
       "25%      10.577500\n",
       "50%      11.090000\n",
       "75%      11.620000\n",
       "max      54.940000\n",
       "Name: distance, dtype: float64"
      ]
     },
     "execution_count": 11,
     "metadata": {},
     "output_type": "execute_result"
    }
   ],
   "source": [
    "df['distance'].describe()"
   ]
  },
  {
   "cell_type": "markdown",
   "metadata": {},
   "source": [
    "Modified z-score computation:"
   ]
  },
  {
   "cell_type": "code",
   "execution_count": 12,
   "metadata": {
    "collapsed": true
   },
   "outputs": [],
   "source": [
    "mz_distance = st.modified_zscore(df['distance'])\n",
    "long_distance_indexes = [i for i, mz in enumerate(mz_distance) \n",
    "                         if mz > distance_threshold]"
   ]
  },
  {
   "cell_type": "markdown",
   "metadata": {},
   "source": [
    "Abnormal distance(s):"
   ]
  },
  {
   "cell_type": "code",
   "execution_count": 13,
   "metadata": {
    "collapsed": true
   },
   "outputs": [
    {
     "data": {
      "text/html": [
       "<div>\n",
       "<style scoped>\n",
       "    .dataframe tbody tr th:only-of-type {\n",
       "        vertical-align: middle;\n",
       "    }\n",
       "\n",
       "    .dataframe tbody tr th {\n",
       "        vertical-align: top;\n",
       "    }\n",
       "\n",
       "    .dataframe thead th {\n",
       "        text-align: right;\n",
       "    }\n",
       "</style>\n",
       "<table border=\"1\" class=\"dataframe\">\n",
       "  <thead>\n",
       "    <tr style=\"text-align: right;\">\n",
       "      <th></th>\n",
       "      <th>latitude</th>\n",
       "      <th>longitude</th>\n",
       "      <th>distance</th>\n",
       "      <th>duration</th>\n",
       "      <th>speed</th>\n",
       "      <th>acceleration</th>\n",
       "      <th>heading</th>\n",
       "      <th>angle</th>\n",
       "      <th>elevation</th>\n",
       "      <th>timestamp</th>\n",
       "      <th>idx</th>\n",
       "      <th>z_duration</th>\n",
       "      <th>z_speed</th>\n",
       "      <th>z_distance</th>\n",
       "    </tr>\n",
       "  </thead>\n",
       "  <tbody>\n",
       "    <tr>\n",
       "      <th>2016-07-04 16:13:29</th>\n",
       "      <td>45.190644</td>\n",
       "      <td>5.762608</td>\n",
       "      <td>54.94</td>\n",
       "      <td>46</td>\n",
       "      <td>1.19</td>\n",
       "      <td>3.29</td>\n",
       "      <td>261</td>\n",
       "      <td>174.44</td>\n",
       "      <td>215</td>\n",
       "      <td>2016-07-04 16:13:29</td>\n",
       "      <td>30</td>\n",
       "      <td>5.254955</td>\n",
       "      <td>-1.089486</td>\n",
       "      <td>7.937927</td>\n",
       "    </tr>\n",
       "    <tr>\n",
       "      <th>2016-07-04 16:13:31</th>\n",
       "      <td>45.190608</td>\n",
       "      <td>5.762417</td>\n",
       "      <td>15.55</td>\n",
       "      <td>2</td>\n",
       "      <td>7.77</td>\n",
       "      <td>-0.77</td>\n",
       "      <td>255</td>\n",
       "      <td>177.92</td>\n",
       "      <td>213</td>\n",
       "      <td>2016-07-04 16:13:31</td>\n",
       "      <td>31</td>\n",
       "      <td>-0.633976</td>\n",
       "      <td>5.315761</td>\n",
       "      <td>0.662231</td>\n",
       "    </tr>\n",
       "    <tr>\n",
       "      <th>2016-07-04 16:17:16</th>\n",
       "      <td>45.187866</td>\n",
       "      <td>5.758729</td>\n",
       "      <td>28.62</td>\n",
       "      <td>12</td>\n",
       "      <td>2.38</td>\n",
       "      <td>0.20</td>\n",
       "      <td>213</td>\n",
       "      <td>177.05</td>\n",
       "      <td>216</td>\n",
       "      <td>2016-07-04 16:17:16</td>\n",
       "      <td>69</td>\n",
       "      <td>0.704418</td>\n",
       "      <td>0.068909</td>\n",
       "      <td>3.076381</td>\n",
       "    </tr>\n",
       "  </tbody>\n",
       "</table>\n",
       "</div>"
      ],
      "text/plain": [
       "                      latitude  longitude  distance  duration  speed  \\\n",
       "2016-07-04 16:13:29  45.190644   5.762608     54.94        46   1.19   \n",
       "2016-07-04 16:13:31  45.190608   5.762417     15.55         2   7.77   \n",
       "2016-07-04 16:17:16  45.187866   5.758729     28.62        12   2.38   \n",
       "\n",
       "                     acceleration  heading   angle  elevation  \\\n",
       "2016-07-04 16:13:29          3.29      261  174.44        215   \n",
       "2016-07-04 16:13:31         -0.77      255  177.92        213   \n",
       "2016-07-04 16:17:16          0.20      213  177.05        216   \n",
       "\n",
       "                              timestamp  idx  z_duration   z_speed  z_distance  \n",
       "2016-07-04 16:13:29 2016-07-04 16:13:29   30    5.254955 -1.089486    7.937927  \n",
       "2016-07-04 16:13:31 2016-07-04 16:13:31   31   -0.633976  5.315761    0.662231  \n",
       "2016-07-04 16:17:16 2016-07-04 16:17:16   69    0.704418  0.068909    3.076381  "
      ]
     },
     "execution_count": 13,
     "metadata": {},
     "output_type": "execute_result"
    }
   ],
   "source": [
    "df.iloc[long_distance_indexes]"
   ]
  },
  {
   "cell_type": "markdown",
   "metadata": {},
   "source": [
    "Distribution of modified-zscore of distances:"
   ]
  },
  {
   "cell_type": "code",
   "execution_count": 14,
   "metadata": {
    "collapsed": true
   },
   "outputs": [
    {
     "data": {
      "application/vnd.jupyter.widget-view+json": {
       "model_id": "8b5b579faa514046b9dcf753e8026b62",
       "version_major": 2,
       "version_minor": 0
      },
      "text/plain": [
       "FigureCanvasNbAgg()"
      ]
     },
     "metadata": {},
     "output_type": "display_data"
    }
   ],
   "source": [
    "plt.figure()\n",
    "plt.title(\"Distribution of distances' z-scores\")\n",
    "plt.ylabel('frequency')\n",
    "\n",
    "sns.distplot(mz_distance.as_matrix(), rug=True)\n",
    "\n",
    "plt.xticks(list(plt.xticks()[0]) + [distance_threshold])\n",
    "plt.axvline(distance_threshold, color='tomato', linestyle='--');"
   ]
  },
  {
   "cell_type": "markdown",
   "metadata": {},
   "source": [
    "### Analysis of angles between points"
   ]
  },
  {
   "cell_type": "code",
   "execution_count": 15,
   "metadata": {
    "collapsed": true
   },
   "outputs": [],
   "source": [
    "sharp_angles = df[df['angle'] < minimum_angle][:-1]\n",
    "sharp_angles_index = [df.index.get_loc(i) \n",
    "                          for i in sharp_angles.index]\n",
    "\n",
    "diff = np.ediff1d(sharp_angles_index, np.inf)\n",
    "mask = [True if d <= max_sequential_sharp_angles + 1 \n",
    "            else False for d in diff]\n",
    "\n",
    "outliers = []\n",
    "for i, m in enumerate(mask):\n",
    "    if m:\n",
    "        outliers.append(sharp_angles_index[i])\n",
    "        outliers.append(sharp_angles_index[i+1])\n",
    "        \n",
    "sharp_angle_intervals = util.get_interval_limits(outliers)\n",
    "\n",
    "sharp_angle_indexes = []\n",
    "for interval in sharp_angle_intervals:\n",
    "    sharp_angle_indexes.extend(np.linspace(interval[0], \n",
    "                                           interval[1], \n",
    "                                           interval[1]-interval[0]+1, \n",
    "                                           dtype=int))"
   ]
  },
  {
   "cell_type": "markdown",
   "metadata": {},
   "source": [
    "Sharp angles:"
   ]
  },
  {
   "cell_type": "code",
   "execution_count": 16,
   "metadata": {
    "collapsed": true
   },
   "outputs": [
    {
     "data": {
      "text/html": [
       "<div>\n",
       "<style scoped>\n",
       "    .dataframe tbody tr th:only-of-type {\n",
       "        vertical-align: middle;\n",
       "    }\n",
       "\n",
       "    .dataframe tbody tr th {\n",
       "        vertical-align: top;\n",
       "    }\n",
       "\n",
       "    .dataframe thead th {\n",
       "        text-align: right;\n",
       "    }\n",
       "</style>\n",
       "<table border=\"1\" class=\"dataframe\">\n",
       "  <thead>\n",
       "    <tr style=\"text-align: right;\">\n",
       "      <th></th>\n",
       "      <th>latitude</th>\n",
       "      <th>longitude</th>\n",
       "      <th>distance</th>\n",
       "      <th>duration</th>\n",
       "      <th>speed</th>\n",
       "      <th>acceleration</th>\n",
       "      <th>heading</th>\n",
       "      <th>angle</th>\n",
       "      <th>elevation</th>\n",
       "      <th>timestamp</th>\n",
       "      <th>idx</th>\n",
       "      <th>z_duration</th>\n",
       "      <th>z_speed</th>\n",
       "      <th>z_distance</th>\n",
       "    </tr>\n",
       "  </thead>\n",
       "  <tbody>\n",
       "  </tbody>\n",
       "</table>\n",
       "</div>"
      ],
      "text/plain": [
       "Empty DataFrame\n",
       "Columns: [latitude, longitude, distance, duration, speed, acceleration, heading, angle, elevation, timestamp, idx, z_duration, z_speed, z_distance]\n",
       "Index: []"
      ]
     },
     "execution_count": 16,
     "metadata": {},
     "output_type": "execute_result"
    }
   ],
   "source": [
    "df.iloc[sharp_angle_indexes]"
   ]
  },
  {
   "cell_type": "code",
   "execution_count": 17,
   "metadata": {
    "collapsed": true
   },
   "outputs": [
    {
     "data": {
      "application/vnd.jupyter.widget-view+json": {
       "model_id": "5aa125378fb44234a8b5fe354297f348",
       "version_major": 2,
       "version_minor": 0
      },
      "text/plain": [
       "FigureCanvasNbAgg()"
      ]
     },
     "metadata": {},
     "output_type": "display_data"
    }
   ],
   "source": [
    "plt.figure()\n",
    "\n",
    "plt.title('Evolution of direction')\n",
    "plt.ylabel('Angle (degrees)')\n",
    "\n",
    "plt.plot(df['angle'][:-1], ':o')\n",
    "plt.plot(df.iloc[sharp_angle_indexes]['angle'], 's', color='tomato')\n",
    "plt.axhline(minimum_angle, color='tomato', ls='--')\n",
    "plt.gca().xaxis.set_major_formatter(\n",
    "    matplotlib.dates.DateFormatter(\"%H:%M:%S\"));"
   ]
  },
  {
   "cell_type": "markdown",
   "metadata": {},
   "source": [
    "### Remove outliers"
   ]
  },
  {
   "cell_type": "code",
   "execution_count": 18,
   "metadata": {},
   "outputs": [
    {
     "data": {
      "text/plain": [
       "array([29, 30, 68])"
      ]
     },
     "execution_count": 18,
     "metadata": {},
     "output_type": "execute_result"
    }
   ],
   "source": [
    "noise_indexes = np.union1d(long_distance_indexes, sharp_angle_indexes)\n",
    "noise_indexes = np.array(noise_indexes, dtype=int)\n",
    "noise_indexes"
   ]
  },
  {
   "cell_type": "code",
   "execution_count": 19,
   "metadata": {},
   "outputs": [],
   "source": [
    "def get_interval_limits(array, tolerance=1):\n",
    "    print(array)\n",
    "    diff = np.ediff1d(array, np.inf)\n",
    "    print(diff)\n",
    "    mask = [True if d <= abs(tolerance+1) else False for d in diff]\n",
    "    print(mask)\n",
    "    # d <= 2 includes 'normal' observations between 2 'abnormal' observations\n",
    "\n",
    "    start = None\n",
    "    intervals = []\n",
    "    for i in range(len(array)):\n",
    "        print(array[i])\n",
    "        if mask[i]:\n",
    "            if start is None:\n",
    "                start = array[i]\n",
    "                continue\n",
    "        else:\n",
    "            end = array[i]\n",
    "            if start is None:\n",
    "                start = array[i]\n",
    "\n",
    "            intervals.append([start, end])\n",
    "            print(intervals)\n",
    "            start, end = None, None\n",
    "    \n",
    "    # case there's still an opened interval:\n",
    "    if any([start, end]) and not all([start, end]):\n",
    "        print(start, end)\n",
    "        intervals.append([start, start])\n",
    "\n",
    "    return intervals"
   ]
  },
  {
   "cell_type": "code",
   "execution_count": 20,
   "metadata": {},
   "outputs": [
    {
     "name": "stdout",
     "output_type": "stream",
     "text": [
      "[29 30 68]\n",
      "[                   1                   38 -9223372036854775808]\n",
      "[True, False, True]\n",
      "29\n",
      "30\n",
      "[[29, 30]]\n",
      "68\n",
      "68 None\n"
     ]
    },
    {
     "data": {
      "text/plain": [
       "[[29, 30], [68, 68]]"
      ]
     },
     "execution_count": 20,
     "metadata": {},
     "output_type": "execute_result"
    }
   ],
   "source": [
    "noise_intervals = get_interval_limits(noise_indexes)\n",
    "noise_intervals"
   ]
  },
  {
   "cell_type": "code",
   "execution_count": 21,
   "metadata": {},
   "outputs": [
    {
     "name": "stdout",
     "output_type": "stream",
     "text": [
      "[[29, 30], [68, 68]]\n"
     ]
    },
    {
     "data": {
      "text/plain": [
       "array([29., 30., 68.])"
      ]
     },
     "execution_count": 21,
     "metadata": {},
     "output_type": "execute_result"
    }
   ],
   "source": [
    "noise_indexes = np.array([])\n",
    "print(noise_intervals)\n",
    "for interval in noise_intervals:\n",
    "    linspace = np.linspace(interval[0], interval[1], interval[1]-interval[0]+1)\n",
    "    noise_indexes = np.concatenate((noise_indexes, linspace))\n",
    "\n",
    "noise_indexes"
   ]
  },
  {
   "cell_type": "code",
   "execution_count": 22,
   "metadata": {},
   "outputs": [
    {
     "data": {
      "text/plain": [
       "array([29, 30, 68])"
      ]
     },
     "execution_count": 22,
     "metadata": {},
     "output_type": "execute_result"
    }
   ],
   "source": [
    "noise_indexes = np.array(np.sort(noise_indexes), dtype=int)\n",
    "noise = df.iloc[noise_indexes]\n",
    "noise_indexes"
   ]
  },
  {
   "cell_type": "code",
   "execution_count": 23,
   "metadata": {},
   "outputs": [
    {
     "data": {
      "text/html": [
       "<div>\n",
       "<style scoped>\n",
       "    .dataframe tbody tr th:only-of-type {\n",
       "        vertical-align: middle;\n",
       "    }\n",
       "\n",
       "    .dataframe tbody tr th {\n",
       "        vertical-align: top;\n",
       "    }\n",
       "\n",
       "    .dataframe thead th {\n",
       "        text-align: right;\n",
       "    }\n",
       "</style>\n",
       "<table border=\"1\" class=\"dataframe\">\n",
       "  <thead>\n",
       "    <tr style=\"text-align: right;\">\n",
       "      <th></th>\n",
       "      <th>latitude</th>\n",
       "      <th>longitude</th>\n",
       "      <th>distance</th>\n",
       "      <th>duration</th>\n",
       "      <th>speed</th>\n",
       "      <th>acceleration</th>\n",
       "      <th>heading</th>\n",
       "      <th>angle</th>\n",
       "      <th>elevation</th>\n",
       "      <th>timestamp</th>\n",
       "      <th>idx</th>\n",
       "      <th>z_duration</th>\n",
       "      <th>z_speed</th>\n",
       "      <th>z_distance</th>\n",
       "    </tr>\n",
       "  </thead>\n",
       "  <tbody>\n",
       "    <tr>\n",
       "      <th>2016-07-04 16:13:29</th>\n",
       "      <td>45.190644</td>\n",
       "      <td>5.762608</td>\n",
       "      <td>54.94</td>\n",
       "      <td>46</td>\n",
       "      <td>1.19</td>\n",
       "      <td>3.29</td>\n",
       "      <td>261</td>\n",
       "      <td>174.44</td>\n",
       "      <td>215</td>\n",
       "      <td>2016-07-04 16:13:29</td>\n",
       "      <td>30</td>\n",
       "      <td>5.254955</td>\n",
       "      <td>-1.089486</td>\n",
       "      <td>7.937927</td>\n",
       "    </tr>\n",
       "    <tr>\n",
       "      <th>2016-07-04 16:13:31</th>\n",
       "      <td>45.190608</td>\n",
       "      <td>5.762417</td>\n",
       "      <td>15.55</td>\n",
       "      <td>2</td>\n",
       "      <td>7.77</td>\n",
       "      <td>-0.77</td>\n",
       "      <td>255</td>\n",
       "      <td>177.92</td>\n",
       "      <td>213</td>\n",
       "      <td>2016-07-04 16:13:31</td>\n",
       "      <td>31</td>\n",
       "      <td>-0.633976</td>\n",
       "      <td>5.315761</td>\n",
       "      <td>0.662231</td>\n",
       "    </tr>\n",
       "    <tr>\n",
       "      <th>2016-07-04 16:17:16</th>\n",
       "      <td>45.187866</td>\n",
       "      <td>5.758729</td>\n",
       "      <td>28.62</td>\n",
       "      <td>12</td>\n",
       "      <td>2.38</td>\n",
       "      <td>0.20</td>\n",
       "      <td>213</td>\n",
       "      <td>177.05</td>\n",
       "      <td>216</td>\n",
       "      <td>2016-07-04 16:17:16</td>\n",
       "      <td>69</td>\n",
       "      <td>0.704418</td>\n",
       "      <td>0.068909</td>\n",
       "      <td>3.076381</td>\n",
       "    </tr>\n",
       "  </tbody>\n",
       "</table>\n",
       "</div>"
      ],
      "text/plain": [
       "                      latitude  longitude  distance  duration  speed  \\\n",
       "2016-07-04 16:13:29  45.190644   5.762608     54.94        46   1.19   \n",
       "2016-07-04 16:13:31  45.190608   5.762417     15.55         2   7.77   \n",
       "2016-07-04 16:17:16  45.187866   5.758729     28.62        12   2.38   \n",
       "\n",
       "                     acceleration  heading   angle  elevation  \\\n",
       "2016-07-04 16:13:29          3.29      261  174.44        215   \n",
       "2016-07-04 16:13:31         -0.77      255  177.92        213   \n",
       "2016-07-04 16:17:16          0.20      213  177.05        216   \n",
       "\n",
       "                              timestamp  idx  z_duration   z_speed  z_distance  \n",
       "2016-07-04 16:13:29 2016-07-04 16:13:29   30    5.254955 -1.089486    7.937927  \n",
       "2016-07-04 16:13:31 2016-07-04 16:13:31   31   -0.633976  5.315761    0.662231  \n",
       "2016-07-04 16:17:16 2016-07-04 16:17:16   69    0.704418  0.068909    3.076381  "
      ]
     },
     "execution_count": 23,
     "metadata": {},
     "output_type": "execute_result"
    }
   ],
   "source": [
    "noise = df.iloc[noise_indexes]\n",
    "noise"
   ]
  },
  {
   "cell_type": "code",
   "execution_count": 24,
   "metadata": {
    "collapsed": true
   },
   "outputs": [
    {
     "name": "stdout",
     "output_type": "stream",
     "text": [
      "[29 30 68]\n",
      "[                   1                   38 -9223372036854775808]\n",
      "[True, False, True]\n",
      "29\n",
      "30\n",
      "[[29, 30]]\n",
      "68\n",
      "68 None\n",
      "original: 76\n",
      "without outliers: 73\n",
      "3.95% of points have been dropped\n"
     ]
    }
   ],
   "source": [
    "noise_indexes = np.union1d(long_distance_indexes, sharp_angle_indexes)\n",
    "noise_indexes = np.array(noise_indexes, dtype=int)\n",
    "noise_intervals = get_interval_limits(noise_indexes)\n",
    "\n",
    "noise_indexes = np.array([])\n",
    "for interval in noise_intervals:\n",
    "    linspace = np.linspace(interval[0], interval[1], interval[1]-interval[0]+1)\n",
    "    noise_indexes = np.concatenate((noise_indexes, linspace))\n",
    "    \n",
    "noise_indexes = np.array(np.sort(noise_indexes), dtype=int)\n",
    "noise = df.iloc[noise_indexes]\n",
    "\n",
    "df_clean = df.drop(df.index[noise_indexes])\n",
    "\n",
    "original_len = len(df)\n",
    "without_outliers_len = len(df_clean)\n",
    "\n",
    "print('original:', original_len)\n",
    "print('without outliers:', without_outliers_len)\n",
    "print('{:.2f}% of points have been dropped'.format((1 - without_outliers_len/original_len)*100))"
   ]
  },
  {
   "cell_type": "code",
   "execution_count": 25,
   "metadata": {},
   "outputs": [
    {
     "data": {
      "text/plain": [
       "array([29, 30, 68])"
      ]
     },
     "execution_count": 25,
     "metadata": {},
     "output_type": "execute_result"
    }
   ],
   "source": [
    "noise_indexes"
   ]
  },
  {
   "cell_type": "markdown",
   "metadata": {},
   "source": [
    "Show noisy points:"
   ]
  },
  {
   "cell_type": "code",
   "execution_count": 26,
   "metadata": {
    "collapsed": true
   },
   "outputs": [
    {
     "data": {
      "application/vnd.jupyter.widget-view+json": {
       "model_id": "a7d01a358ce54f729ef8f7097070f4c4",
       "version_major": 2,
       "version_minor": 0
      },
      "text/plain": [
       "FigureCanvasNbAgg()"
      ]
     },
     "metadata": {},
     "output_type": "display_data"
    }
   ],
   "source": [
    "fig = plt.figure()\n",
    "ax = fig.add_subplot(111)\n",
    "plt.xlabel('longitude')\n",
    "plt.ylabel('latitude')\n",
    "plt.title('Noise points')\n",
    "\n",
    "xx = df.longitude\n",
    "yy = df.latitude\n",
    "plt.plot(xx, yy, 'o:', ms=7, alpha=1)\n",
    "\n",
    "xx = df.iloc[noise_indexes].longitude\n",
    "yy = df.iloc[noise_indexes].latitude\n",
    "plt.plot(xx, yy, 's', ms=9, alpha=.8, mew=.5, mec='k')\n",
    "\n",
    "central_latitude = sum(plt.axes().get_ylim())/2.\n",
    "mercator_aspect_ratio = 1/math.cos(math.radians(central_latitude))\n",
    "plt.axes().set_aspect(mercator_aspect_ratio, adjustable='datalim')"
   ]
  },
  {
   "cell_type": "markdown",
   "metadata": {},
   "source": [
    "## Stop classification"
   ]
  },
  {
   "cell_type": "markdown",
   "metadata": {},
   "source": [
    "### Analysis of duration between points"
   ]
  },
  {
   "cell_type": "markdown",
   "metadata": {},
   "source": [
    "Statistics about duration:"
   ]
  },
  {
   "cell_type": "code",
   "execution_count": 27,
   "metadata": {
    "collapsed": true,
    "scrolled": true
   },
   "outputs": [
    {
     "data": {
      "text/plain": [
       "count    73.000000\n",
       "mean      6.191781\n",
       "std       6.043034\n",
       "min       2.000000\n",
       "25%       4.000000\n",
       "50%       5.000000\n",
       "75%       6.000000\n",
       "max      42.000000\n",
       "Name: duration, dtype: float64"
      ]
     },
     "execution_count": 27,
     "metadata": {},
     "output_type": "execute_result"
    }
   ],
   "source": [
    "df_clean['duration'].describe()"
   ]
  },
  {
   "cell_type": "markdown",
   "metadata": {},
   "source": [
    "Modified z-score computation:"
   ]
  },
  {
   "cell_type": "code",
   "execution_count": 28,
   "metadata": {
    "collapsed": true
   },
   "outputs": [],
   "source": [
    "duration_with_jitter = pp.jitter(df_clean['duration'], jitter)\n",
    "mz_duration = st.modified_zscore(duration_with_jitter)\n",
    "long_duration_indexes = [i for i, mz in enumerate(mz_duration) if mz > duration_threshold]"
   ]
  },
  {
   "cell_type": "markdown",
   "metadata": {},
   "source": [
    "Abnormal duration(s):"
   ]
  },
  {
   "cell_type": "code",
   "execution_count": 29,
   "metadata": {
    "collapsed": true,
    "scrolled": true
   },
   "outputs": [
    {
     "data": {
      "text/html": [
       "<div>\n",
       "<style scoped>\n",
       "    .dataframe tbody tr th:only-of-type {\n",
       "        vertical-align: middle;\n",
       "    }\n",
       "\n",
       "    .dataframe tbody tr th {\n",
       "        vertical-align: top;\n",
       "    }\n",
       "\n",
       "    .dataframe thead th {\n",
       "        text-align: right;\n",
       "    }\n",
       "</style>\n",
       "<table border=\"1\" class=\"dataframe\">\n",
       "  <thead>\n",
       "    <tr style=\"text-align: right;\">\n",
       "      <th></th>\n",
       "      <th>latitude</th>\n",
       "      <th>longitude</th>\n",
       "      <th>distance</th>\n",
       "      <th>duration</th>\n",
       "      <th>speed</th>\n",
       "      <th>acceleration</th>\n",
       "      <th>heading</th>\n",
       "      <th>angle</th>\n",
       "      <th>elevation</th>\n",
       "      <th>timestamp</th>\n",
       "      <th>idx</th>\n",
       "      <th>z_duration</th>\n",
       "      <th>z_speed</th>\n",
       "      <th>z_distance</th>\n",
       "    </tr>\n",
       "  </thead>\n",
       "  <tbody>\n",
       "    <tr>\n",
       "      <th>2016-07-04 16:11:38</th>\n",
       "      <td>45.190511</td>\n",
       "      <td>5.764833</td>\n",
       "      <td>10.05</td>\n",
       "      <td>42</td>\n",
       "      <td>0.24</td>\n",
       "      <td>0.28</td>\n",
       "      <td>298</td>\n",
       "      <td>177.37</td>\n",
       "      <td>216</td>\n",
       "      <td>2016-07-04 16:11:38</td>\n",
       "      <td>17</td>\n",
       "      <td>4.719597</td>\n",
       "      <td>-2.014256</td>\n",
       "      <td>-0.353670</td>\n",
       "    </tr>\n",
       "    <tr>\n",
       "      <th>2016-07-04 16:15:38</th>\n",
       "      <td>45.189882</td>\n",
       "      <td>5.760566</td>\n",
       "      <td>11.73</td>\n",
       "      <td>40</td>\n",
       "      <td>0.29</td>\n",
       "      <td>0.37</td>\n",
       "      <td>174</td>\n",
       "      <td>177.17</td>\n",
       "      <td>214</td>\n",
       "      <td>2016-07-04 16:15:38</td>\n",
       "      <td>47</td>\n",
       "      <td>4.451919</td>\n",
       "      <td>-1.965584</td>\n",
       "      <td>-0.043358</td>\n",
       "    </tr>\n",
       "  </tbody>\n",
       "</table>\n",
       "</div>"
      ],
      "text/plain": [
       "                      latitude  longitude  distance  duration  speed  \\\n",
       "2016-07-04 16:11:38  45.190511   5.764833     10.05        42   0.24   \n",
       "2016-07-04 16:15:38  45.189882   5.760566     11.73        40   0.29   \n",
       "\n",
       "                     acceleration  heading   angle  elevation  \\\n",
       "2016-07-04 16:11:38          0.28      298  177.37        216   \n",
       "2016-07-04 16:15:38          0.37      174  177.17        214   \n",
       "\n",
       "                              timestamp  idx  z_duration   z_speed  z_distance  \n",
       "2016-07-04 16:11:38 2016-07-04 16:11:38   17    4.719597 -2.014256   -0.353670  \n",
       "2016-07-04 16:15:38 2016-07-04 16:15:38   47    4.451919 -1.965584   -0.043358  "
      ]
     },
     "execution_count": 29,
     "metadata": {},
     "output_type": "execute_result"
    }
   ],
   "source": [
    "df_clean.iloc[long_duration_indexes]"
   ]
  },
  {
   "cell_type": "markdown",
   "metadata": {},
   "source": [
    "Distribution of modified-zscore of durations:"
   ]
  },
  {
   "cell_type": "code",
   "execution_count": 30,
   "metadata": {
    "collapsed": true
   },
   "outputs": [
    {
     "data": {
      "application/vnd.jupyter.widget-view+json": {
       "model_id": "3f54160f9694400483bcac63114116e2",
       "version_major": 2,
       "version_minor": 0
      },
      "text/plain": [
       "FigureCanvasNbAgg()"
      ]
     },
     "metadata": {},
     "output_type": "display_data"
    }
   ],
   "source": [
    "plt.figure()\n",
    "plt.title(\"Distribution of durations' z-scores\")\n",
    "plt.ylabel('frequency')\n",
    "\n",
    "sns.distplot(mz_duration.as_matrix(), rug=True)\n",
    "\n",
    "plt.xticks(list(plt.xticks()[0]) + [duration_threshold])\n",
    "plt.axvline(duration_threshold, color='tomato', linestyle='--');"
   ]
  },
  {
   "cell_type": "markdown",
   "metadata": {},
   "source": [
    "### Analysis of speed"
   ]
  },
  {
   "cell_type": "markdown",
   "metadata": {},
   "source": [
    "Statistics about speed:"
   ]
  },
  {
   "cell_type": "code",
   "execution_count": 31,
   "metadata": {
    "collapsed": true,
    "scrolled": true
   },
   "outputs": [
    {
     "data": {
      "text/plain": [
       "count    73.000000\n",
       "mean      2.248767\n",
       "std       0.823770\n",
       "min       0.240000\n",
       "25%       1.770000\n",
       "50%       2.100000\n",
       "75%       2.800000\n",
       "max       6.230000\n",
       "Name: speed, dtype: float64"
      ]
     },
     "execution_count": 31,
     "metadata": {},
     "output_type": "execute_result"
    }
   ],
   "source": [
    "df_clean['speed'].describe()"
   ]
  },
  {
   "cell_type": "markdown",
   "metadata": {},
   "source": [
    "Modified z-score computation:"
   ]
  },
  {
   "cell_type": "code",
   "execution_count": 32,
   "metadata": {
    "collapsed": true
   },
   "outputs": [],
   "source": [
    "mz_speed = st.modified_zscore(np.log(df_clean['speed']))\n",
    "slow_speed_indexes = [i for i, mz in enumerate(mz_speed) if mz < -3.5]"
   ]
  },
  {
   "cell_type": "markdown",
   "metadata": {},
   "source": [
    "Abnormal speed(s):"
   ]
  },
  {
   "cell_type": "code",
   "execution_count": 33,
   "metadata": {
    "collapsed": true,
    "scrolled": true
   },
   "outputs": [
    {
     "data": {
      "text/html": [
       "<div>\n",
       "<style scoped>\n",
       "    .dataframe tbody tr th:only-of-type {\n",
       "        vertical-align: middle;\n",
       "    }\n",
       "\n",
       "    .dataframe tbody tr th {\n",
       "        vertical-align: top;\n",
       "    }\n",
       "\n",
       "    .dataframe thead th {\n",
       "        text-align: right;\n",
       "    }\n",
       "</style>\n",
       "<table border=\"1\" class=\"dataframe\">\n",
       "  <thead>\n",
       "    <tr style=\"text-align: right;\">\n",
       "      <th></th>\n",
       "      <th>latitude</th>\n",
       "      <th>longitude</th>\n",
       "      <th>distance</th>\n",
       "      <th>duration</th>\n",
       "      <th>speed</th>\n",
       "      <th>acceleration</th>\n",
       "      <th>heading</th>\n",
       "      <th>angle</th>\n",
       "      <th>elevation</th>\n",
       "      <th>timestamp</th>\n",
       "      <th>idx</th>\n",
       "      <th>z_duration</th>\n",
       "      <th>z_speed</th>\n",
       "      <th>z_distance</th>\n",
       "    </tr>\n",
       "  </thead>\n",
       "  <tbody>\n",
       "    <tr>\n",
       "      <th>2016-07-04 16:11:38</th>\n",
       "      <td>45.190511</td>\n",
       "      <td>5.764833</td>\n",
       "      <td>10.05</td>\n",
       "      <td>42</td>\n",
       "      <td>0.24</td>\n",
       "      <td>0.28</td>\n",
       "      <td>298</td>\n",
       "      <td>177.37</td>\n",
       "      <td>216</td>\n",
       "      <td>2016-07-04 16:11:38</td>\n",
       "      <td>17</td>\n",
       "      <td>4.719597</td>\n",
       "      <td>-2.014256</td>\n",
       "      <td>-0.353670</td>\n",
       "    </tr>\n",
       "    <tr>\n",
       "      <th>2016-07-04 16:15:38</th>\n",
       "      <td>45.189882</td>\n",
       "      <td>5.760566</td>\n",
       "      <td>11.73</td>\n",
       "      <td>40</td>\n",
       "      <td>0.29</td>\n",
       "      <td>0.37</td>\n",
       "      <td>174</td>\n",
       "      <td>177.17</td>\n",
       "      <td>214</td>\n",
       "      <td>2016-07-04 16:15:38</td>\n",
       "      <td>47</td>\n",
       "      <td>4.451919</td>\n",
       "      <td>-1.965584</td>\n",
       "      <td>-0.043358</td>\n",
       "    </tr>\n",
       "  </tbody>\n",
       "</table>\n",
       "</div>"
      ],
      "text/plain": [
       "                      latitude  longitude  distance  duration  speed  \\\n",
       "2016-07-04 16:11:38  45.190511   5.764833     10.05        42   0.24   \n",
       "2016-07-04 16:15:38  45.189882   5.760566     11.73        40   0.29   \n",
       "\n",
       "                     acceleration  heading   angle  elevation  \\\n",
       "2016-07-04 16:11:38          0.28      298  177.37        216   \n",
       "2016-07-04 16:15:38          0.37      174  177.17        214   \n",
       "\n",
       "                              timestamp  idx  z_duration   z_speed  z_distance  \n",
       "2016-07-04 16:11:38 2016-07-04 16:11:38   17    4.719597 -2.014256   -0.353670  \n",
       "2016-07-04 16:15:38 2016-07-04 16:15:38   47    4.451919 -1.965584   -0.043358  "
      ]
     },
     "execution_count": 33,
     "metadata": {},
     "output_type": "execute_result"
    }
   ],
   "source": [
    "df_clean.iloc[slow_speed_indexes]"
   ]
  },
  {
   "cell_type": "markdown",
   "metadata": {},
   "source": [
    "Distribution of modified-zscore of speeds:"
   ]
  },
  {
   "cell_type": "code",
   "execution_count": 34,
   "metadata": {
    "collapsed": true
   },
   "outputs": [
    {
     "data": {
      "application/vnd.jupyter.widget-view+json": {
       "model_id": "207eb28289ad418cb117bdb0c2a98848",
       "version_major": 2,
       "version_minor": 0
      },
      "text/plain": [
       "FigureCanvasNbAgg()"
      ]
     },
     "metadata": {},
     "output_type": "display_data"
    }
   ],
   "source": [
    "plt.figure()\n",
    "plt.title(\"Distribution of speed's z-scores\")\n",
    "plt.ylabel('frequency')\n",
    "\n",
    "sns.distplot(df['speed'].as_matrix(), rug=True)\n",
    "\n",
    "plt.xticks(list(plt.xticks()[0]) + [-speed_threshold])\n",
    "plt.axvline(-speed_threshold, color='tomato', linestyle='--');"
   ]
  },
  {
   "cell_type": "code",
   "execution_count": 35,
   "metadata": {
    "collapsed": true
   },
   "outputs": [
    {
     "data": {
      "application/vnd.jupyter.widget-view+json": {
       "model_id": "39dd6293391044f5ae1d6a8320df600c",
       "version_major": 2,
       "version_minor": 0
      },
      "text/plain": [
       "FigureCanvasNbAgg()"
      ]
     },
     "metadata": {},
     "output_type": "display_data"
    }
   ],
   "source": [
    "plt.figure()\n",
    "plt.title(\"Distribution of speed's log z-scores\")\n",
    "plt.ylabel('frequency')\n",
    "\n",
    "sns.distplot(mz_speed.as_matrix(), rug=True)\n",
    "\n",
    "plt.xticks(list(plt.xticks()[0]) + [-speed_threshold])\n",
    "plt.axvline(-speed_threshold, color='tomato', linestyle='--');"
   ]
  },
  {
   "cell_type": "markdown",
   "metadata": {},
   "source": [
    "### The intersection of long times and slow speed are probably stops"
   ]
  },
  {
   "cell_type": "code",
   "execution_count": 36,
   "metadata": {
    "collapsed": true
   },
   "outputs": [
    {
     "data": {
      "text/html": [
       "<div>\n",
       "<style scoped>\n",
       "    .dataframe tbody tr th:only-of-type {\n",
       "        vertical-align: middle;\n",
       "    }\n",
       "\n",
       "    .dataframe tbody tr th {\n",
       "        vertical-align: top;\n",
       "    }\n",
       "\n",
       "    .dataframe thead th {\n",
       "        text-align: right;\n",
       "    }\n",
       "</style>\n",
       "<table border=\"1\" class=\"dataframe\">\n",
       "  <thead>\n",
       "    <tr style=\"text-align: right;\">\n",
       "      <th></th>\n",
       "      <th>latitude</th>\n",
       "      <th>longitude</th>\n",
       "      <th>distance</th>\n",
       "      <th>duration</th>\n",
       "      <th>speed</th>\n",
       "      <th>acceleration</th>\n",
       "      <th>heading</th>\n",
       "      <th>angle</th>\n",
       "      <th>elevation</th>\n",
       "      <th>timestamp</th>\n",
       "      <th>idx</th>\n",
       "      <th>z_duration</th>\n",
       "      <th>z_speed</th>\n",
       "      <th>z_distance</th>\n",
       "    </tr>\n",
       "  </thead>\n",
       "  <tbody>\n",
       "    <tr>\n",
       "      <th>2016-07-04 16:11:38</th>\n",
       "      <td>45.190511</td>\n",
       "      <td>5.764833</td>\n",
       "      <td>10.05</td>\n",
       "      <td>42</td>\n",
       "      <td>0.24</td>\n",
       "      <td>0.28</td>\n",
       "      <td>298</td>\n",
       "      <td>177.37</td>\n",
       "      <td>216</td>\n",
       "      <td>2016-07-04 16:11:38</td>\n",
       "      <td>17</td>\n",
       "      <td>4.719597</td>\n",
       "      <td>-2.014256</td>\n",
       "      <td>-0.353670</td>\n",
       "    </tr>\n",
       "    <tr>\n",
       "      <th>2016-07-04 16:15:38</th>\n",
       "      <td>45.189882</td>\n",
       "      <td>5.760566</td>\n",
       "      <td>11.73</td>\n",
       "      <td>40</td>\n",
       "      <td>0.29</td>\n",
       "      <td>0.37</td>\n",
       "      <td>174</td>\n",
       "      <td>177.17</td>\n",
       "      <td>214</td>\n",
       "      <td>2016-07-04 16:15:38</td>\n",
       "      <td>47</td>\n",
       "      <td>4.451919</td>\n",
       "      <td>-1.965584</td>\n",
       "      <td>-0.043358</td>\n",
       "    </tr>\n",
       "  </tbody>\n",
       "</table>\n",
       "</div>"
      ],
      "text/plain": [
       "                      latitude  longitude  distance  duration  speed  \\\n",
       "2016-07-04 16:11:38  45.190511   5.764833     10.05        42   0.24   \n",
       "2016-07-04 16:15:38  45.189882   5.760566     11.73        40   0.29   \n",
       "\n",
       "                     acceleration  heading   angle  elevation  \\\n",
       "2016-07-04 16:11:38          0.28      298  177.37        216   \n",
       "2016-07-04 16:15:38          0.37      174  177.17        214   \n",
       "\n",
       "                              timestamp  idx  z_duration   z_speed  z_distance  \n",
       "2016-07-04 16:11:38 2016-07-04 16:11:38   17    4.719597 -2.014256   -0.353670  \n",
       "2016-07-04 16:15:38 2016-07-04 16:15:38   47    4.451919 -1.965584   -0.043358  "
      ]
     },
     "execution_count": 36,
     "metadata": {},
     "output_type": "execute_result"
    }
   ],
   "source": [
    "stops = df_clean.iloc[np.intersect1d(long_duration_indexes, slow_speed_indexes)]\n",
    "stops"
   ]
  },
  {
   "cell_type": "markdown",
   "metadata": {},
   "source": [
    "### Relation between duration and speed"
   ]
  },
  {
   "cell_type": "code",
   "execution_count": 37,
   "metadata": {
    "collapsed": true
   },
   "outputs": [
    {
     "data": {
      "application/vnd.jupyter.widget-view+json": {
       "model_id": "cb95dbb554d1460591ee01182b0be458",
       "version_major": 2,
       "version_minor": 0
      },
      "text/plain": [
       "FigureCanvasNbAgg()"
      ]
     },
     "metadata": {},
     "output_type": "display_data"
    },
    {
     "name": "stderr",
     "output_type": "stream",
     "text": [
      "No handles with labels found to put in legend.\n"
     ]
    }
   ],
   "source": [
    "x_label = 'modified z-score (duration)'\n",
    "y_label = 'modified z-score (speed)'\n",
    "\n",
    "x = mz_duration\n",
    "y = mz_speed\n",
    "X = np.stack((x, y), axis=-1)\n",
    "\n",
    "fig = plt.figure()\n",
    "plt.xlabel(x_label)\n",
    "plt.ylabel(y_label)\n",
    "ax = fig.add_subplot(111)\n",
    "plt.scatter(X[:,0], X[:,1], s=50, alpha=.8, color='cornflowerblue', lw=1)\n",
    "plt.axhline(-speed_threshold, color='tomato', linestyle='--')\n",
    "plt.axvline(duration_threshold, color='tomato', linestyle='--')\n",
    "plt.legend(frameon=True)\n",
    "\n",
    "for i, element in enumerate(X):\n",
    "    if x[i] > duration_threshold and y[i] < -speed_threshold:\n",
    "        ax.annotate(df_clean.iloc[i]['idx'], xy=(element[0]+0.008, element[1]+0.001), color='black', alpha=.8)\n",
    "        plt.scatter(element[0], element[1], marker='D', s=60, color='tomato')"
   ]
  },
  {
   "cell_type": "markdown",
   "metadata": {},
   "source": [
    "### Visualizing the relation of duration, distance, and speed:"
   ]
  },
  {
   "cell_type": "code",
   "execution_count": 38,
   "metadata": {
    "collapsed": true
   },
   "outputs": [
    {
     "data": {
      "application/vnd.jupyter.widget-view+json": {
       "model_id": "54bb87d295944e8e8e3037dc230e4bff",
       "version_major": 2,
       "version_minor": 0
      },
      "text/plain": [
       "FigureCanvasNbAgg()"
      ]
     },
     "metadata": {},
     "output_type": "display_data"
    }
   ],
   "source": [
    "x_label = 'duration (s)'\n",
    "y_label = 'distance (m) '\n",
    "\n",
    "x = df['duration']\n",
    "y = df['distance']\n",
    "z = df['speed']\n",
    "\n",
    "X = np.stack((x, y), axis=-1)\n",
    "\n",
    "fig = plt.figure()\n",
    "plt.xlabel(x_label)\n",
    "plt.ylabel(y_label)\n",
    "ax = fig.add_subplot(111)\n",
    "plt.scatter(X[:,0], X[:,1], s=50, alpha=.8, color='cornflowerblue', lw=1, label='moves')\n",
    "\n",
    "# plot noise\n",
    "all_noise = np.array([])\n",
    "for i in noise_indexes:\n",
    "    element = X[i]\n",
    "    ax.annotate(df.iloc[i]['idx'], xy=(element[0]+0.1, element[1]+0.1), color='black', alpha=.8)\n",
    "    all_noise = np.append(all_noise, [element[0], element[1]])\n",
    "    \n",
    "if len(all_noise) > 0:\n",
    "    all_noise = np.reshape(all_noise, (-1, 2))\n",
    "    plt.scatter(all_noise[:,0], all_noise[:,1], marker='s', s=70, color='mediumseagreen', label='noise')\n",
    "\n",
    "#plot stops\n",
    "x = df_clean['duration']\n",
    "y = df_clean['distance']\n",
    "X = np.stack((x, y), axis=-1)\n",
    "\n",
    "stop = np.array([])\n",
    "for i, element in enumerate(X):\n",
    "    if mz_duration[i] > duration_threshold and mz_speed[i] < -speed_threshold:\n",
    "        ax.annotate(df_clean.iloc[i]['idx'], xy=(element[0]+0.1, element[1]+0.1), color='black', alpha=.8)\n",
    "        stop = np.append(stop, [element[0], element[1]])\n",
    "\n",
    "if len(stop) > 0:\n",
    "    stop = np.reshape(stop, (-1, 2))\n",
    "    plt.scatter(stop[:,0], stop[:,1], marker='D', s=70, color='tomato', label='stops')\n",
    "\n",
    "plt.legend(frameon=True, loc='best');\n",
    "\n",
    "plt.tight_layout()"
   ]
  },
  {
   "cell_type": "markdown",
   "metadata": {},
   "source": [
    "Plot points with their classifications:"
   ]
  },
  {
   "cell_type": "code",
   "execution_count": 39,
   "metadata": {
    "collapsed": true
   },
   "outputs": [
    {
     "data": {
      "application/vnd.jupyter.widget-view+json": {
       "model_id": "f98057b186f5433c9870437f37bbf77e",
       "version_major": 2,
       "version_minor": 0
      },
      "text/plain": [
       "FigureCanvasNbAgg()"
      ]
     },
     "metadata": {},
     "output_type": "display_data"
    }
   ],
   "source": [
    "fig = plt.figure()\n",
    "ax = fig.add_subplot(111)\n",
    "plt.xlabel('longitude')\n",
    "plt.ylabel('latitude')\n",
    "\n",
    "xx = df.longitude\n",
    "yy = df.latitude\n",
    "plt.plot(xx, yy, 'o:', label='moves', color='cornflowerblue', ms=7, alpha=1)\n",
    "\n",
    "xx = stops.longitude\n",
    "yy = stops.latitude\n",
    "plt.plot(xx, yy, 'D', label='stops', color='tomato', ms=8, alpha=1, mew=.5, mec='k')\n",
    "\n",
    "xx = noise.longitude\n",
    "yy = noise.latitude\n",
    "plt.plot(xx, yy, 's', label='noise', color='mediumseagreen', ms=8, alpha=1, mew=.5, mec='k')\n",
    "\n",
    "plt.legend(loc='best', frameon=True)\n",
    "\n",
    "central_latitude = sum(plt.axes().get_ylim())/2.\n",
    "mercator_aspect_ratio = 1/math.cos(math.radians(central_latitude))\n",
    "plt.axes().set_aspect(mercator_aspect_ratio, adjustable='datalim')\n",
    "\n",
    "plt.tight_layout()"
   ]
  },
  {
   "cell_type": "code",
   "execution_count": null,
   "metadata": {
    "collapsed": true
   },
   "outputs": [],
   "source": [
    "%%timeit\n",
    "msn.get_move_stop_noise(df)"
   ]
  },
  {
   "cell_type": "code",
   "execution_count": null,
   "metadata": {
    "collapsed": true
   },
   "outputs": [],
   "source": [
    "msn.get_move_stop_noise(df)"
   ]
  }
 ],
 "metadata": {
  "anaconda-cloud": {},
  "kernelspec": {
   "display_name": "Python 3",
   "language": "python",
   "name": "python3"
  },
  "language_info": {
   "codemirror_mode": {
    "name": "ipython",
    "version": 3
   },
   "file_extension": ".py",
   "mimetype": "text/x-python",
   "name": "python",
   "nbconvert_exporter": "python",
   "pygments_lexer": "ipython3",
   "version": "3.6.3"
  }
 },
 "nbformat": 4,
 "nbformat_minor": 2
}
