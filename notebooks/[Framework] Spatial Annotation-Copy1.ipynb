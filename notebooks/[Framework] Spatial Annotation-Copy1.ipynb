{
 "cells": [
  {
   "cell_type": "code",
   "execution_count": 1,
   "metadata": {
    "collapsed": false
   },
   "outputs": [],
   "source": [
    "import os\n",
    "import sys\n",
    "\n",
    "module_path = os.path.abspath(os.path.join('..'))\n",
    "if module_path not in sys.path:\n",
    "    sys.path.append(module_path)\n",
    "\n",
    "from step import preprocessing as pp\n",
    "from step import osm\n",
    "from step.model import step, namespaces\n",
    "from step.model import utility\n",
    "\n",
    "import json\n",
    "import gpxpy\n",
    "import pandas as pnd\n",
    "import numpy as np\n",
    "\n",
    "import shapely\n",
    "from shapely import wkt\n",
    "from shapely.ops import polygonize_full, cascaded_union\n",
    "import folium\n",
    "import geojson\n",
    "import re\n",
    "\n",
    "import rdflib\n",
    "from rdflib import URIRef, Namespace, Graph\n",
    "from SPARQLWrapper import SPARQLWrapper2\n",
    "\n",
    "%load_ext autoreload\n",
    "%autoreload 2"
   ]
  },
  {
   "cell_type": "raw",
   "metadata": {},
   "source": [
    "_1 = r'C:\\DATA\\MapMyRun\\Grenoble\\40890583\\16_16_Run _ Jog\\950590555.gpx'\n",
    "_2 = r'C:\\DATA\\MapMyRun\\Grenoble\\37695677\\16_16_Run _ Jog\\1007756961.gpx'\n",
    "_3 = r'C:\\DATA\\MapMyRun\\Grenoble\\49996348\\16_16_Run _ Jog\\1079694145.gpx' #\n",
    "_4 = r'C:\\DATA\\MapMyRun\\Grenoble\\27031614\\16_283_Easy _ General\\1223879101.gpx'\n",
    "_5 = r'C:\\DATA\\MapMyRun\\Grenoble\\41837719\\16_16_Run _ Jog\\1320895325.gpx'\n",
    "_6 = r'C:\\DATA\\MapMyRun\\Grenoble\\41837719\\16_16_Run _ Jog\\1234176355.gpx'\n",
    "_7 = r'C:\\DATA\\MapMyRun\\Grenoble\\27031614\\16_16_Run _ Jog\\728010151.gpx'\n",
    "_8 = r'C:\\DATA\\MapMyRun\\Rio\\11346850\\16_16_Run _ Jog\\987162013.gpx'\n",
    "_9 = r'C:\\DATA\\MapMyRun\\Rio\\9612880\\16_16_Run _ Jog\\1080026447.gpx'\n",
    "_10 = r'C:\\DATA\\MapMyRun\\Rio\\42350047\\16_16_Run _ Jog\\909856727.gpx' #\n",
    "_11 = r'C:\\DATA\\MapMyRun\\Rio\\17670613\\16_16_Run _ Jog\\1053150801.gpx' # many features -- freezes browser\n",
    "_12 = r'C:\\DATA\\MapMyRun\\Rio\\17670613\\16_16_Run _ Jog\\1113469835.gpx'\n",
    "_13 = r'C:\\DATA\\MapMyRun\\Barcelona\\47114942\\16_16_Run _ Jog\\1089716703.gpx' #\n",
    "_14 = r'C:\\DATA\\MapMyRun\\Barcelona\\54594328\\16_16_Run _ Jog\\1001316367.gpx'\n",
    "_15 = r'C:\\DATA\\MapMyRun\\Barcelona\\49986800\\16_16_Run _ Jog\\1096701929.gpx' #\n",
    "_16 = r'C:\\DATA\\MapMyRun\\Barcelona\\48076260\\16_16_Run _ Jog\\1017151539.gpx'\n",
    "_17 = r'C:\\DATA\\MapMyRun\\Barcelona\\28902586\\16_16_Run _ Jog\\1165040755.gpx'\n",
    "_18 = r'C:\\DATA\\MapMyRun\\Grenoble\\49996348\\16_16_Run _ Jog\\738885037.gpx' #MobiGIS\n",
    "\n",
    "gpx = gpxpy.parse(open(_3, 'r'))"
   ]
  },
  {
   "cell_type": "code",
   "execution_count": 2,
   "metadata": {},
   "outputs": [],
   "source": [
    "file_path = r'gpx/49996348-1079694145.gpx'\n",
    "gpx = gpxpy.parse(open(file_path, 'r'))"
   ]
  },
  {
   "cell_type": "code",
   "execution_count": 3,
   "metadata": {
    "collapsed": true
   },
   "outputs": [],
   "source": [
    "points_data = gpx.get_points_data()\n",
    "points = [(pdata.point.latitude, pdata.point.longitude) for pdata in points_data]"
   ]
  },
  {
   "cell_type": "code",
   "execution_count": 4,
   "metadata": {
    "collapsed": false
   },
   "outputs": [
    {
     "data": {
      "text/html": [
       "<div style=\"width:100%;\"><div style=\"position:relative;width:100%;height:0;padding-bottom:60%;\"><iframe src=\"data:text/html;charset=utf-8;base64,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\" style=\"position:absolute;width:100%;height:100%;left:0;top:0;border:none !important;\" allowfullscreen webkitallowfullscreen mozallowfullscreen></iframe></div></div>"
      ],
      "text/plain": [
       "<folium.folium.Map at 0x7f18061812b0>"
      ]
     },
     "execution_count": 4,
     "metadata": {},
     "output_type": "execute_result"
    }
   ],
   "source": [
    "tileset = r'http://{s}.tile.openstreetmap.se/hydda/full/{z}/{x}/{y}.png'\n",
    "attribution = 'Tiles courtesy of <a href=\"http://openstreetmap.se/\" target=\"_blank\">OpenStreetMap Sweden</a> \\\n",
    "                &mdash; Map data &copy; <a href=\"http://www.openstreetmap.org/copyright\">OpenStreetMap</a>'\n",
    "#tileset = r'http://{s}.tile.openstreetmap.org/{z}/{x}/{y}.png'\n",
    "#attribution = '&copy; <a href=\"http://www.openstreetmap.org/copyright\">OpenStreetMap</a>'\n",
    "\n",
    "_map = folium.Map(tiles=tileset, attr=attribution, max_zoom=25)\n",
    "\n",
    "start_mark = folium.Marker([points[0][0], points[0][1]], icon=folium.Icon(color='green', icon='glyphicon glyphicon-play'))\n",
    "start_mark.add_to(_map)\n",
    "\n",
    "end_mark = folium.Marker([points[-1][0], points[-1][1]], icon=folium.Icon(color='red', icon='glyphicon glyphicon-stop'))\n",
    "end_mark.add_to(_map)\n",
    "\n",
    "line = folium.PolyLine(points, opacity=0.8)\n",
    "line.add_to(_map)\n",
    "_map.fit_bounds(line.get_bounds())\n",
    "\n",
    "_map"
   ]
  },
  {
   "cell_type": "markdown",
   "metadata": {},
   "source": [
    "## Parameters"
   ]
  },
  {
   "cell_type": "code",
   "execution_count": 5,
   "metadata": {
    "collapsed": true
   },
   "outputs": [],
   "source": [
    "buffer_size = 0.0002 # ~20 meters\n",
    "minimum_length_ratio = 0.2 #delta_s\n",
    "minimum_duration_ratio = 0.2 #delta_t\n",
    "\n",
    "keys = [\"leisure\"]\n",
    "expand_keys = True\n",
    "\n",
    "expanded_keys = []\n",
    "excluded_keys = ['name', 'comment', 'source', 'boundary']"
   ]
  },
  {
   "cell_type": "markdown",
   "metadata": {},
   "source": [
    "## LinkedGeoData"
   ]
  },
  {
   "cell_type": "raw",
   "metadata": {},
   "source": [
    "concepts = \"lgdo:Leisure, lgdo:Natural, lgdo:Landuse\"\n",
    "#concepts = \"lgdo:Building\"\n",
    "concepts.split(',')"
   ]
  },
  {
   "cell_type": "code",
   "execution_count": 6,
   "metadata": {
    "collapsed": false,
    "scrolled": true
   },
   "outputs": [
    {
     "name": "stderr",
     "output_type": "stream",
     "text": [
      "http://spatial.ucd.ie/lod/osn/term/k:source/v:tiger_import_#{date}n does not look like a valid URI, trying to serialize this will break.\n",
      "http://spatial.ucd.ie/lod/osn/term/k:source/v:tiger_import_#{date}n does not look like a valid URI, trying to serialize this will break.\n",
      "http://spatial.ucd.ie/lod/osn/term/k:source/v:tiger_import_#{date}n does not look like a valid URI, trying to serialize this will break.\n",
      "http://spatial.ucd.ie/lod/osn/term/k:source/v:tiger_import_#{date}n does not look like a valid URI, trying to serialize this will break.\n",
      "http://spatial.ucd.ie/lod/osn/term/k:source/v:tiger_import_#{date}n does not look like a valid URI, trying to serialize this will break.\n",
      "http://spatial.ucd.ie/lod/osn/term/k:source/v:tiger_import_#{date}n does not look like a valid URI, trying to serialize this will break.\n",
      "http://spatial.ucd.ie/lod/osn/term/k:source/v:tiger_import_#{date}n does not look like a valid URI, trying to serialize this will break.\n",
      "http://spatial.ucd.ie/lod/osn/term/k:source/v:tiger_import_#{date}n does not look like a valid URI, trying to serialize this will break.\n",
      "http://spatial.ucd.ie/lod/osn/term/k:source/v:tiger_import_#{date}n does not look like a valid URI, trying to serialize this will break.\n",
      "http://spatial.ucd.ie/lod/osn/term/k:source/v:tiger_import_#{date}n does not look like a valid URI, trying to serialize this will break.\n",
      "http://spatial.ucd.ie/lod/osn/term/k:source/v:tiger_import_#{date}n does not look like a valid URI, trying to serialize this will break.\n",
      "http://spatial.ucd.ie/lod/osn/term/k:source/v:tiger_import_#{date}n does not look like a valid URI, trying to serialize this will break.\n",
      "http://spatial.ucd.ie/lod/osn/term/k:source/v:tiger_import_#{date}n does not look like a valid URI, trying to serialize this will break.\n",
      "http://spatial.ucd.ie/lod/osn/term/k:source/v:tiger_import_#{date}n does not look like a valid URI, trying to serialize this will break.\n",
      "http://spatial.ucd.ie/lod/osn/term/k:source/v:tiger_import_#{date}n does not look like a valid URI, trying to serialize this will break.\n",
      "http://spatial.ucd.ie/lod/osn/term/k:source/v:tiger_import_#{date}n does not look like a valid URI, trying to serialize this will break.\n",
      "http://spatial.ucd.ie/lod/osn/term/k:source/v:tiger_import_#{date}n does not look like a valid URI, trying to serialize this will break.\n",
      "http://spatial.ucd.ie/lod/osn/term/k:source/v:tiger_import_#{date}n does not look like a valid URI, trying to serialize this will break.\n",
      "http://spatial.ucd.ie/lod/osn/term/k:source/v:tiger_import_#{date}n does not look like a valid URI, trying to serialize this will break.\n",
      "http://spatial.ucd.ie/lod/osn/term/k:source/v:tiger_import_#{date}n does not look like a valid URI, trying to serialize this will break.\n",
      "http://spatial.ucd.ie/lod/osn/term/k:source/v:tiger_import_#{date}n does not look like a valid URI, trying to serialize this will break.\n",
      "http://spatial.ucd.ie/lod/osn/term/k:source/v:tiger_import_#{date}n does not look like a valid URI, trying to serialize this will break.\n",
      "http://spatial.ucd.ie/lod/osn/term/k:source/v:tiger_import_#{date}n does not look like a valid URI, trying to serialize this will break.\n",
      "http://spatial.ucd.ie/lod/osn/term/k:source/v:tiger_import_#{date}n does not look like a valid URI, trying to serialize this will break.\n",
      "http://spatial.ucd.ie/lod/osn/term/k:source/v:tiger_import_#{date}n does not look like a valid URI, trying to serialize this will break.\n",
      "http://spatial.ucd.ie/lod/osn/term/k:source/v:tiger_import_#{date}n does not look like a valid URI, trying to serialize this will break.\n",
      "http://spatial.ucd.ie/lod/osn/term/k:source/v:tiger_import_#{date}n does not look like a valid URI, trying to serialize this will break.\n",
      "http://spatial.ucd.ie/lod/osn/term/k:source/v:tiger_import_#{date}n does not look like a valid URI, trying to serialize this will break.\n",
      "http://spatial.ucd.ie/lod/osn/term/k:source/v:tiger_import_#{date}n does not look like a valid URI, trying to serialize this will break.\n",
      "http://spatial.ucd.ie/lod/osn/term/k:source/v:tiger_import_#{date}n does not look like a valid URI, trying to serialize this will break.\n",
      "http://spatial.ucd.ie/lod/osn/term/k:source/v:tiger_import_#{date}n does not look like a valid URI, trying to serialize this will break.\n",
      "http://spatial.ucd.ie/lod/osn/term/k:source/v:tiger_import_#{date}n does not look like a valid URI, trying to serialize this will break.\n",
      "http://spatial.ucd.ie/lod/osn/term/k:source/v:tiger_import_#{date}n does not look like a valid URI, trying to serialize this will break.\n",
      "http://spatial.ucd.ie/lod/osn/term/k:source/v:tiger_import_#{date}n does not look like a valid URI, trying to serialize this will break.\n",
      "http://spatial.ucd.ie/lod/osn/term/k:source/v:tiger_import_#{date}n does not look like a valid URI, trying to serialize this will break.\n",
      "http://spatial.ucd.ie/lod/osn/term/k:source/v:tiger_import_#{date}n does not look like a valid URI, trying to serialize this will break.\n",
      "http://spatial.ucd.ie/lod/osn/term/k:source/v:tiger_import_#{date}n does not look like a valid URI, trying to serialize this will break.\n",
      "http://spatial.ucd.ie/lod/osn/term/k:source/v:tiger_import_#{date}n does not look like a valid URI, trying to serialize this will break.\n",
      "http://spatial.ucd.ie/lod/osn/term/k:source/v:tiger_import_#{date}n does not look like a valid URI, trying to serialize this will break.\n",
      "http://spatial.ucd.ie/lod/osn/term/k:source/v:tiger_import_#{date}n does not look like a valid URI, trying to serialize this will break.\n",
      "http://spatial.ucd.ie/lod/osn/term/k:source/v:tiger_import_#{date}n does not look like a valid URI, trying to serialize this will break.\n",
      "http://spatial.ucd.ie/lod/osn/term/k:source/v:tiger_import_#{date}n does not look like a valid URI, trying to serialize this will break.\n",
      "http://spatial.ucd.ie/lod/osn/term/k:source/v:tiger_import_#{date}n does not look like a valid URI, trying to serialize this will break.\n",
      "http://spatial.ucd.ie/lod/osn/term/k:source/v:tiger_import_#{date}n does not look like a valid URI, trying to serialize this will break.\n",
      "http://spatial.ucd.ie/lod/osn/term/k:source/v:tiger_import_#{date}n does not look like a valid URI, trying to serialize this will break.\n",
      "http://spatial.ucd.ie/lod/osn/term/k:source/v:tiger_import_#{date}n does not look like a valid URI, trying to serialize this will break.\n",
      "http://spatial.ucd.ie/lod/osn/term/k:source/v:tiger_import_#{date}n does not look like a valid URI, trying to serialize this will break.\n",
      "http://spatial.ucd.ie/lod/osn/term/k:source/v:tiger_import_#{date}n does not look like a valid URI, trying to serialize this will break.\n",
      "http://spatial.ucd.ie/lod/osn/term/k:source/v:tiger_import_#{date}n does not look like a valid URI, trying to serialize this will break.\n",
      "http://spatial.ucd.ie/lod/osn/term/k:source/v:tiger_import_#{date}n does not look like a valid URI, trying to serialize this will break.\n",
      "http://spatial.ucd.ie/lod/osn/term/k:source/v:tiger_import_#{date}n does not look like a valid URI, trying to serialize this will break.\n",
      "http://spatial.ucd.ie/lod/osn/term/k:source/v:tiger_import_#{date}n does not look like a valid URI, trying to serialize this will break.\n",
      "http://spatial.ucd.ie/lod/osn/term/k:source/v:tiger_import_#{date}n does not look like a valid URI, trying to serialize this will break.\n",
      "http://spatial.ucd.ie/lod/osn/term/k:source/v:tiger_import_#{date}n does not look like a valid URI, trying to serialize this will break.\n",
      "http://spatial.ucd.ie/lod/osn/term/k:source/v:tiger_import_#{date}n does not look like a valid URI, trying to serialize this will break.\n",
      "http://spatial.ucd.ie/lod/osn/term/k:source/v:tiger_import_#{date}n does not look like a valid URI, trying to serialize this will break.\n",
      "http://spatial.ucd.ie/lod/osn/term/k:source/v:tiger_import_#{date}n does not look like a valid URI, trying to serialize this will break.\n",
      "http://spatial.ucd.ie/lod/osn/term/k:source/v:tiger_import_#{date}n does not look like a valid URI, trying to serialize this will break.\n",
      "http://spatial.ucd.ie/lod/osn/term/k:source/v:tiger_import_#{date}n does not look like a valid URI, trying to serialize this will break.\n",
      "http://spatial.ucd.ie/lod/osn/term/k:source/v:tiger_import_#{date}n does not look like a valid URI, trying to serialize this will break.\n",
      "http://spatial.ucd.ie/lod/osn/term/k:source/v:tiger_import_#{date}n does not look like a valid URI, trying to serialize this will break.\n",
      "http://en.wikipedia.org/wiki/Pasture (Other languages) does not look like a valid URI, trying to serialize this will break.\n",
      "http://spatial.ucd.ie/lod/osn/term/k:source/v:tiger_import_#{date}n does not look like a valid URI, trying to serialize this will break.\n",
      "http://spatial.ucd.ie/lod/osn/term/k:source/v:tiger_import_#{date}n does not look like a valid URI, trying to serialize this will break.\n",
      "http://spatial.ucd.ie/lod/osn/term/k:source/v:tiger_import_#{date}n does not look like a valid URI, trying to serialize this will break.\n",
      "http://spatial.ucd.ie/lod/osn/term/k:source/v:tiger_import_#{date}n does not look like a valid URI, trying to serialize this will break.\n",
      "http://spatial.ucd.ie/lod/osn/term/k:source/v:tiger_import_#{date}n does not look like a valid URI, trying to serialize this will break.\n",
      "http://spatial.ucd.ie/lod/osn/term/k:source/v:tiger_import_#{date}n does not look like a valid URI, trying to serialize this will break.\n"
     ]
    }
   ],
   "source": [
    "# Search for tags in OSN\n",
    "if 'osn_graph' not in locals():\n",
    "    osn_graph = Graph()\n",
    "    osn_graph.parse('osm_semantic_network.skos.rdf')\n",
    "\n",
    "if 'lgdo_graph' not in locals():\n",
    "    lgdo_graph = Graph()\n",
    "    lgdo_graph.parse('lgdo_2014-07-26.n3', format='n3')"
   ]
  },
  {
   "cell_type": "code",
   "execution_count": 7,
   "metadata": {
    "collapsed": false
   },
   "outputs": [
    {
     "name": "stdout",
     "output_type": "stream",
     "text": [
      "\n",
      "    PREFIX skos:<http://www.w3.org/2004/02/skos/core#>\n",
      "    PREFIX rdf:<http://www.w3.org/1999/02/22-rdf-syntax-ns#>\n",
      "    PREFIX rdfs:<http://www.w3.org/2000/01/rdf-schema#>\n",
      "    PREFIX xsd:<http://www.w3.org/2001/XMLSchema#>\n",
      "\n",
      "    SELECT ?subject ?relatedTerm ?lgdConcept\n",
      "    {\n",
      "     ?subject skos:related ?relatedTerm .\n",
      "     ?relatedTerm skos:exactMatch ?lgdConcept .\n",
      "     \n",
      "     FILTER (REGEX(STR(?subject), \"http://spatial.ucd.ie/lod/osn/term/k:(leisure).*\"))\n",
      "     FILTER (STRSTARTS(STR(?lgdConcept), \"http://linkedgeodata.org/ontology\"))\n",
      "    }\n",
      "17 new terms\n",
      "['amenity', 'boundary', 'route', 'fishing', 'building', 'barrier', 'highway', 'natural', 'man_made', 'landuse', 'playground', 'shelter', 'sport', 'tourism', 'shop', 'harbour', 'waterway']\n"
     ]
    }
   ],
   "source": [
    "if expand_keys and len(keys) > 0:\n",
    "    expanded_keys = []\n",
    "    keys_regex = \"|\".join(keys)\n",
    "    regex = r'\"http://spatial.ucd.ie/lod/osn/term/k:({0}).*\"'.format(keys_regex)\n",
    "    \n",
    "    query = \"\"\"\n",
    "    PREFIX skos:<http://www.w3.org/2004/02/skos/core#>\n",
    "    PREFIX rdf:<http://www.w3.org/1999/02/22-rdf-syntax-ns#>\n",
    "    PREFIX rdfs:<http://www.w3.org/2000/01/rdf-schema#>\n",
    "    PREFIX xsd:<http://www.w3.org/2001/XMLSchema#>\n",
    "\n",
    "    SELECT ?subject ?relatedTerm ?lgdConcept\n",
    "    {\n",
    "     ?subject skos:related ?relatedTerm .\n",
    "     ?relatedTerm skos:exactMatch ?lgdConcept .\n",
    "     \n",
    "     FILTER (REGEX(STR(?subject), \"\"\" + regex +\"\"\"))\n",
    "     FILTER (STRSTARTS(STR(?lgdConcept), \"http://linkedgeodata.org/ontology\"))\n",
    "    }\"\"\"\n",
    "\n",
    "    print(query)\n",
    "\n",
    "    response = osn_graph.query(query)\n",
    "\n",
    "    for row in response:\n",
    "        uri = row[1]\n",
    "        new_key = uri.split('k:')\n",
    "        if len(new_key) > 1:\n",
    "            new_key = new_key[-1]\n",
    "        else:\n",
    "            continue\n",
    "        \n",
    "        try:\n",
    "            new_key = new_key.split('/')[0]\n",
    "        except:\n",
    "            pass\n",
    "        \n",
    "        if new_key not in keys:\n",
    "            expanded_keys.append(new_key)\n",
    "\n",
    "    expanded_keys = list(set(expanded_keys))\n",
    "\n",
    "    print(len(expanded_keys), 'new terms')\n",
    "    print(expanded_keys)"
   ]
  },
  {
   "cell_type": "code",
   "execution_count": 8,
   "metadata": {
    "collapsed": false
   },
   "outputs": [
    {
     "data": {
      "text/plain": [
       "'LINESTRING(5.73425791 45.18210998, 5.735235225 45.1823674714, 5.7407547183 45.1846534569, 5.7429304089 45.1860455704, 5.742455759 45.1867867431, 5.7424284553 45.187952129, 5.7429561659 45.1890001696, 5.74367138 45.1889849224, 5.7451961052 45.1884058183, 5.7478446699 45.1883522866, 5.7494157359 45.1884815264, 5.7505612736 45.1889204948, 5.7495635222 45.1885502523, 5.7470312762 45.1884664258, 5.7454857658 45.1886651283, 5.7439751935 45.189106106, 5.7430106295 45.1889756432, 5.7426115612 45.1884896534, 5.7425259899 45.187664964, 5.742229581 45.1873207084, 5.7426253664 45.186550021, 5.7426946766 45.1858511243, 5.7422678227 45.1855394129)'"
      ]
     },
     "execution_count": 8,
     "metadata": {},
     "output_type": "execute_result"
    }
   ],
   "source": [
    "gpx_simple = gpx.clone()\n",
    "gpx_simple.simplify()\n",
    "\n",
    "linestring_simple = \"LINESTRING(\"\n",
    "\n",
    "simple_points = gpx_simple.get_points_data()\n",
    "\n",
    "for i, point_data in enumerate(simple_points):\n",
    "    point = point_data.point\n",
    "    linestring_simple += str(point.longitude) + \" \" + str(point.latitude)\n",
    "    if i < len(simple_points)-1:\n",
    "        linestring_simple += \", \"\n",
    "\n",
    "linestring_simple += \")\"\n",
    "linestring_simple"
   ]
  },
  {
   "cell_type": "code",
   "execution_count": 13,
   "metadata": {},
   "outputs": [
    {
     "name": "stdout",
     "output_type": "stream",
     "text": [
      "\n",
      "PREFIX ogc: <http://www.opengis.net/ont/geosparql#>\n",
      "PREFIX geom: <http://geovocab.org/geometry#>\n",
      "PREFIX lgdo: <http://linkedgeodata.org/ontology/>\n",
      "PREFIX rdfs: <http://www.w3.org/2000/01/rdf-schema#>\n",
      "\n",
      "SELECT *\n",
      "FROM <http://linkedgeodata.org> {\n",
      "  ?subject\n",
      "    a ?type ;\n",
      "    geom:geometry [\n",
      "      ogc:asWKT ?geometry\n",
      "    ] .\n",
      "    OPTIONAL { \n",
      "        ?subject rdfs:label ?label .\n",
      "    }\n",
      "    OPTIONAL { \n",
      "        ?subclass rdfs:subClassOf ?type .\n",
      "        ?subject a ?subclass . \n",
      "    }\n",
      "    OPTIONAL { \n",
      "        ?type rdfs:subClassOf ?superclass .\n",
      "    }\n",
      "    \n",
      "    FILTER (bif:st_intersects (?geometry, \n",
      "    bif:st_geomFromText(\" LINESTRING(5.73425791 45.18210998, 5.735235225 45.1823674714, 5.7407547183 45.1846534569, 5.7429304089 45.1860455704, 5.742455759 45.1867867431, 5.7424284553 45.187952129, 5.7429561659 45.1890001696, 5.74367138 45.1889849224, 5.7451961052 45.1884058183, 5.7478446699 45.1883522866, 5.7494157359 45.1884815264, 5.7505612736 45.1889204948, 5.7495635222 45.1885502523, 5.7470312762 45.1884664258, 5.7454857658 45.1886651283, 5.7439751935 45.189106106, 5.7430106295 45.1889756432, 5.7426115612 45.1884896534, 5.7425259899 45.187664964, 5.742229581 45.1873207084, 5.7426253664 45.186550021, 5.7426946766 45.1858511243, 5.7422678227 45.1855394129) \"), \n",
      "   0.001))\n",
      "}\n"
     ]
    },
    {
     "ename": "EndPointInternalError",
     "evalue": "EndPointInternalError: endpoint returned code 500 and response.",
     "output_type": "error",
     "traceback": [
      "\u001b[0;31m---------------------------------------------------------------------------\u001b[0m",
      "\u001b[0;31mHTTPError\u001b[0m                                 Traceback (most recent call last)",
      "\u001b[0;32m~/.virtualenvs/step/lib/python3.6/site-packages/SPARQLWrapper/Wrapper.py\u001b[0m in \u001b[0;36m_query\u001b[0;34m(self)\u001b[0m\n\u001b[1;32m    765\u001b[0m             \u001b[0;32melse\u001b[0m\u001b[0;34m:\u001b[0m\u001b[0;34m\u001b[0m\u001b[0m\n\u001b[0;32m--> 766\u001b[0;31m                 \u001b[0mresponse\u001b[0m \u001b[0;34m=\u001b[0m \u001b[0murlopener\u001b[0m\u001b[0;34m(\u001b[0m\u001b[0mrequest\u001b[0m\u001b[0;34m)\u001b[0m\u001b[0;34m\u001b[0m\u001b[0m\n\u001b[0m\u001b[1;32m    767\u001b[0m             \u001b[0;32mreturn\u001b[0m \u001b[0mresponse\u001b[0m\u001b[0;34m,\u001b[0m \u001b[0mself\u001b[0m\u001b[0;34m.\u001b[0m\u001b[0mreturnFormat\u001b[0m\u001b[0;34m\u001b[0m\u001b[0m\n",
      "\u001b[0;32m/usr/lib/python3.6/urllib/request.py\u001b[0m in \u001b[0;36murlopen\u001b[0;34m(url, data, timeout, cafile, capath, cadefault, context)\u001b[0m\n\u001b[1;32m    222\u001b[0m         \u001b[0mopener\u001b[0m \u001b[0;34m=\u001b[0m \u001b[0m_opener\u001b[0m\u001b[0;34m\u001b[0m\u001b[0m\n\u001b[0;32m--> 223\u001b[0;31m     \u001b[0;32mreturn\u001b[0m \u001b[0mopener\u001b[0m\u001b[0;34m.\u001b[0m\u001b[0mopen\u001b[0m\u001b[0;34m(\u001b[0m\u001b[0murl\u001b[0m\u001b[0;34m,\u001b[0m \u001b[0mdata\u001b[0m\u001b[0;34m,\u001b[0m \u001b[0mtimeout\u001b[0m\u001b[0;34m)\u001b[0m\u001b[0;34m\u001b[0m\u001b[0m\n\u001b[0m\u001b[1;32m    224\u001b[0m \u001b[0;34m\u001b[0m\u001b[0m\n",
      "\u001b[0;32m/usr/lib/python3.6/urllib/request.py\u001b[0m in \u001b[0;36mopen\u001b[0;34m(self, fullurl, data, timeout)\u001b[0m\n\u001b[1;32m    531\u001b[0m             \u001b[0mmeth\u001b[0m \u001b[0;34m=\u001b[0m \u001b[0mgetattr\u001b[0m\u001b[0;34m(\u001b[0m\u001b[0mprocessor\u001b[0m\u001b[0;34m,\u001b[0m \u001b[0mmeth_name\u001b[0m\u001b[0;34m)\u001b[0m\u001b[0;34m\u001b[0m\u001b[0m\n\u001b[0;32m--> 532\u001b[0;31m             \u001b[0mresponse\u001b[0m \u001b[0;34m=\u001b[0m \u001b[0mmeth\u001b[0m\u001b[0;34m(\u001b[0m\u001b[0mreq\u001b[0m\u001b[0;34m,\u001b[0m \u001b[0mresponse\u001b[0m\u001b[0;34m)\u001b[0m\u001b[0;34m\u001b[0m\u001b[0m\n\u001b[0m\u001b[1;32m    533\u001b[0m \u001b[0;34m\u001b[0m\u001b[0m\n",
      "\u001b[0;32m/usr/lib/python3.6/urllib/request.py\u001b[0m in \u001b[0;36mhttp_response\u001b[0;34m(self, request, response)\u001b[0m\n\u001b[1;32m    641\u001b[0m             response = self.parent.error(\n\u001b[0;32m--> 642\u001b[0;31m                 'http', request, response, code, msg, hdrs)\n\u001b[0m\u001b[1;32m    643\u001b[0m \u001b[0;34m\u001b[0m\u001b[0m\n",
      "\u001b[0;32m/usr/lib/python3.6/urllib/request.py\u001b[0m in \u001b[0;36merror\u001b[0;34m(self, proto, *args)\u001b[0m\n\u001b[1;32m    569\u001b[0m             \u001b[0margs\u001b[0m \u001b[0;34m=\u001b[0m \u001b[0;34m(\u001b[0m\u001b[0mdict\u001b[0m\u001b[0;34m,\u001b[0m \u001b[0;34m'default'\u001b[0m\u001b[0;34m,\u001b[0m \u001b[0;34m'http_error_default'\u001b[0m\u001b[0;34m)\u001b[0m \u001b[0;34m+\u001b[0m \u001b[0morig_args\u001b[0m\u001b[0;34m\u001b[0m\u001b[0m\n\u001b[0;32m--> 570\u001b[0;31m             \u001b[0;32mreturn\u001b[0m \u001b[0mself\u001b[0m\u001b[0;34m.\u001b[0m\u001b[0m_call_chain\u001b[0m\u001b[0;34m(\u001b[0m\u001b[0;34m*\u001b[0m\u001b[0margs\u001b[0m\u001b[0;34m)\u001b[0m\u001b[0;34m\u001b[0m\u001b[0m\n\u001b[0m\u001b[1;32m    571\u001b[0m \u001b[0;34m\u001b[0m\u001b[0m\n",
      "\u001b[0;32m/usr/lib/python3.6/urllib/request.py\u001b[0m in \u001b[0;36m_call_chain\u001b[0;34m(self, chain, kind, meth_name, *args)\u001b[0m\n\u001b[1;32m    503\u001b[0m             \u001b[0mfunc\u001b[0m \u001b[0;34m=\u001b[0m \u001b[0mgetattr\u001b[0m\u001b[0;34m(\u001b[0m\u001b[0mhandler\u001b[0m\u001b[0;34m,\u001b[0m \u001b[0mmeth_name\u001b[0m\u001b[0;34m)\u001b[0m\u001b[0;34m\u001b[0m\u001b[0m\n\u001b[0;32m--> 504\u001b[0;31m             \u001b[0mresult\u001b[0m \u001b[0;34m=\u001b[0m \u001b[0mfunc\u001b[0m\u001b[0;34m(\u001b[0m\u001b[0;34m*\u001b[0m\u001b[0margs\u001b[0m\u001b[0;34m)\u001b[0m\u001b[0;34m\u001b[0m\u001b[0m\n\u001b[0m\u001b[1;32m    505\u001b[0m             \u001b[0;32mif\u001b[0m \u001b[0mresult\u001b[0m \u001b[0;32mis\u001b[0m \u001b[0;32mnot\u001b[0m \u001b[0;32mNone\u001b[0m\u001b[0;34m:\u001b[0m\u001b[0;34m\u001b[0m\u001b[0m\n",
      "\u001b[0;32m/usr/lib/python3.6/urllib/request.py\u001b[0m in \u001b[0;36mhttp_error_default\u001b[0;34m(self, req, fp, code, msg, hdrs)\u001b[0m\n\u001b[1;32m    649\u001b[0m     \u001b[0;32mdef\u001b[0m \u001b[0mhttp_error_default\u001b[0m\u001b[0;34m(\u001b[0m\u001b[0mself\u001b[0m\u001b[0;34m,\u001b[0m \u001b[0mreq\u001b[0m\u001b[0;34m,\u001b[0m \u001b[0mfp\u001b[0m\u001b[0;34m,\u001b[0m \u001b[0mcode\u001b[0m\u001b[0;34m,\u001b[0m \u001b[0mmsg\u001b[0m\u001b[0;34m,\u001b[0m \u001b[0mhdrs\u001b[0m\u001b[0;34m)\u001b[0m\u001b[0;34m:\u001b[0m\u001b[0;34m\u001b[0m\u001b[0m\n\u001b[0;32m--> 650\u001b[0;31m         \u001b[0;32mraise\u001b[0m \u001b[0mHTTPError\u001b[0m\u001b[0;34m(\u001b[0m\u001b[0mreq\u001b[0m\u001b[0;34m.\u001b[0m\u001b[0mfull_url\u001b[0m\u001b[0;34m,\u001b[0m \u001b[0mcode\u001b[0m\u001b[0;34m,\u001b[0m \u001b[0mmsg\u001b[0m\u001b[0;34m,\u001b[0m \u001b[0mhdrs\u001b[0m\u001b[0;34m,\u001b[0m \u001b[0mfp\u001b[0m\u001b[0;34m)\u001b[0m\u001b[0;34m\u001b[0m\u001b[0m\n\u001b[0m\u001b[1;32m    651\u001b[0m \u001b[0;34m\u001b[0m\u001b[0m\n",
      "\u001b[0;31mHTTPError\u001b[0m: HTTP Error 500: Request failed.",
      "\nDuring handling of the above exception, another exception occurred:\n",
      "\u001b[0;31mEndPointInternalError\u001b[0m                     Traceback (most recent call last)",
      "\u001b[0;32m<ipython-input-13-b0b376313186>\u001b[0m in \u001b[0;36m<module>\u001b[0;34m()\u001b[0m\n\u001b[1;32m     38\u001b[0m \u001b[0;34m\u001b[0m\u001b[0m\n\u001b[1;32m     39\u001b[0m \u001b[0msparql\u001b[0m\u001b[0;34m.\u001b[0m\u001b[0msetQuery\u001b[0m\u001b[0;34m(\u001b[0m\u001b[0mquery\u001b[0m\u001b[0;34m)\u001b[0m\u001b[0;34m\u001b[0m\u001b[0m\n\u001b[0;32m---> 40\u001b[0;31m \u001b[0mresults\u001b[0m \u001b[0;34m=\u001b[0m \u001b[0msparql\u001b[0m\u001b[0;34m.\u001b[0m\u001b[0mquery\u001b[0m\u001b[0;34m(\u001b[0m\u001b[0;34m)\u001b[0m\u001b[0;34m.\u001b[0m\u001b[0mconvert\u001b[0m\u001b[0;34m(\u001b[0m\u001b[0;34m)\u001b[0m\u001b[0;34m\u001b[0m\u001b[0m\n\u001b[0m\u001b[1;32m     41\u001b[0m \u001b[0mdict_array\u001b[0m \u001b[0;34m=\u001b[0m \u001b[0;34m[\u001b[0m\u001b[0;34m]\u001b[0m\u001b[0;34m\u001b[0m\u001b[0m\n\u001b[1;32m     42\u001b[0m \u001b[0;32mfor\u001b[0m \u001b[0mdic\u001b[0m \u001b[0;32min\u001b[0m \u001b[0mresults\u001b[0m\u001b[0;34m.\u001b[0m\u001b[0mbindings\u001b[0m\u001b[0;34m:\u001b[0m\u001b[0;34m\u001b[0m\u001b[0m\n",
      "\u001b[0;32m~/.virtualenvs/step/lib/python3.6/site-packages/SPARQLWrapper/SmartWrapper.py\u001b[0m in \u001b[0;36mquery\u001b[0;34m(self)\u001b[0m\n\u001b[1;32m    283\u001b[0m             \u001b[0;34m@\u001b[0m\u001b[0mrtype\u001b[0m\u001b[0;34m:\u001b[0m \u001b[0mL\u001b[0m\u001b[0;34m{\u001b[0m\u001b[0mBindings\u001b[0m\u001b[0;34m}\u001b[0m \u001b[0minstance\u001b[0m\u001b[0;34m\u001b[0m\u001b[0m\n\u001b[1;32m    284\u001b[0m         \"\"\"\n\u001b[0;32m--> 285\u001b[0;31m         \u001b[0mres\u001b[0m \u001b[0;34m=\u001b[0m \u001b[0msuper\u001b[0m\u001b[0;34m(\u001b[0m\u001b[0mSPARQLWrapper2\u001b[0m\u001b[0;34m,\u001b[0m \u001b[0mself\u001b[0m\u001b[0;34m)\u001b[0m\u001b[0;34m.\u001b[0m\u001b[0mquery\u001b[0m\u001b[0;34m(\u001b[0m\u001b[0;34m)\u001b[0m\u001b[0;34m\u001b[0m\u001b[0m\n\u001b[0m\u001b[1;32m    286\u001b[0m \u001b[0;34m\u001b[0m\u001b[0m\n\u001b[1;32m    287\u001b[0m         \u001b[0;32mif\u001b[0m \u001b[0mself\u001b[0m\u001b[0;34m.\u001b[0m\u001b[0mqueryType\u001b[0m \u001b[0;34m==\u001b[0m \u001b[0mSELECT\u001b[0m\u001b[0;34m:\u001b[0m\u001b[0;34m\u001b[0m\u001b[0m\n",
      "\u001b[0;32m~/.virtualenvs/step/lib/python3.6/site-packages/SPARQLWrapper/Wrapper.py\u001b[0m in \u001b[0;36mquery\u001b[0;34m(self)\u001b[0m\n\u001b[1;32m    796\u001b[0m             \u001b[0;34m@\u001b[0m\u001b[0mrtype\u001b[0m\u001b[0;34m:\u001b[0m \u001b[0mL\u001b[0m\u001b[0;34m{\u001b[0m\u001b[0mQueryResult\u001b[0m\u001b[0;34m}\u001b[0m \u001b[0minstance\u001b[0m\u001b[0;34m\u001b[0m\u001b[0m\n\u001b[1;32m    797\u001b[0m         \"\"\"\n\u001b[0;32m--> 798\u001b[0;31m         \u001b[0;32mreturn\u001b[0m \u001b[0mQueryResult\u001b[0m\u001b[0;34m(\u001b[0m\u001b[0mself\u001b[0m\u001b[0;34m.\u001b[0m\u001b[0m_query\u001b[0m\u001b[0;34m(\u001b[0m\u001b[0;34m)\u001b[0m\u001b[0;34m)\u001b[0m\u001b[0;34m\u001b[0m\u001b[0m\n\u001b[0m\u001b[1;32m    799\u001b[0m \u001b[0;34m\u001b[0m\u001b[0m\n\u001b[1;32m    800\u001b[0m     \u001b[0;32mdef\u001b[0m \u001b[0mqueryAndConvert\u001b[0m\u001b[0;34m(\u001b[0m\u001b[0mself\u001b[0m\u001b[0;34m)\u001b[0m\u001b[0;34m:\u001b[0m\u001b[0;34m\u001b[0m\u001b[0m\n",
      "\u001b[0;32m~/.virtualenvs/step/lib/python3.6/site-packages/SPARQLWrapper/Wrapper.py\u001b[0m in \u001b[0;36m_query\u001b[0;34m(self)\u001b[0m\n\u001b[1;32m    774\u001b[0m                 \u001b[0;32mraise\u001b[0m \u001b[0mUnauthorized\u001b[0m\u001b[0;34m(\u001b[0m\u001b[0me\u001b[0m\u001b[0;34m.\u001b[0m\u001b[0mread\u001b[0m\u001b[0;34m(\u001b[0m\u001b[0;34m)\u001b[0m\u001b[0;34m)\u001b[0m\u001b[0;34m\u001b[0m\u001b[0m\n\u001b[1;32m    775\u001b[0m             \u001b[0;32melif\u001b[0m \u001b[0me\u001b[0m\u001b[0;34m.\u001b[0m\u001b[0mcode\u001b[0m \u001b[0;34m==\u001b[0m \u001b[0;36m500\u001b[0m\u001b[0;34m:\u001b[0m\u001b[0;34m\u001b[0m\u001b[0m\n\u001b[0;32m--> 776\u001b[0;31m                 \u001b[0;32mraise\u001b[0m \u001b[0mEndPointInternalError\u001b[0m\u001b[0;34m(\u001b[0m\u001b[0me\u001b[0m\u001b[0;34m.\u001b[0m\u001b[0mread\u001b[0m\u001b[0;34m(\u001b[0m\u001b[0;34m)\u001b[0m\u001b[0;34m)\u001b[0m\u001b[0;34m\u001b[0m\u001b[0m\n\u001b[0m\u001b[1;32m    777\u001b[0m             \u001b[0;32melse\u001b[0m\u001b[0;34m:\u001b[0m\u001b[0;34m\u001b[0m\u001b[0m\n\u001b[1;32m    778\u001b[0m                 \u001b[0;32mraise\u001b[0m \u001b[0me\u001b[0m\u001b[0;34m\u001b[0m\u001b[0m\n",
      "\u001b[0;31mEndPointInternalError\u001b[0m: EndPointInternalError: endpoint returned code 500 and response."
     ]
    }
   ],
   "source": [
    "endpoint = 'http://linkedgeodata.org/vsparql'\n",
    "sparql = SPARQLWrapper2(endpoint) \n",
    "sparql.setReturnFormat('json')\n",
    "\n",
    "distance = 0.001 # 1 meter\n",
    "\n",
    "query = \"\"\"\n",
    "PREFIX ogc: <http://www.opengis.net/ont/geosparql#>\n",
    "PREFIX geom: <http://geovocab.org/geometry#>\n",
    "PREFIX lgdo: <http://linkedgeodata.org/ontology/>\n",
    "PREFIX rdfs: <http://www.w3.org/2000/01/rdf-schema#>\n",
    "\n",
    "SELECT *\n",
    "FROM <http://linkedgeodata.org> {\n",
    "  ?subject\n",
    "    a ?type ;\n",
    "    geom:geometry [\n",
    "      ogc:asWKT ?geometry\n",
    "    ] .\n",
    "    OPTIONAL { \n",
    "        ?subject rdfs:label ?label .\n",
    "    }\n",
    "    OPTIONAL { \n",
    "        ?subclass rdfs:subClassOf ?type .\n",
    "        ?subject a ?subclass . \n",
    "    }\n",
    "    OPTIONAL { \n",
    "        ?type rdfs:subClassOf ?superclass .\n",
    "    }\n",
    "    \n",
    "    FILTER (bif:st_intersects (?geometry, \n",
    "    bif:st_geomFromText(\" \"\"\" + linestring_simple + \"\"\" \"), \n",
    "   \"\"\" + str(distance) + \"\"\"))\n",
    "}\"\"\"\n",
    "#FILTER (?type IN (\"\"\" + concepts + \"\"\"))\n",
    "\n",
    "print(query)\n",
    "\n",
    "sparql.setQuery(query)\n",
    "results = sparql.query().convert()\n",
    "dict_array = []\n",
    "for dic in results.bindings:\n",
    "    new_dict = {k: v.value for k, v in dic.items()}\n",
    "    dict_array.append(new_dict)\n",
    "    \n",
    "df = pnd.DataFrame(dict_array)\n",
    "df"
   ]
  },
  {
   "cell_type": "markdown",
   "metadata": {},
   "source": [
    "## Overpass API"
   ]
  },
  {
   "cell_type": "code",
   "execution_count": 11,
   "metadata": {
    "collapsed": false
   },
   "outputs": [
    {
     "data": {
      "text/plain": [
       "['leisure',\n",
       " 'amenity',\n",
       " 'boundary',\n",
       " 'route',\n",
       " 'fishing',\n",
       " 'building',\n",
       " 'barrier',\n",
       " 'highway',\n",
       " 'natural',\n",
       " 'man_made',\n",
       " 'landuse',\n",
       " 'playground',\n",
       " 'shelter',\n",
       " 'sport',\n",
       " 'tourism',\n",
       " 'shop',\n",
       " 'harbour',\n",
       " 'waterway']"
      ]
     },
     "execution_count": 11,
     "metadata": {},
     "output_type": "execute_result"
    }
   ],
   "source": [
    "all_keys = keys + expanded_keys\n",
    "all_keys"
   ]
  },
  {
   "cell_type": "code",
   "execution_count": 11,
   "metadata": {
    "collapsed": false,
    "scrolled": true
   },
   "outputs": [
    {
     "name": "stdout",
     "output_type": "stream",
     "text": [
      "\n",
      "        [out:json];\n",
      "        (way[~\".\"~\".\"]\n",
      "        (poly:\"45.18210998 5.73425791 45.1824220976 5.7353382904 45.1847253391 5.7408826096 45.186140418 5.7429230865 45.1868992116 5.7424419076 45.1880505119 5.7424473461 45.1889469214 5.7428454475 45.1890251298 5.7430898764 45.1889355192 5.7437873918 45.1884058183 5.7451961052 45.1883963889 5.7454810635 45.188360427 5.7481449371 45.1884815264 5.7494157359 45.1888904565 5.7504363 45.1885329393 5.7492650439 45.1884723829 5.7468814271 45.1887051998 5.7453555906 45.1891110944 5.743829997 45.1889185302 5.7429074605 45.1883845097 5.7425774415 45.1875742611 5.742458776 45.1872283783 5.7422837729 45.1864469882 5.7425883036 45.185734623 5.7426182096 45.1855394129 5.7422678227\");\n",
      "        rel(bw);\n",
      "\n",
      "        relation[~\".\"~\".\"]\n",
      "        (poly:\"45.18210998 5.73425791 45.1824220976 5.7353382904 45.1847253391 5.7408826096 45.186140418 5.7429230865 45.1868992116 5.7424419076 45.1880505119 5.7424473461 45.1889469214 5.7428454475 45.1890251298 5.7430898764 45.1889355192 5.7437873918 45.1884058183 5.7451961052 45.1883963889 5.7454810635 45.188360427 5.7481449371 45.1884815264 5.7494157359 45.1888904565 5.7504363 45.1885329393 5.7492650439 45.1884723829 5.7468814271 45.1887051998 5.7453555906 45.1891110944 5.743829997 45.1889185302 5.7429074605 45.1883845097 5.7425774415 45.1875742611 5.742458776 45.1872283783 5.7422837729 45.1864469882 5.7425883036 45.185734623 5.7426182096 45.1855394129 5.7422678227\"););\n",
      "        out geom;\n",
      "        \n"
     ]
    }
   ],
   "source": [
    "osm_features = osm.get_spatial_features(gpx, all_keys)"
   ]
  },
  {
   "cell_type": "code",
   "execution_count": 12,
   "metadata": {
    "collapsed": false,
    "scrolled": true
   },
   "outputs": [
    {
     "ename": "NameError",
     "evalue": "name 'osm_features' is not defined",
     "output_type": "error",
     "traceback": [
      "\u001b[0;31m---------------------------------------------------------------------------\u001b[0m",
      "\u001b[0;31mNameError\u001b[0m                                 Traceback (most recent call last)",
      "\u001b[0;32m<ipython-input-12-f05c43bba8e5>\u001b[0m in \u001b[0;36m<module>\u001b[0;34m()\u001b[0m\n\u001b[0;32m----> 1\u001b[0;31m \u001b[0mprint\u001b[0m\u001b[0;34m(\u001b[0m\u001b[0mlen\u001b[0m\u001b[0;34m(\u001b[0m\u001b[0mosm_features\u001b[0m\u001b[0;34m)\u001b[0m\u001b[0;34m)\u001b[0m\u001b[0;34m\u001b[0m\u001b[0m\n\u001b[0m\u001b[1;32m      2\u001b[0m \u001b[0mosm_features\u001b[0m\u001b[0;34m\u001b[0m\u001b[0m\n",
      "\u001b[0;31mNameError\u001b[0m: name 'osm_features' is not defined"
     ]
    }
   ],
   "source": [
    "print(len(osm_features))\n",
    "osm_features"
   ]
  },
  {
   "cell_type": "code",
   "execution_count": 13,
   "metadata": {
    "collapsed": false
   },
   "outputs": [
    {
     "name": "stdout",
     "output_type": "stream",
     "text": [
      "\n",
      "PREFIX skos:<http://www.w3.org/2004/02/skos/core#>\n",
      "PREFIX rdf:<http://www.w3.org/1999/02/22-rdf-syntax-ns#>\n",
      "PREFIX rdfs:<http://www.w3.org/2000/01/rdf-schema#>\n",
      "PREFIX xsd:<http://www.w3.org/2001/XMLSchema#>\n",
      "\n",
      "SELECT ?osnConcept ?lgdoConcept\n",
      "{\n",
      " ?osnConcept skos:exactMatch ?lgdoConcept .\n",
      " \n",
      " FILTER (?osnConcept IN (<http://spatial.ucd.ie/lod/osn/term/k:name:lt/v:Grenoblis>, <http://spatial.ucd.ie/lod/osn/term/k:name:lb/v:Grenobel>, <http://spatial.ucd.ie/lod/osn/term/k:addr:postcode/v:38000;38100>, <http://spatial.ucd.ie/lod/osn/term/k:name:oc/v:Grenoble>, <http://spatial.ucd.ie/lod/osn/term/k:ref:INSEE/v:38185>, <http://spatial.ucd.ie/lod/osn/term/k:type/v:boundary>, <http://spatial.ucd.ie/lod/osn/term/k:admin_level/v:8>, <http://spatial.ucd.ie/lod/osn/term/k:name:sr/v:Гренобл>, <http://spatial.ucd.ie/lod/osn/term/k:source:population/v:INSEE_2013>, <http://spatial.ucd.ie/lod/osn/term/k:population/v:155637>, <http://spatial.ucd.ie/lod/osn/term/k:name:ru/v:Гренобль>, <http://spatial.ucd.ie/lod/osn/term/k:wikipedia/v:fr:Grenoble>, <http://spatial.ucd.ie/lod/osn/term/k:name:la/v:Cularone>, <http://spatial.ucd.ie/lod/osn/term/k:source:addr:postcode/v:source_of_postcode_is_from_osm_nodes>, <http://spatial.ucd.ie/lod/osn/term/k:addr:postcode/v:38400>, <http://spatial.ucd.ie/lod/osn/term/k:admin_level/v:8>, <http://spatial.ucd.ie/lod/osn/term/k:type/v:boundary>, <http://spatial.ucd.ie/lod/osn/term/k:ref:INSEE/v:38421>, <http://spatial.ucd.ie/lod/osn/term/k:wikipedia/v:fr:Saint-Martin-d'Hères>, <http://spatial.ucd.ie/lod/osn/term/k:note/v:taggé_en_mode_«_new_tagging_»_cf_wiki>, <http://spatial.ucd.ie/lod/osn/term/k:boat/v:no>, <http://spatial.ucd.ie/lod/osn/term/k:type/v:multipolygon>, <http://spatial.ucd.ie/lod/osn/term/k:natural/v:water>, <http://spatial.ucd.ie/lod/osn/term/k:water/v:river>, <http://spatial.ucd.ie/lod/osn/term/k:maxweight/v:20>, <http://spatial.ucd.ie/lod/osn/term/k:type/v:bridge>, <http://spatial.ucd.ie/lod/osn/term/k:type/v:bridge>, <http://spatial.ucd.ie/lod/osn/term/k:ref:FR:FANTOIR/v:381851730C>, <http://spatial.ucd.ie/lod/osn/term/k:type/v:associatedStreet>, <http://spatial.ucd.ie/lod/osn/term/k:type/v:associatedStreet>, <http://spatial.ucd.ie/lod/osn/term/k:addr:postcode/v:38100>, <http://spatial.ucd.ie/lod/osn/term/k:admin_level/v:10>, <http://spatial.ucd.ie/lod/osn/term/k:type/v:boundary>, <http://spatial.ucd.ie/lod/osn/term/k:addr:postcode/v:38100>, <http://spatial.ucd.ie/lod/osn/term/k:admin_level/v:10>, <http://spatial.ucd.ie/lod/osn/term/k:type/v:boundary>, <http://spatial.ucd.ie/lod/osn/term/k:ref/v:038-01>, <http://spatial.ucd.ie/lod/osn/term/k:political_division/v:circonscription_législative>, <http://spatial.ucd.ie/lod/osn/term/k:type/v:boundary>, <http://spatial.ucd.ie/lod/osn/term/k:ref/v:038-02>, <http://spatial.ucd.ie/lod/osn/term/k:political_division/v:circonscription_législative>, <http://spatial.ucd.ie/lod/osn/term/k:type/v:boundary>, <http://spatial.ucd.ie/lod/osn/term/k:type/v:multipolygon>, <http://spatial.ucd.ie/lod/osn/term/k:source_ref/v:http://www.legifrance.gouv.fr/jo_pdf.do?cidTexte=JORFTEXT000000500853>, <http://spatial.ucd.ie/lod/osn/term/k:type/v:boundary>, <http://spatial.ucd.ie/lod/osn/term/k:ref:INSEE/v:3812>, <http://spatial.ucd.ie/lod/osn/term/k:disused:political_division/v:canton>, <http://spatial.ucd.ie/lod/osn/term/k:end_date/v:2015-03>, <http://spatial.ucd.ie/lod/osn/term/k:wikipedia/v:fr:Canton_de_Grenoble-1>, <http://spatial.ucd.ie/lod/osn/term/k:disused:boundary/v:political>, <http://spatial.ucd.ie/lod/osn/term/k:source_ref/v:http://www.legifrance.gouv.fr/jo_pdf.do?cidTexte=JORFTEXT000000500853>, <http://spatial.ucd.ie/lod/osn/term/k:type/v:boundary>, <http://spatial.ucd.ie/lod/osn/term/k:ref:INSEE/v:3813>, <http://spatial.ucd.ie/lod/osn/term/k:disused:political_division/v:canton>, <http://spatial.ucd.ie/lod/osn/term/k:end_date/v:2015-03>, <http://spatial.ucd.ie/lod/osn/term/k:wikipedia/v:fr:Canton_de_Grenoble-2>, <http://spatial.ucd.ie/lod/osn/term/k:disused:boundary/v:political>, <http://spatial.ucd.ie/lod/osn/term/k:source_ref/v:http://www.legifrance.gouv.fr/jo_pdf.do?cidTexte=JORFTEXT000000323359>, <http://spatial.ucd.ie/lod/osn/term/k:type/v:boundary>, <http://spatial.ucd.ie/lod/osn/term/k:ref:INSEE/v:3852>, <http://spatial.ucd.ie/lod/osn/term/k:disused:political_division/v:canton>, <http://spatial.ucd.ie/lod/osn/term/k:end_date/v:2015-03>, <http://spatial.ucd.ie/lod/osn/term/k:wikipedia/v:fr:Canton_de_Saint-Martin-d'Hères-Nord>, <http://spatial.ucd.ie/lod/osn/term/k:disused:boundary/v:political>, <http://spatial.ucd.ie/lod/osn/term/k:network/v:ncn>, <http://spatial.ucd.ie/lod/osn/term/k:route/v:bicycle>, <http://spatial.ucd.ie/lod/osn/term/k:type/v:route>, <http://spatial.ucd.ie/lod/osn/term/k:ref/v:V_63>, <http://spatial.ucd.ie/lod/osn/term/k:network/v:rcn>, <http://spatial.ucd.ie/lod/osn/term/k:route/v:bicycle>, <http://spatial.ucd.ie/lod/osn/term/k:type/v:route>, <http://spatial.ucd.ie/lod/osn/term/k:route/v:bus>, <http://spatial.ucd.ie/lod/osn/term/k:type/v:route>, <http://spatial.ucd.ie/lod/osn/term/k:public_transport:version/v:2>, <http://spatial.ucd.ie/lod/osn/term/k:network/v:TAG>, <http://spatial.ucd.ie/lod/osn/term/k:colour/v:#4b2582>, <http://spatial.ucd.ie/lod/osn/term/k:opening_hours/v:May-Jun_Sa-Su_10:15-19:00;_Jul-Aug_Mo-Su_10:15-19:00>, <http://spatial.ucd.ie/lod/osn/term/k:wheelchair/v:yes>, <http://spatial.ucd.ie/lod/osn/term/k:from/v:Saint_Ismier_-_Bois_Français>, <http://spatial.ucd.ie/lod/osn/term/k:operator/v:Transdev'_Dauphiné>, <http://spatial.ucd.ie/lod/osn/term/k:description/v:Circule_le_week-end_en_Mai_et_Juin,_et_tous_les_jours_en_Juillet_et_Août>, <http://spatial.ucd.ie/lod/osn/term/k:ref/v:57>, <http://spatial.ucd.ie/lod/osn/term/k:to/v:Grenoble_-_Victor_Hugo>, <http://spatial.ucd.ie/lod/osn/term/k:route/v:bus>, <http://spatial.ucd.ie/lod/osn/term/k:type/v:route>, <http://spatial.ucd.ie/lod/osn/term/k:public_transport:version/v:2>, <http://spatial.ucd.ie/lod/osn/term/k:network/v:TAG>, <http://spatial.ucd.ie/lod/osn/term/k:colour/v:#4b2582>, <http://spatial.ucd.ie/lod/osn/term/k:opening_hours/v:May-Jun_Sa-Su_10:15-19:00;_Jul-Aug_Mo-Su_10:15-19:00>, <http://spatial.ucd.ie/lod/osn/term/k:wheelchair/v:yes>, <http://spatial.ucd.ie/lod/osn/term/k:from/v:Grenoble_-_Victor_Hugo>, <http://spatial.ucd.ie/lod/osn/term/k:operator/v:Transdev'_Dauphiné>, <http://spatial.ucd.ie/lod/osn/term/k:description/v:Circule_le_week-end_en_Mai_et_Juin,_et_tous_les_jours_en_Juillet_et_Août>, <http://spatial.ucd.ie/lod/osn/term/k:ref/v:57>, <http://spatial.ucd.ie/lod/osn/term/k:to/v:Saint_Ismier_-_Bois_Français>, <http://spatial.ucd.ie/lod/osn/term/k:network/v:Transisère>, <http://spatial.ucd.ie/lod/osn/term/k:route/v:bus>, <http://spatial.ucd.ie/lod/osn/term/k:colour/v:#EC2A2F>, <http://spatial.ucd.ie/lod/osn/term/k:from/v:Chamrousse_-_Roche_Béranger_1750>, <http://spatial.ucd.ie/lod/osn/term/k:public_transport:version/v:2>, <http://spatial.ucd.ie/lod/osn/term/k:operator/v:VFD>, <http://spatial.ucd.ie/lod/osn/term/k:type/v:route>, <http://spatial.ucd.ie/lod/osn/term/k:ref/v:6010>, <http://spatial.ucd.ie/lod/osn/term/k:to/v:Grenoble_-_Gare_Routière>, <http://spatial.ucd.ie/lod/osn/term/k:network/v:Transisère>, <http://spatial.ucd.ie/lod/osn/term/k:route/v:bus>, <http://spatial.ucd.ie/lod/osn/term/k:colour/v:#EC2A2F>, <http://spatial.ucd.ie/lod/osn/term/k:from/v:Grenoble_-_Gare_Routière>, <http://spatial.ucd.ie/lod/osn/term/k:public_transport:version/v:2>, <http://spatial.ucd.ie/lod/osn/term/k:operator/v:VFD>, <http://spatial.ucd.ie/lod/osn/term/k:type/v:route>, <http://spatial.ucd.ie/lod/osn/term/k:ref/v:6010>, <http://spatial.ucd.ie/lod/osn/term/k:to/v:Chamrousse_-_Roche_Béranger_1750>, <http://spatial.ucd.ie/lod/osn/term/k:start_date/v:2015-03>, <http://spatial.ucd.ie/lod/osn/term/k:planned:ref/v:038-11>, <http://spatial.ucd.ie/lod/osn/term/k:political_division/v:canton>, <http://spatial.ucd.ie/lod/osn/term/k:type/v:boundary>, <http://spatial.ucd.ie/lod/osn/term/k:source:url/v:http://www.legifrance.gouv.fr/affichTexte.do?cidTexte=JORFTEXT000028637316>, <http://spatial.ucd.ie/lod/osn/term/k:start_date/v:2015-03>, <http://spatial.ucd.ie/lod/osn/term/k:planned:ref/v:038-22>, <http://spatial.ucd.ie/lod/osn/term/k:political_division/v:canton>, <http://spatial.ucd.ie/lod/osn/term/k:type/v:boundary>, <http://spatial.ucd.ie/lod/osn/term/k:source:url/v:http://www.legifrance.gouv.fr/affichTexte.do?cidTexte=JORFTEXT000028637316>, <http://spatial.ucd.ie/lod/osn/term/k:route/v:tram>, <http://spatial.ucd.ie/lod/osn/term/k:type/v:route>, <http://spatial.ucd.ie/lod/osn/term/k:public_transport:version/v:2>, <http://spatial.ucd.ie/lod/osn/term/k:network/v:TAG>, <http://spatial.ucd.ie/lod/osn/term/k:colour/v:#e4007c>, <http://spatial.ucd.ie/lod/osn/term/k:opening_hours/v:Mo-Su_00:00-01:30,04:30-24:00>, <http://spatial.ucd.ie/lod/osn/term/k:wheelchair/v:yes>, <http://spatial.ucd.ie/lod/osn/term/k:from/v:Seyssins_-_Le_Prisme>, <http://spatial.ucd.ie/lod/osn/term/k:operator/v:Semitag_Gières>, <http://spatial.ucd.ie/lod/osn/term/k:ref/v:C>, <http://spatial.ucd.ie/lod/osn/term/k:wikipedia/v:fr:Ligne_C_du_tramway_de_Grenoble>, <http://spatial.ucd.ie/lod/osn/term/k:to/v:Saint_Matin_d'Hères_-_Condillac_-_Universités>, <http://spatial.ucd.ie/lod/osn/term/k:route/v:tram>, <http://spatial.ucd.ie/lod/osn/term/k:type/v:route>, <http://spatial.ucd.ie/lod/osn/term/k:public_transport:version/v:2>, <http://spatial.ucd.ie/lod/osn/term/k:network/v:TAG>, <http://spatial.ucd.ie/lod/osn/term/k:colour/v:#e4007c>, <http://spatial.ucd.ie/lod/osn/term/k:opening_hours/v:Mo-Su_00:00-01:30,04:30-24:00>, <http://spatial.ucd.ie/lod/osn/term/k:wheelchair/v:yes>, <http://spatial.ucd.ie/lod/osn/term/k:from/v:Saint_Martin_d'Hères_-_Condillac_Universités>, <http://spatial.ucd.ie/lod/osn/term/k:operator/v:Semitag_Gières>, <http://spatial.ucd.ie/lod/osn/term/k:ref/v:C>, <http://spatial.ucd.ie/lod/osn/term/k:wikipedia/v:fr:Ligne_C_du_tramway_de_Grenoble>, <http://spatial.ucd.ie/lod/osn/term/k:to/v:Seyssins_-_Le_Prisme>, <http://spatial.ucd.ie/lod/osn/term/k:route/v:bus>, <http://spatial.ucd.ie/lod/osn/term/k:type/v:route>, <http://spatial.ucd.ie/lod/osn/term/k:public_transport:version/v:2>, <http://spatial.ucd.ie/lod/osn/term/k:network/v:TAG>, <http://spatial.ucd.ie/lod/osn/term/k:colour/v:#fed200>, <http://spatial.ucd.ie/lod/osn/term/k:opening_hours/v:Mo-Sa_00:00-00:45,05:30-24:00;_Su_00:00-00:45,06:00-24:00>, <http://spatial.ucd.ie/lod/osn/term/k:wheelchair/v:yes>, <http://spatial.ucd.ie/lod/osn/term/k:from/v:Eybens_-_Le_Verderet>, <http://spatial.ucd.ie/lod/osn/term/k:operator/v:Semitag_Eybens>, <http://spatial.ucd.ie/lod/osn/term/k:ref/v:C4>, <http://spatial.ucd.ie/lod/osn/term/k:to/v:Grenoble_-_Victor_Hugo>, <http://spatial.ucd.ie/lod/osn/term/k:route/v:bus>, <http://spatial.ucd.ie/lod/osn/term/k:type/v:route>, <http://spatial.ucd.ie/lod/osn/term/k:public_transport:version/v:2>, <http://spatial.ucd.ie/lod/osn/term/k:network/v:TAG>, <http://spatial.ucd.ie/lod/osn/term/k:colour/v:#00983c>, <http://spatial.ucd.ie/lod/osn/term/k:opening_hours/v:Mo-Sa_05:20-20:45;_Su_06:00-20:30>, <http://spatial.ucd.ie/lod/osn/term/k:wheelchair/v:yes>, <http://spatial.ucd.ie/lod/osn/term/k:from/v:Eybens_-_Maisons_Neuves>, <http://spatial.ucd.ie/lod/osn/term/k:operator/v:Semitag_Eybens>, <http://spatial.ucd.ie/lod/osn/term/k:ref/v:12>, <http://spatial.ucd.ie/lod/osn/term/k:to/v:Saint_Martin_d'Hères_-_Les_Alloves>, <http://spatial.ucd.ie/lod/osn/term/k:route/v:bus>, <http://spatial.ucd.ie/lod/osn/term/k:type/v:route>, <http://spatial.ucd.ie/lod/osn/term/k:public_transport:version/v:2>, <http://spatial.ucd.ie/lod/osn/term/k:network/v:TAG>, <http://spatial.ucd.ie/lod/osn/term/k:colour/v:#00983c>, <http://spatial.ucd.ie/lod/osn/term/k:opening_hours/v:Mo-Sa_05:20-20:45;_Su_06:00-20:30>, <http://spatial.ucd.ie/lod/osn/term/k:wheelchair/v:yes>, <http://spatial.ucd.ie/lod/osn/term/k:from/v:Saint_Martin_d'Hères_-_Les_Alloves>, <http://spatial.ucd.ie/lod/osn/term/k:operator/v:Semitag_Eybens>, <http://spatial.ucd.ie/lod/osn/term/k:ref/v:12>, <http://spatial.ucd.ie/lod/osn/term/k:to/v:Eybens_-_Maisons_Neuves>, <http://spatial.ucd.ie/lod/osn/term/k:route/v:bus>, <http://spatial.ucd.ie/lod/osn/term/k:type/v:route>, <http://spatial.ucd.ie/lod/osn/term/k:public_transport:version/v:2>, <http://spatial.ucd.ie/lod/osn/term/k:network/v:TAG>, <http://spatial.ucd.ie/lod/osn/term/k:colour/v:#28b3b4>, <http://spatial.ucd.ie/lod/osn/term/k:opening_hours/v:Mo-Sa_05:30-20:30;_Su_06:30-20:30>, <http://spatial.ucd.ie/lod/osn/term/k:wheelchair/v:yes>, <http://spatial.ucd.ie/lod/osn/term/k:from/v:Poisat_-_Prémol>, <http://spatial.ucd.ie/lod/osn/term/k:operator/v:Semitag_Eybens>, <http://spatial.ucd.ie/lod/osn/term/k:ref/v:13>, <http://spatial.ucd.ie/lod/osn/term/k:to/v:Meylan_-_Lycée_du_Grésivaudan>, <http://spatial.ucd.ie/lod/osn/term/k:route/v:bus>, <http://spatial.ucd.ie/lod/osn/term/k:type/v:route>, <http://spatial.ucd.ie/lod/osn/term/k:public_transport:version/v:2>, <http://spatial.ucd.ie/lod/osn/term/k:network/v:TAG>, <http://spatial.ucd.ie/lod/osn/term/k:colour/v:#d3d700>, <http://spatial.ucd.ie/lod/osn/term/k:opening_hours/v:Mo-Sa_05:30-20:30;_Su_06:45-20:00>, <http://spatial.ucd.ie/lod/osn/term/k:wheelchair/v:yes>, <http://spatial.ucd.ie/lod/osn/term/k:from/v:Gières_-_Gare-Universités>, <http://spatial.ucd.ie/lod/osn/term/k:operator/v:Transdev'_Dauphiné>, <http://spatial.ucd.ie/lod/osn/term/k:ref/v:14>, <http://spatial.ucd.ie/lod/osn/term/k:to/v:Grenoble_-_Verdun-Préfecture>, <http://spatial.ucd.ie/lod/osn/term/k:route/v:bus>, <http://spatial.ucd.ie/lod/osn/term/k:type/v:route>, <http://spatial.ucd.ie/lod/osn/term/k:public_transport:version/v:2>, <http://spatial.ucd.ie/lod/osn/term/k:network/v:TAG>, <http://spatial.ucd.ie/lod/osn/term/k:colour/v:#d3d700>, <http://spatial.ucd.ie/lod/osn/term/k:opening_hours/v:Mo-Sa_05:30-20:30;_Su_06:45-20:00>, <http://spatial.ucd.ie/lod/osn/term/k:wheelchair/v:yes>, <http://spatial.ucd.ie/lod/osn/term/k:from/v:Grenoble_-_Verdun-Préfecture>, <http://spatial.ucd.ie/lod/osn/term/k:operator/v:Transdev'_Dauphiné>, <http://spatial.ucd.ie/lod/osn/term/k:ref/v:14>, <http://spatial.ucd.ie/lod/osn/term/k:to/v:Gières_-_Gare-Universités>, <http://spatial.ucd.ie/lod/osn/term/k:network/v:TAG>, <http://spatial.ucd.ie/lod/osn/term/k:route/v:bus>, <http://spatial.ucd.ie/lod/osn/term/k:from/v:Domène_-_Les_Arnauds>, <http://spatial.ucd.ie/lod/osn/term/k:operator/v:Philibert>, <http://spatial.ucd.ie/lod/osn/term/k:colour/v:#67bd96>, <http://spatial.ucd.ie/lod/osn/term/k:public_transport:version/v:2>, <http://spatial.ucd.ie/lod/osn/term/k:type/v:route>, <http://spatial.ucd.ie/lod/osn/term/k:ref/v:15>, <http://spatial.ucd.ie/lod/osn/term/k:wheelchair/v:yes>, <http://spatial.ucd.ie/lod/osn/term/k:to/v:Grenoble_-_Verdun-Préfecture>, <http://spatial.ucd.ie/lod/osn/term/k:network/v:TAG>, <http://spatial.ucd.ie/lod/osn/term/k:route/v:bus>, <http://spatial.ucd.ie/lod/osn/term/k:from/v:Domène_-_Chenevières>, <http://spatial.ucd.ie/lod/osn/term/k:operator/v:Philibert>, <http://spatial.ucd.ie/lod/osn/term/k:colour/v:#67bd96>, <http://spatial.ucd.ie/lod/osn/term/k:public_transport:version/v:2>, <http://spatial.ucd.ie/lod/osn/term/k:type/v:route>, <http://spatial.ucd.ie/lod/osn/term/k:ref/v:15>, <http://spatial.ucd.ie/lod/osn/term/k:wheelchair/v:yes>, <http://spatial.ucd.ie/lod/osn/term/k:to/v:Grenoble_-_Verdun-Préfecture>, <http://spatial.ucd.ie/lod/osn/term/k:network/v:TAG>, <http://spatial.ucd.ie/lod/osn/term/k:route/v:bus>, <http://spatial.ucd.ie/lod/osn/term/k:from/v:Grenoble_-_Verdun-Préfecture>, <http://spatial.ucd.ie/lod/osn/term/k:operator/v:Philibert>, <http://spatial.ucd.ie/lod/osn/term/k:colour/v:#67bd96>, <http://spatial.ucd.ie/lod/osn/term/k:public_transport:version/v:2>, <http://spatial.ucd.ie/lod/osn/term/k:type/v:route>, <http://spatial.ucd.ie/lod/osn/term/k:ref/v:15>, <http://spatial.ucd.ie/lod/osn/term/k:wheelchair/v:yes>, <http://spatial.ucd.ie/lod/osn/term/k:to/v:Domène_-_Les_Arnauds>, <http://spatial.ucd.ie/lod/osn/term/k:network/v:TAG>, <http://spatial.ucd.ie/lod/osn/term/k:route/v:bus>, <http://spatial.ucd.ie/lod/osn/term/k:from/v:Grenoble_-_Verdun-Préfecture>, <http://spatial.ucd.ie/lod/osn/term/k:operator/v:Philibert>, <http://spatial.ucd.ie/lod/osn/term/k:colour/v:#67bd96>, <http://spatial.ucd.ie/lod/osn/term/k:public_transport:version/v:2>, <http://spatial.ucd.ie/lod/osn/term/k:type/v:route>, <http://spatial.ucd.ie/lod/osn/term/k:ref/v:15>, <http://spatial.ucd.ie/lod/osn/term/k:wheelchair/v:yes>, <http://spatial.ucd.ie/lod/osn/term/k:to/v:Domène_-_Chenevières>, <http://spatial.ucd.ie/lod/osn/term/k:postal_code/v:38100>, <http://spatial.ucd.ie/lod/osn/term/k:type/v:boundary>, <http://spatial.ucd.ie/lod/osn/term/k:leisure/v:park>, <http://spatial.ucd.ie/lod/osn/term/k:maxspeed/v:50>, <http://spatial.ucd.ie/lod/osn/term/k:highway/v:secondary>, <http://spatial.ucd.ie/lod/osn/term/k:lanes/v:3>, <http://spatial.ucd.ie/lod/osn/term/k:ref/v:D_5>, <http://spatial.ucd.ie/lod/osn/term/k:source:maxspeed/v:FR:urban>, <http://spatial.ucd.ie/lod/osn/term/k:oneway/v:yes>, <http://spatial.ucd.ie/lod/osn/term/k:frequency/v:0>, <http://spatial.ucd.ie/lod/osn/term/k:railway/v:tram>, <http://spatial.ucd.ie/lod/osn/term/k:voltage/v:750>, <http://spatial.ucd.ie/lod/osn/term/k:oneway/v:yes>, <http://spatial.ucd.ie/lod/osn/term/k:electrified/v:contact_line>, <http://spatial.ucd.ie/lod/osn/term/k:gauge/v:1435>, <http://spatial.ucd.ie/lod/osn/term/k:leisure/v:sports_centre>, <http://spatial.ucd.ie/lod/osn/term/k:website/v:http://www.palais-des-sports.com/>, <http://spatial.ucd.ie/lod/osn/term/k:phone/v:+33_4_76_54_27_27>, <http://spatial.ucd.ie/lod/osn/term/k:building/v:yes>, <http://spatial.ucd.ie/lod/osn/term/k:maxspeed/v:30>, <http://spatial.ucd.ie/lod/osn/term/k:highway/v:residential>, <http://spatial.ucd.ie/lod/osn/term/k:lanes/v:1>, <http://spatial.ucd.ie/lod/osn/term/k:cycleway:right/v:lane>, <http://spatial.ucd.ie/lod/osn/term/k:oneway/v:yes>, <http://spatial.ucd.ie/lod/osn/term/k:alt_name/v:Parc_Paul_Mistral>, <http://spatial.ucd.ie/lod/osn/term/k:leisure/v:park>, <http://spatial.ucd.ie/lod/osn/term/k:bicycle/v:yes>, <http://spatial.ucd.ie/lod/osn/term/k:foot/v:yes>, <http://spatial.ucd.ie/lod/osn/term/k:highway/v:footway>, <http://spatial.ucd.ie/lod/osn/term/k:surface/v:fine_gravel>, <http://spatial.ucd.ie/lod/osn/term/k:smoothness/v:intermediate>, <http://spatial.ucd.ie/lod/osn/term/k:bicycle/v:yes>, <http://spatial.ucd.ie/lod/osn/term/k:foot/v:yes>, <http://spatial.ucd.ie/lod/osn/term/k:highway/v:footway>, <http://spatial.ucd.ie/lod/osn/term/k:surface/v:fine_gravel>, <http://spatial.ucd.ie/lod/osn/term/k:smoothness/v:intermediate>, <http://spatial.ucd.ie/lod/osn/term/k:building/v:yes>, <http://spatial.ucd.ie/lod/osn/term/k:leisure/v:sports_centre>, <http://spatial.ucd.ie/lod/osn/term/k:admin_level/v:8>, <http://spatial.ucd.ie/lod/osn/term/k:building/v:yes>, <http://spatial.ucd.ie/lod/osn/term/k:bicycle/v:yes>, <http://spatial.ucd.ie/lod/osn/term/k:cycleway/v:opposite>, <http://spatial.ucd.ie/lod/osn/term/k:highway/v:service>, <http://spatial.ucd.ie/lod/osn/term/k:oneway/v:yes>, <http://spatial.ucd.ie/lod/osn/term/k:motor_vehicle/v:no>, <http://spatial.ucd.ie/lod/osn/term/k:lit/v:yes>, <http://spatial.ucd.ie/lod/osn/term/k:bicycle/v:designated>, <http://spatial.ucd.ie/lod/osn/term/k:segregated/v:no>, <http://spatial.ucd.ie/lod/osn/term/k:surface/v:asphalt>, <http://spatial.ucd.ie/lod/osn/term/k:oneway/v:no>, <http://spatial.ucd.ie/lod/osn/term/k:foot/v:designated>, <http://spatial.ucd.ie/lod/osn/term/k:width/v:3>, <http://spatial.ucd.ie/lod/osn/term/k:note/v:Voie_verte>, <http://spatial.ucd.ie/lod/osn/term/k:highway/v:path>, <http://spatial.ucd.ie/lod/osn/term/k:smoothness/v:excellent>, <http://spatial.ucd.ie/lod/osn/term/k:building:levels/v:7>, <http://spatial.ucd.ie/lod/osn/term/k:building/v:yes>, <http://spatial.ucd.ie/lod/osn/term/k:building/v:yes>, <http://spatial.ucd.ie/lod/osn/term/k:building/v:yes>, <http://spatial.ucd.ie/lod/osn/term/k:building/v:yes>, <http://spatial.ucd.ie/lod/osn/term/k:building/v:yes>, <http://spatial.ucd.ie/lod/osn/term/k:building/v:yes>, <http://spatial.ucd.ie/lod/osn/term/k:building/v:yes>, <http://spatial.ucd.ie/lod/osn/term/k:maxspeed/v:30>, <http://spatial.ucd.ie/lod/osn/term/k:highway/v:residential>, <http://spatial.ucd.ie/lod/osn/term/k:cycleway/v:lane>, <http://spatial.ucd.ie/lod/osn/term/k:motor_vehicle/v:no>, <http://spatial.ucd.ie/lod/osn/term/k:bicycle/v:designated>, <http://spatial.ucd.ie/lod/osn/term/k:foot/v:designated>, <http://spatial.ucd.ie/lod/osn/term/k:highway/v:path>, <http://spatial.ucd.ie/lod/osn/term/k:surface/v:asphalt>, <http://spatial.ucd.ie/lod/osn/term/k:waterway/v:stream>, <http://spatial.ucd.ie/lod/osn/term/k:motor_vehicle/v:no>, <http://spatial.ucd.ie/lod/osn/term/k:bicycle/v:designated>, <http://spatial.ucd.ie/lod/osn/term/k:surface/v:paved>, <http://spatial.ucd.ie/lod/osn/term/k:segregated/v:no>, <http://spatial.ucd.ie/lod/osn/term/k:tracktype/v:grade1>, <http://spatial.ucd.ie/lod/osn/term/k:foot/v:designated>, <http://spatial.ucd.ie/lod/osn/term/k:highway/v:footway>, <http://spatial.ucd.ie/lod/osn/term/k:bicycle/v:designated>, <http://spatial.ucd.ie/lod/osn/term/k:foot/v:designated>, <http://spatial.ucd.ie/lod/osn/term/k:highway/v:path>, <http://spatial.ucd.ie/lod/osn/term/k:highway/v:service>, <http://spatial.ucd.ie/lod/osn/term/k:oneway/v:yes>, <http://spatial.ucd.ie/lod/osn/term/k:highway/v:path>, <http://spatial.ucd.ie/lod/osn/term/k:surface/v:asphalt>, <http://spatial.ucd.ie/lod/osn/term/k:segregated/v:yes>, <http://spatial.ucd.ie/lod/osn/term/k:foot/v:designated>, <http://spatial.ucd.ie/lod/osn/term/k:bicycle/v:designated>, <http://spatial.ucd.ie/lod/osn/term/k:oneway/v:no>, <http://spatial.ucd.ie/lod/osn/term/k:fee/v:no>, <http://spatial.ucd.ie/lod/osn/term/k:amenity/v:parking>, <http://spatial.ucd.ie/lod/osn/term/k:parking/v:surface>, <http://spatial.ucd.ie/lod/osn/term/k:wheelchair/v:yes>, <http://spatial.ucd.ie/lod/osn/term/k:flood_prone/v:yes>, <http://spatial.ucd.ie/lod/osn/term/k:highway/v:path>, <http://spatial.ucd.ie/lod/osn/term/k:surface/v:dirt>, <http://spatial.ucd.ie/lod/osn/term/k:incline/v:up>, <http://spatial.ucd.ie/lod/osn/term/k:highway/v:steps>, <http://spatial.ucd.ie/lod/osn/term/k:area/v:yes>, <http://spatial.ucd.ie/lod/osn/term/k:highway/v:pedestrian>, <http://spatial.ucd.ie/lod/osn/term/k:highway/v:path>, <http://spatial.ucd.ie/lod/osn/term/k:maxspeed/v:30>, <http://spatial.ucd.ie/lod/osn/term/k:lit/v:yes>, <http://spatial.ucd.ie/lod/osn/term/k:lanes/v:1>, <http://spatial.ucd.ie/lod/osn/term/k:oneway/v:yes>, <http://spatial.ucd.ie/lod/osn/term/k:highway/v:residential>, <http://spatial.ucd.ie/lod/osn/term/k:cycleway/v:opposite>, <http://spatial.ucd.ie/lod/osn/term/k:motor_vehicle/v:no>, <http://spatial.ucd.ie/lod/osn/term/k:bicycle/v:designated>, <http://spatial.ucd.ie/lod/osn/term/k:surface/v:asphalt>, <http://spatial.ucd.ie/lod/osn/term/k:segregated/v:yes>, <http://spatial.ucd.ie/lod/osn/term/k:foot/v:designated>, <http://spatial.ucd.ie/lod/osn/term/k:highway/v:path>, <http://spatial.ucd.ie/lod/osn/term/k:oneway/v:yes>, <http://spatial.ucd.ie/lod/osn/term/k:highway/v:cycleway>, <http://spatial.ucd.ie/lod/osn/term/k:oneway/v:yes>, <http://spatial.ucd.ie/lod/osn/term/k:highway/v:service>, <http://spatial.ucd.ie/lod/osn/term/k:oneway/v:yes>, <http://spatial.ucd.ie/lod/osn/term/k:amenity/v:parking>, <http://spatial.ucd.ie/lod/osn/term/k:wheelchair/v:yes>, <http://spatial.ucd.ie/lod/osn/term/k:highway/v:service>, <http://spatial.ucd.ie/lod/osn/term/k:oneway/v:yes>, <http://spatial.ucd.ie/lod/osn/term/k:highway/v:service>, <http://spatial.ucd.ie/lod/osn/term/k:oneway/v:yes>, <http://spatial.ucd.ie/lod/osn/term/k:highway/v:path>, <http://spatial.ucd.ie/lod/osn/term/k:width/v:0.2>, <http://spatial.ucd.ie/lod/osn/term/k:surface/v:dirt>, <http://spatial.ucd.ie/lod/osn/term/k:bicycle/v:yes>, <http://spatial.ucd.ie/lod/osn/term/k:highway/v:path>, <http://spatial.ucd.ie/lod/osn/term/k:highway/v:service>, <http://spatial.ucd.ie/lod/osn/term/k:service/v:bus>, <http://spatial.ucd.ie/lod/osn/term/k:access/v:no>, <http://spatial.ucd.ie/lod/osn/term/k:psv/v:yes>, <http://spatial.ucd.ie/lod/osn/term/k:landuse/v:forest>, <http://spatial.ucd.ie/lod/osn/term/k:landuse/v:grass>, <http://spatial.ucd.ie/lod/osn/term/k:highway/v:footway>, <http://spatial.ucd.ie/lod/osn/term/k:surface/v:paved>, <http://spatial.ucd.ie/lod/osn/term/k:bicycle/v:yes>, <http://spatial.ucd.ie/lod/osn/term/k:highway/v:footway>, <http://spatial.ucd.ie/lod/osn/term/k:surface/v:fine_gravel>, <http://spatial.ucd.ie/lod/osn/term/k:smoothness/v:intermediate>, <http://spatial.ucd.ie/lod/osn/term/k:amenity/v:parking>, <http://spatial.ucd.ie/lod/osn/term/k:amenity/v:parking>, <http://spatial.ucd.ie/lod/osn/term/k:highway/v:footway>, <http://spatial.ucd.ie/lod/osn/term/k:bicycle/v:yes>, <http://spatial.ucd.ie/lod/osn/term/k:foot/v:yes>, <http://spatial.ucd.ie/lod/osn/term/k:highway/v:footway>, <http://spatial.ucd.ie/lod/osn/term/k:motor_vehicle/v:no>, <http://spatial.ucd.ie/lod/osn/term/k:bicycle/v:designated>, <http://spatial.ucd.ie/lod/osn/term/k:surface/v:fine_gravel>, <http://spatial.ucd.ie/lod/osn/term/k:segregated/v:no>, <http://spatial.ucd.ie/lod/osn/term/k:tracktype/v:grade1>, <http://spatial.ucd.ie/lod/osn/term/k:foot/v:designated>, <http://spatial.ucd.ie/lod/osn/term/k:highway/v:footway>, <http://spatial.ucd.ie/lod/osn/term/k:political_division/v:canton>, <http://spatial.ucd.ie/lod/osn/term/k:source_ref/v:http://www.legifrance.gouv.fr/jo_pdf.do?cidTexte=JORFTEXT000000500853>, <http://spatial.ucd.ie/lod/osn/term/k:highway/v:path>, <http://spatial.ucd.ie/lod/osn/term/k:highway/v:path>, <http://spatial.ucd.ie/lod/osn/term/k:highway/v:path>, <http://spatial.ucd.ie/lod/osn/term/k:surface/v:dirt>, <http://spatial.ucd.ie/lod/osn/term/k:flood_prone/v:yes>, <http://spatial.ucd.ie/lod/osn/term/k:width/v:0.3>, <http://spatial.ucd.ie/lod/osn/term/k:smoothness/v:very_bad>, <http://spatial.ucd.ie/lod/osn/term/k:motor_vehicle/v:no>, <http://spatial.ucd.ie/lod/osn/term/k:highway/v:path>, <http://spatial.ucd.ie/lod/osn/term/k:note/v:Voie_verte>, <http://spatial.ucd.ie/lod/osn/term/k:embankment/v:yes>, <http://spatial.ucd.ie/lod/osn/term/k:segregated/v:no>, <http://spatial.ucd.ie/lod/osn/term/k:ref/v:VV3>, <http://spatial.ucd.ie/lod/osn/term/k:bicycle/v:designated>, <http://spatial.ucd.ie/lod/osn/term/k:smoothness/v:excellent>, <http://spatial.ucd.ie/lod/osn/term/k:lit/v:yes>, <http://spatial.ucd.ie/lod/osn/term/k:surface/v:asphalt>, <http://spatial.ucd.ie/lod/osn/term/k:foot/v:designated>, <http://spatial.ucd.ie/lod/osn/term/k:width/v:3>, <http://spatial.ucd.ie/lod/osn/term/k:oneway/v:no>, <http://spatial.ucd.ie/lod/osn/term/k:motor_vehicle/v:no>, <http://spatial.ucd.ie/lod/osn/term/k:bicycle/v:designated>, <http://spatial.ucd.ie/lod/osn/term/k:surface/v:fine_gravel>, <http://spatial.ucd.ie/lod/osn/term/k:segregated/v:no>, <http://spatial.ucd.ie/lod/osn/term/k:foot/v:designated>, <http://spatial.ucd.ie/lod/osn/term/k:highway/v:footway>, <http://spatial.ucd.ie/lod/osn/term/k:footway/v:sidewalk>, <http://spatial.ucd.ie/lod/osn/term/k:highway/v:footway>, <http://spatial.ucd.ie/lod/osn/term/k:footway/v:sidewalk>, <http://spatial.ucd.ie/lod/osn/term/k:surface/v:fine_gravel>, <http://spatial.ucd.ie/lod/osn/term/k:highway/v:footway>, <http://spatial.ucd.ie/lod/osn/term/k:highway/v:footway>, <http://spatial.ucd.ie/lod/osn/term/k:footway/v:sidewalk>, <http://spatial.ucd.ie/lod/osn/term/k:motor_vehicle/v:no>, <http://spatial.ucd.ie/lod/osn/term/k:bicycle/v:designated>, <http://spatial.ucd.ie/lod/osn/term/k:surface/v:fine_gravel>, <http://spatial.ucd.ie/lod/osn/term/k:segregated/v:no>, <http://spatial.ucd.ie/lod/osn/term/k:foot/v:designated>, <http://spatial.ucd.ie/lod/osn/term/k:highway/v:path>, <http://spatial.ucd.ie/lod/osn/term/k:bicycle/v:designated>, <http://spatial.ucd.ie/lod/osn/term/k:motorcar/v:no>, <http://spatial.ucd.ie/lod/osn/term/k:surface/v:fine_gravel>, <http://spatial.ucd.ie/lod/osn/term/k:segregated/v:no>, <http://spatial.ucd.ie/lod/osn/term/k:motorcycle/v:no>, <http://spatial.ucd.ie/lod/osn/term/k:foot/v:designated>, <http://spatial.ucd.ie/lod/osn/term/k:highway/v:path>, <http://spatial.ucd.ie/lod/osn/term/k:smoothness/v:intermediate>, <http://spatial.ucd.ie/lod/osn/term/k:bicycle/v:designated>, <http://spatial.ucd.ie/lod/osn/term/k:footway/v:crossing>, <http://spatial.ucd.ie/lod/osn/term/k:highway/v:footway>, <http://spatial.ucd.ie/lod/osn/term/k:surface/v:paved>, <http://spatial.ucd.ie/lod/osn/term/k:segregated/v:yes>, <http://spatial.ucd.ie/lod/osn/term/k:motor_vehicle/v:no>, <http://spatial.ucd.ie/lod/osn/term/k:highway/v:footway>, <http://spatial.ucd.ie/lod/osn/term/k:surface/v:paved>, <http://spatial.ucd.ie/lod/osn/term/k:segregated/v:no>, <http://spatial.ucd.ie/lod/osn/term/k:bicycle/v:yes>, <http://spatial.ucd.ie/lod/osn/term/k:oneway/v:no>, <http://spatial.ucd.ie/lod/osn/term/k:highway/v:path>, <http://spatial.ucd.ie/lod/osn/term/k:surface/v:dirt>, <http://spatial.ucd.ie/lod/osn/term/k:highway/v:footway>, <http://spatial.ucd.ie/lod/osn/term/k:frequency/v:0>, <http://spatial.ucd.ie/lod/osn/term/k:railway/v:tram>, <http://spatial.ucd.ie/lod/osn/term/k:voltage/v:750>, <http://spatial.ucd.ie/lod/osn/term/k:oneway/v:yes>, <http://spatial.ucd.ie/lod/osn/term/k:electrified/v:contact_line>, <http://spatial.ucd.ie/lod/osn/term/k:gauge/v:1435>, <http://spatial.ucd.ie/lod/osn/term/k:alt_name/v:Ruisseau_d'Eybens>, <http://spatial.ucd.ie/lod/osn/term/k:waterway/v:stream>, <http://spatial.ucd.ie/lod/osn/term/k:ref:sandre/v:W2821100>, <http://spatial.ucd.ie/lod/osn/term/k:tunnel/v:culvert>, <http://spatial.ucd.ie/lod/osn/term/k:landuse/v:residential>, <http://spatial.ucd.ie/lod/osn/term/k:quarter/v:suburb>, <http://spatial.ucd.ie/lod/osn/term/k:motor_vehicle/v:no>, <http://spatial.ucd.ie/lod/osn/term/k:highway/v:path>, <http://spatial.ucd.ie/lod/osn/term/k:note/v:Voie_verte>, <http://spatial.ucd.ie/lod/osn/term/k:segregated/v:no>, <http://spatial.ucd.ie/lod/osn/term/k:width/v:3>, <http://spatial.ucd.ie/lod/osn/term/k:bicycle/v:designated>, <http://spatial.ucd.ie/lod/osn/term/k:smoothness/v:excellent>, <http://spatial.ucd.ie/lod/osn/term/k:lit/v:yes>, <http://spatial.ucd.ie/lod/osn/term/k:surface/v:asphalt>, <http://spatial.ucd.ie/lod/osn/term/k:foot/v:designated>, <http://spatial.ucd.ie/lod/osn/term/k:ref/v:VV3>, <http://spatial.ucd.ie/lod/osn/term/k:oneway/v:no>, <http://spatial.ucd.ie/lod/osn/term/k:barrier/v:fence>, <http://spatial.ucd.ie/lod/osn/term/k:highway/v:service>, <http://spatial.ucd.ie/lod/osn/term/k:access/v:private>, <http://spatial.ucd.ie/lod/osn/term/k:surface/v:asphalt>, <http://spatial.ucd.ie/lod/osn/term/k:oneway/v:yes>, <http://spatial.ucd.ie/lod/osn/term/k:maxspeed/v:30>, <http://spatial.ucd.ie/lod/osn/term/k:bicycle:forward/v:no>, <http://spatial.ucd.ie/lod/osn/term/k:ref/v:D_1087>, <http://spatial.ucd.ie/lod/osn/term/k:highway/v:secondary>, <http://spatial.ucd.ie/lod/osn/term/k:source:maxspeed/v:FR:zone30>, <http://spatial.ucd.ie/lod/osn/term/k:natural/v:wood>))\n",
      " FILTER (STRSTARTS(STR(?lgdoConcept), \"http://linkedgeodata.org/ontology\"^^xsd:string))\n",
      "}\n",
      "\n",
      "0 valid tags\n",
      "[]\n",
      "[]\n",
      "111\n",
      "[80348, 80349, 278498, 558483, 558491, 901897, 901900, 1192104, 1192408, 2186567, 2186568, 2547635, 2695516, 2695517, 2695542, 2739358, 2808054, 2920548, 2920549, 3061111, 3061112, 3573509, 3575532, 3921460, 3921461, 3921468, 3922427, 3922428, 3922430, 3922431, 3922432, 3922433, 3922434, 3922435, 3922436, 4675870, 4014810, 4796857, 5528525, 22981584, 26733970, 28340980, 28418415, 28680538, 28699752, 31340292, 31341525, 31754719, 31754852, 34695547, 35160930, 35160933, 35160941, 35160942, 35160943, 35160944, 41740707, 42818433, 42823716, 44141546, 52567123, 52567128, 52567130, 54296385, 55695582, 55695585, 55696409, 62188213, 66756570, 66756572, 66756577, 69486253, 69486256, 69563012, 69563052, 165494441, 165513716, 170084001, 183471219, 183471265, 183471302, 183471327, 183895380, 183895381, 240370869, 244086429, 244086433, 245301083, 263551568, 263551575, 263551576, 264671213, 286867715, 286867716, 286867718, 286867723, 309987463, 309987464, 343750903, 343750909, 348324992, 348324994, 348353733, 380419334, 382417716, 382428603, 385455367, 410094293, 410094307, 428979486, 440478753]\n",
      "0\n"
     ]
    }
   ],
   "source": [
    "if len(keys) == 0:\n",
    "    osn_terms = []\n",
    "    #invalid_chars = [' ', '<', '>', '|']\n",
    "    \n",
    "    for tags in osm_features['tags']:\n",
    "            for item in tags.items():\n",
    "                if item[0] not in excluded_keys and re.match('[a-z]*', item[0]) and re.match('[a-z]*', item[1]):\n",
    "                    uri = \"http://spatial.ucd.ie/lod/osn/term/k:{0}/v:{1}\".format(item[0], item[1]).replace(' ', '_')\n",
    "                    #uri = ''.join([i if i not in invalid_chars else '_' for i in uri])\n",
    "                    osn_terms.append(\"<{0}>\".format(uri))\n",
    "\n",
    "    query = \"\"\"\n",
    "PREFIX skos:<http://www.w3.org/2004/02/skos/core#>\n",
    "PREFIX rdf:<http://www.w3.org/1999/02/22-rdf-syntax-ns#>\n",
    "PREFIX rdfs:<http://www.w3.org/2000/01/rdf-schema#>\n",
    "PREFIX xsd:<http://www.w3.org/2001/XMLSchema#>\n",
    "\n",
    "SELECT ?osnConcept ?lgdoConcept\n",
    "{\n",
    " ?osnConcept skos:exactMatch ?lgdoConcept .\n",
    " \n",
    " FILTER (?osnConcept IN (\"\"\" + \", \".join(osn_terms) + \"\"\"))\n",
    " FILTER (STRSTARTS(STR(?lgdoConcept), \"http://linkedgeodata.org/ontology\"^^xsd:string))\n",
    "}\n",
    "\"\"\"\n",
    "    print(query)\n",
    "    \n",
    "    response = osn_graph.query(query)\n",
    "    \n",
    "    valid_tags = []\n",
    "    lgd_concepts = []\n",
    "    for row in response:\n",
    "        osn_concept = row[0]\n",
    "        osn_concept = 'k:{0}'.format(osn_concept.split('k:')[-1])\n",
    "        valid_tags.append(osn_concept)\n",
    "        lgd_concepts.append(str(row[1]).split('/')[-1])\n",
    "    \n",
    "    print(len(valid_tags), 'valid tags')\n",
    "    print(valid_tags)\n",
    "    print(lgd_concepts)\n",
    "    \n",
    "    #Exclude features that don't have the valid tags\n",
    "    to_drop = []\n",
    "    for tags, idx in zip(osm_features['tags'], osm_features.index):\n",
    "        #print(idx, tags.items())\n",
    "        feature_tags = ['k:{0}/v:{1}'.format(item[0], item[1]) for item in tags.items()]\n",
    "        if not any([tag in valid_tags for tag in feature_tags]):\n",
    "            to_drop.append(idx)\n",
    "    \n",
    "    print(len(osm_features))\n",
    "    print(to_drop)\n",
    "    osm_features = osm_features.drop(to_drop)\n",
    "    print(len(osm_features))"
   ]
  },
  {
   "cell_type": "markdown",
   "metadata": {},
   "source": [
    "## Map"
   ]
  },
  {
   "cell_type": "code",
   "execution_count": 14,
   "metadata": {
    "collapsed": false,
    "scrolled": true
   },
   "outputs": [
    {
     "name": "stdout",
     "output_type": "stream",
     "text": [
      "0\n",
      "0\n"
     ]
    }
   ],
   "source": [
    "linestring = \"LINESTRING(\"\n",
    "\n",
    "for i, point_data in enumerate(points_data):\n",
    "    point = point_data.point\n",
    "    linestring += str(point.longitude) + \" \" + str(point.latitude)\n",
    "    if i < len(points_data)-1:\n",
    "        linestring += \", \"\n",
    "\n",
    "linestring += \")\"\n",
    "\n",
    "trajectory = wkt.loads(linestring)\n",
    "\n",
    "features = []\n",
    "features_json = []\n",
    "marker_data = []\n",
    "\n",
    "to_drop = []\n",
    "for item in osm_features.itertuples():\n",
    "    try:\n",
    "        feature0 = wkt.loads(item.geometry)\n",
    "        json_feature0 = geojson.Feature(geometry=feature0, properties={\"id\": str(item.Index)})\n",
    "\n",
    "        feature1 = feature0.buffer(buffer_size)\n",
    "        json_feature1 = geojson.Feature(geometry=feature1)\n",
    "\n",
    "        feature2 = polygonize_full(feature0)[0]\n",
    "        json_feature2 = geojson.Feature(geometry=feature2)\n",
    "\n",
    "        feature3 = cascaded_union([feature1, feature2])\n",
    "        json_feature3 = geojson.Feature(geometry=feature3)\n",
    "\n",
    "        #0: original geometry (linestring)\n",
    "        #1: buffered 0 (polygon)\n",
    "        #2: polygonized\n",
    "        #3: union of 1 and 2\n",
    "        # This is for visualization purposes.\n",
    "        # A more efficient solution would be to buffer the polygonized line (feature2)\n",
    "        features_json.append([json_feature0, json_feature1, json_feature2, json_feature3])\n",
    "        features.append(feature3)\n",
    "\n",
    "        rep_point = feature3.representative_point()\n",
    "        popup_text = \"{0}\\n{1}\".format(str(item.Index), repr(item.tags))\n",
    "        if item.relation and len(item.relation) > 0:\n",
    "            popup_text += \" | part of: \" + str(item.relation)\n",
    "        marker_data.append(([rep_point.y, rep_point.x], popup_text))\n",
    "    except Exception as e:\n",
    "        #features_json.append([None, None, None, None])\n",
    "        #features.append(None)\n",
    "        #marker_data.append([None, None])\n",
    "        print(e)\n",
    "        print(item.Index)\n",
    "        print(item.label)\n",
    "        print(item.geometry)\n",
    "        to_drop.append(item.Index)\n",
    "\n",
    "\n",
    "print(len(osm_features))\n",
    "osm_features = osm_features.drop(to_drop)\n",
    "print(len(osm_features))"
   ]
  },
  {
   "cell_type": "code",
   "execution_count": 15,
   "metadata": {
    "collapsed": false,
    "slideshow": {
     "slide_type": "-"
    }
   },
   "outputs": [
    {
     "data": {
      "text/html": [
       "<div style=\"width:100%;\"><div style=\"position:relative;width:100%;height:0;padding-bottom:60%;\"><iframe src=\"data:text/html;base64,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\" style=\"position:absolute;width:100%;height:100%;left:0;top:0;\"></iframe></div></div>"
      ],
      "text/plain": [
       "<folium.folium.Map at 0x22b277eedd8>"
      ]
     },
     "execution_count": 15,
     "metadata": {},
     "output_type": "execute_result"
    }
   ],
   "source": [
    "traj_map = folium.Map(tiles=tileset, attr=attribution, max_zoom=25)\n",
    "\n",
    "for i, feat in enumerate(features_json):\n",
    "    traj_map.choropleth(geo_str=feat[0], line_color='black', line_weight=3)\n",
    "    #traj_map.choropleth(geo_str=feat[1], fill_color='gray', line_weight=1, fill_opacity=0.2)\n",
    "    #traj_map.choropleth(geo_str=feat[2], fill_color='green', line_weight=1, fill_opacity=0.2)\n",
    "    traj_map.choropleth(geo_str=feat[3], fill_color='red', line_weight=1, fill_opacity=.1)\n",
    "    folium.Marker(location=marker_data[i][0], popup=marker_data[i][1]).add_to(traj_map)\n",
    "\n",
    "start_mark.add_to(traj_map)\n",
    "end_mark.add_to(traj_map)\n",
    "\n",
    "line.add_to(traj_map)\n",
    "\n",
    "traj_map.fit_bounds(line.get_bounds())\n",
    "\n",
    "traj_map"
   ]
  },
  {
   "cell_type": "code",
   "execution_count": 16,
   "metadata": {
    "collapsed": false,
    "scrolled": true
   },
   "outputs": [
    {
     "name": "stdout",
     "output_type": "stream",
     "text": [
      "0 intersections retrieved.\n"
     ]
    }
   ],
   "source": [
    "feature_intervals = osm.compute_intersections(gpx, osm_features) \n",
    "print(\"{0} intersections retrieved.\".format(len(feature_intervals)))\n",
    "#feature_intervals"
   ]
  },
  {
   "cell_type": "markdown",
   "metadata": {},
   "source": [
    "## Group by id"
   ]
  },
  {
   "cell_type": "code",
   "execution_count": 17,
   "metadata": {
    "collapsed": false
   },
   "outputs": [
    {
     "name": "stdout",
     "output_type": "stream",
     "text": [
      "0 unique features.\n"
     ]
    }
   ],
   "source": [
    "groups = feature_intervals.groupby(level=0)\n",
    "print(len(groups), 'unique features.')"
   ]
  },
  {
   "cell_type": "markdown",
   "metadata": {},
   "source": [
    "## Select features"
   ]
  },
  {
   "cell_type": "code",
   "execution_count": 18,
   "metadata": {
    "collapsed": false,
    "scrolled": true
   },
   "outputs": [],
   "source": [
    "selected = []\n",
    "for group in groups:\n",
    "    if group[1]['length_ratio'].sum() > minimum_length_ratio or group[1]['duration_ratio'].sum() > minimum_duration_ratio:\n",
    "        #tag_present = False\n",
    "        #for key in osm_features.loc[group[0]]['tags'].keys():\n",
    "        #    if key in keys:\n",
    "        #        tag_present = True\n",
    "        #        continue\n",
    "\n",
    "        #if tag_present:\n",
    "            print('')\n",
    "            print(group[0])\n",
    "            print('relations:', osm_features.loc[group[0]]['relation'])\n",
    "            print(osm_features.loc[group[0]]['label'], osm_features.loc[group[0]]['tags'])\n",
    "            print(\"length ratio: {:.2f}%\".format(group[1]['length_ratio'].sum()*100))\n",
    "            print(\"duration ratio: {:.2f}%\".format(group[1]['duration_ratio'].sum()*100))\n",
    "            selected.append(group[0])"
   ]
  },
  {
   "cell_type": "markdown",
   "metadata": {},
   "source": [
    "## Map of selected features"
   ]
  },
  {
   "cell_type": "code",
   "execution_count": 19,
   "metadata": {
    "collapsed": false
   },
   "outputs": [
    {
     "data": {
      "text/html": [
       "<div style=\"width:100%;\"><div style=\"position:relative;width:100%;height:0;padding-bottom:60%;\"><iframe src=\"data:text/html;base64,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\" style=\"position:absolute;width:100%;height:100%;left:0;top:0;\"></iframe></div></div>"
      ],
      "text/plain": [
       "<folium.folium.Map at 0x22b271ef668>"
      ]
     },
     "execution_count": 19,
     "metadata": {},
     "output_type": "execute_result"
    }
   ],
   "source": [
    "selected_map = folium.Map(tiles=tileset, attr=attribution, max_zoom=25)\n",
    "\n",
    "for osm_index in selected:\n",
    "    index = osm_features.index.get_loc(osm_index)\n",
    "    selected_map.choropleth(geo_str=features_json[index][3], line_weight=4, \n",
    "                            line_opacity=.6, line_color='black', fill_color='red', fill_opacity=.1)\n",
    "    #folium.Marker(location=marker_data[index][0], popup=marker_data[index][1]).add_to(selected_map)\n",
    "    print(marker_data[index][1])\n",
    "    \n",
    "start_mark.add_to(selected_map)\n",
    "end_mark.add_to(selected_map)\n",
    "line.add_to(selected_map)\n",
    "\n",
    "selected_map.fit_bounds(line._get_self_bounds())\n",
    "\n",
    "selected_map"
   ]
  },
  {
   "cell_type": "markdown",
   "metadata": {},
   "source": [
    "## Create STEP instances"
   ]
  },
  {
   "cell_type": "code",
   "execution_count": 20,
   "metadata": {
    "collapsed": false
   },
   "outputs": [],
   "source": [
    "#for key, value in osm_features.loc[group[0]]['tags'].iteritems():\n",
    "#    if key in keys:\n",
    "#        print '{0}k:{1}/v:{2}'.format(osn_namespace, key, value)\n",
    "# building=yes\n",
    "#  (leisure|natural|landuse)*=(water|riverbank|residential|park)*\n",
    "# merge\n",
    "# http://spatial.ucd.ie/lod/osn/term/\n",
    "#'''\n",
    "#PREFIX skos: <http://www.w3.org/2004/02/skos/core#>\n",
    "\n",
    "#SELECT DISTINCT * \n",
    "#{ \n",
    "# GRAPH <http://OSN> {\n",
    "#  <http://spatial.ucd.ie/lod/osn/term/k:leisure/v:park> skos:related ?related .\n",
    "# }\n",
    "#}"
   ]
  },
  {
   "cell_type": "code",
   "execution_count": 21,
   "metadata": {
    "collapsed": false
   },
   "outputs": [],
   "source": [
    "OSNT = Namespace('http://spatial.ucd.ie/lod/osn/term/')\n",
    "LGDR = Namespace('http://linkedgeodata.org/triplify/')\n",
    "EXAMPLE = Namespace('http://example.com/resource/')\n",
    "\n",
    "raw = utility.create_raw_trajectory(gpx)"
   ]
  },
  {
   "cell_type": "code",
   "execution_count": 22,
   "metadata": {
    "collapsed": false
   },
   "outputs": [],
   "source": [
    "foi_places = step.FeatureOfInterest(\"Places\")\n",
    "\n",
    "for group in groups:\n",
    "    if group[0] in selected:\n",
    "        intervals = group[1]\n",
    "        feature_id = group[0]\n",
    "        \n",
    "        semantics_str = 'near'\n",
    "        if osm_features.loc[feature_id].label:\n",
    "            semantics_str += ' ' +osm_features.loc[feature_id].label\n",
    "        place_semantics = step.QualitativeDescription(semantics_str)\n",
    "        \n",
    "        if osm_features.loc[feature_id].relation is None:\n",
    "            element_type = 'relation'\n",
    "        else:\n",
    "            element_type = 'way'\n",
    "\n",
    "        osm_label = str(osm_features.loc[feature_id]['label'])\n",
    "        \n",
    "        related_tags = []\n",
    "        for key, value in osm_features.loc[feature_id]['tags'].items():\n",
    "            if key in keys:\n",
    "                related_tags.append(URIRef(\"{0}k:{1}/v:{2}\".format(OSNT, key, value)))\n",
    "                \n",
    "        lgdo_uri = URIRef(\"{0}{1}{2}\".format(LGDR, element_type, feature_id))\n",
    "        \n",
    "        contextual_element = step.ContextualElement(osm_label, lgdo_uri, related_tags)\n",
    "        \n",
    "        for item in intervals.itertuples():\n",
    "            start_fix = raw.get_fix(points_data[item.start_index].point.time)\n",
    "            end_fix = raw.get_fix(points_data[item.end_index].point.time)\n",
    "            st_extent = step.SpatiotemporalExtent(start_fix, end_fix)\n",
    "\n",
    "            episode = step.Episode(st_extent, place_semantics)\n",
    "            episode.relate(contextual_element)\n",
    "\n",
    "            foi_places.add_episode(episode)\n",
    "\n",
    "#print(foi_places)"
   ]
  },
  {
   "cell_type": "code",
   "execution_count": 23,
   "metadata": {
    "collapsed": false
   },
   "outputs": [],
   "source": [
    "triples = foi_places.triplify()\n",
    "#print(triples)"
   ]
  },
  {
   "cell_type": "code",
   "execution_count": 24,
   "metadata": {
    "collapsed": false
   },
   "outputs": [],
   "source": [
    "g = rdflib.Graph()\n",
    "g.bind('step', namespaces.STEP)\n",
    "g.bind('skos', namespaces.SKOS)\n",
    "g.bind('geo', namespaces.GEO)\n",
    "g.bind('time', namespaces.TIME)\n",
    "g.bind('owl', namespaces.OWL)\n",
    "\n",
    "for triple in triples:\n",
    "    g.add(triple)\n",
    "    \n",
    "g.serialize(\"geographic_features_of_interest.rdf\")"
   ]
  }
 ],
 "metadata": {
  "anaconda-cloud": {},
  "kernelspec": {
   "display_name": "Python 3",
   "language": "python",
   "name": "python3"
  },
  "language_info": {
   "codemirror_mode": {
    "name": "ipython",
    "version": 3
   },
   "file_extension": ".py",
   "mimetype": "text/x-python",
   "name": "python",
   "nbconvert_exporter": "python",
   "pygments_lexer": "ipython3",
   "version": "3.6.3"
  }
 },
 "nbformat": 4,
 "nbformat_minor": 2
}
